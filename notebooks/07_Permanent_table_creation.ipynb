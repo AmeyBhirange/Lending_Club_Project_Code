{
 "cells": [
  {
   "cell_type": "code",
   "execution_count": 1,
   "id": "decaa5c2",
   "metadata": {},
   "outputs": [],
   "source": [
    "from pyspark.sql import SparkSession\n",
    "import getpass \n",
    "username=getpass.getuser()\n",
    "spark=SparkSession. \\\n",
    "    builder. \\\n",
    "    config('spark.ui.port','0'). \\\n",
    "    config(\"spark.sql.warehouse.dir\", f\"/user/{username}/warehouse\"). \\\n",
    "    config('spark.shuffle.useOldFetchProtocol', 'true'). \\\n",
    "    enableHiveSupport(). \\\n",
    "    master('yarn'). \\\n",
    "    getOrCreate()"
   ]
  },
  {
   "cell_type": "code",
   "execution_count": 16,
   "id": "b5cbf5c9",
   "metadata": {},
   "outputs": [
    {
     "data": {
      "text/html": [
       "<table border='1'>\n",
       "<tr><th></th></tr>\n",
       "</table>\n"
      ],
      "text/plain": [
       "++\n",
       "||\n",
       "++\n",
       "++"
      ]
     },
     "execution_count": 16,
     "metadata": {},
     "output_type": "execute_result"
    }
   ],
   "source": [
    "spark.sql(\"CREATE DATABASE if not exists itv010698_lending_club_project\")"
   ]
  },
  {
   "cell_type": "markdown",
   "id": "8ddaa123",
   "metadata": {},
   "source": [
    "### Permenent table creation of customers data"
   ]
  },
  {
   "cell_type": "code",
   "execution_count": 5,
   "id": "747ae34d",
   "metadata": {},
   "outputs": [
    {
     "data": {
      "text/html": [
       "<table border='1'>\n",
       "<tr><th></th></tr>\n",
       "</table>\n"
      ],
      "text/plain": [
       "++\n",
       "||\n",
       "++\n",
       "++"
      ]
     },
     "execution_count": 5,
     "metadata": {},
     "output_type": "execute_result"
    }
   ],
   "source": [
    "spark.sql(\"\"\"CREATE EXTERNAL TABLE if not exists itv010698_lending_club_project.customers\n",
    "            (member_id string, \n",
    "            emp_title string, \n",
    "            emp_length int, \n",
    "            home_ownership string, \n",
    "            annual_income float, \n",
    "            address_state string, \n",
    "            address_zipcode string, \n",
    "            address_country string, \n",
    "            grade string, \n",
    "            sub_grade string, \n",
    "            verification_status string, \n",
    "            total_high_credit_limit float, \n",
    "            application_type string, \n",
    "            join_annual_income float, \n",
    "            verification_status_joint string, \n",
    "            ingest_date timestamp) \n",
    "stored as parquet LOCATION '/public/trendytech/lendingclubproject/cleaned/customers_parquet'\"\"\")"
   ]
  },
  {
   "cell_type": "code",
   "execution_count": 6,
   "id": "2c2ec533",
   "metadata": {},
   "outputs": [
    {
     "data": {
      "text/html": [
       "<table border='1'>\n",
       "<tr><th>member_id</th><th>emp_title</th><th>emp_length</th><th>home_ownership</th><th>annual_income</th><th>address_state</th><th>address_zipcode</th><th>address_country</th><th>grade</th><th>sub_grade</th><th>verification_status</th><th>total_high_credit_limit</th><th>application_type</th><th>join_annual_income</th><th>verification_status_joint</th><th>ingest_date</th></tr>\n",
       "<tr><td>45c47c49ef9346a50...</td><td>area sales manager</td><td>5</td><td>MORTGAGE</td><td>48000.0</td><td>NY</td><td>131xx</td><td>USA</td><td>C</td><td>C2</td><td>Source Verified</td><td>221587.0</td><td>Joint App</td><td>90000.0</td><td>Source Verified</td><td>2023-09-15 17:18:...</td></tr>\n",
       "<tr><td>ae8702f966762bdde...</td><td>Manager</td><td>7</td><td>MORTGAGE</td><td>105000.0</td><td>NJ</td><td>087xx</td><td>USA</td><td>C</td><td>C3</td><td>Source Verified</td><td>51300.0</td><td>Individual</td><td>null</td><td>null</td><td>2023-09-15 17:18:...</td></tr>\n",
       "<tr><td>bfdd1a23cef47a143...</td><td>Admitting</td><td>9</td><td>MORTGAGE</td><td>70000.0</td><td>OR</td><td>970xx</td><td>USA</td><td>B</td><td>B2</td><td>Source Verified</td><td>331700.0</td><td>Individual</td><td>null</td><td>null</td><td>2023-09-15 17:18:...</td></tr>\n",
       "<tr><td>449c9106149e63f46...</td><td>technical Support</td><td>9</td><td>RENT</td><td>39000.0</td><td>FL</td><td>337xx</td><td>USA</td><td>D</td><td>D5</td><td>Not Verified</td><td>24700.0</td><td>Individual</td><td>null</td><td>null</td><td>2023-09-15 17:18:...</td></tr>\n",
       "<tr><td>ed2036be1311f9c09...</td><td>Branch Manager</td><td>3</td><td>RENT</td><td>65000.0</td><td>CA</td><td>926xx</td><td>USA</td><td>C</td><td>C5</td><td>Not Verified</td><td>28826.0</td><td>Individual</td><td>null</td><td>null</td><td>2023-09-15 17:18:...</td></tr>\n",
       "<tr><td>736246ee4d2dad920...</td><td>Licensed Practica...</td><td>10</td><td>RENT</td><td>103000.0</td><td>NY</td><td>112xx</td><td>USA</td><td>C</td><td>C1</td><td>Not Verified</td><td>22925.0</td><td>Individual</td><td>null</td><td>null</td><td>2023-09-15 17:18:...</td></tr>\n",
       "<tr><td>f6d19088cf86af4fb...</td><td>Salesman</td><td>1</td><td>OWN</td><td>45000.0</td><td>TN</td><td>383xx</td><td>USA</td><td>A</td><td>A2</td><td>Verified</td><td>55490.0</td><td>Individual</td><td>null</td><td>null</td><td>2023-09-15 17:18:...</td></tr>\n",
       "<tr><td>011745fc19bd5f0bb...</td><td>Teacher</td><td>10</td><td>RENT</td><td>60000.0</td><td>CA</td><td>913xx</td><td>USA</td><td>B</td><td>B1</td><td>Source Verified</td><td>44118.0</td><td>Individual</td><td>null</td><td>null</td><td>2023-09-15 17:18:...</td></tr>\n",
       "<tr><td>20d35c3a6a5048c8c...</td><td>Vice President</td><td>1</td><td>MORTGAGE</td><td>406000.0</td><td>CA</td><td>921xx</td><td>USA</td><td>A</td><td>A3</td><td>Verified</td><td>819143.0</td><td>Individual</td><td>null</td><td>null</td><td>2023-09-15 17:18:...</td></tr>\n",
       "<tr><td>6d3fe62b08e604a83...</td><td>Solutions Analyst</td><td>1</td><td>RENT</td><td>36000.0</td><td>VA</td><td>201xx</td><td>USA</td><td>B</td><td>B4</td><td>Not Verified</td><td>34970.0</td><td>Individual</td><td>null</td><td>null</td><td>2023-09-15 17:18:...</td></tr>\n",
       "</table>\n"
      ],
      "text/plain": [
       "+--------------------+-------------------+----------+--------------+-------------+-------------+---------------+---------------+-----+---------+-------------------+-----------------------+----------------+------------------+-------------------------+--------------------+\n",
       "|           member_id|          emp_title|emp_length|home_ownership|annual_income|address_state|address_zipcode|address_country|grade|sub_grade|verification_status|total_high_credit_limit|application_type|join_annual_income|verification_status_joint|         ingest_date|\n",
       "+--------------------+-------------------+----------+--------------+-------------+-------------+---------------+---------------+-----+---------+-------------------+-----------------------+----------------+------------------+-------------------------+--------------------+\n",
       "|de8d40bb549f3e676...|     Slot Club Lead|        10|          RENT|      42000.0|           CO|          800xx|            USA|    A|       A5|    Source Verified|                19200.0|      Individual|              null|                     null|2023-09-15 17:18:...|\n",
       "|cb2bfe6ba8d8040ea...|Development Manager|         1|      MORTGAGE|     120000.0|           NJ|          080xx|            USA|    B|       B2|           Verified|               521247.0|      Individual|              null|                     null|2023-09-15 17:18:...|\n",
       "|fd6cd0f257e376951...|         Chef/Baker|         5|          RENT|      25000.0|           GA|          310xx|            USA|    E|       E2|    Source Verified|                18200.0|      Individual|              null|                     null|2023-09-15 17:18:...|\n",
       "|46a7d1486ffcd4024...|    Service Manager|         3|      MORTGAGE|     122000.0|           NY|          113xx|            USA|    C|       C3|           Verified|               232468.0|      Individual|              null|                     null|2023-09-15 17:18:...|\n",
       "|ec70891c26a58aad8...|Maintenance Manager|         1|          RENT|      35000.0|           CO|          804xx|            USA|    C|       C1|           Verified|                16200.0|      Individual|              null|                     null|2023-09-15 17:18:...|\n",
       "|8b5e4553da13c2336...|             Driver|        10|          RENT|      65000.0|           NY|          112xx|            USA|    C|       C2|           Verified|                15200.0|      Individual|              null|                     null|2023-09-15 17:18:...|\n",
       "|ea940e76460ba9551...|          Carpenter|         2|      MORTGAGE|      72000.0|           IL|          622xx|            USA|    B|       B3|    Source Verified|                75875.0|      Individual|              null|                     null|2023-09-15 17:18:...|\n",
       "|1bff1ca3a1f99b4d7...|              Owner|         3|          RENT|     103000.0|           NC|          282xx|            USA|    D|       D2|    Source Verified|                18700.0|      Individual|              null|                     null|2023-09-15 17:18:...|\n",
       "|78caf872bd06843ef...|      Rural Carrier|        10|           OWN|      70000.0|           CA|          932xx|            USA|    B|       B4|    Source Verified|                71235.0|      Individual|              null|                     null|2023-09-15 17:18:...|\n",
       "|8c0e5cf855a938944...|           NotAsked|        10|          RENT|      87600.0|           CO|          802xx|            USA|    B|       B2|    Source Verified|                84826.0|      Individual|              null|                     null|2023-09-15 17:18:...|\n",
       "+--------------------+-------------------+----------+--------------+-------------+-------------+---------------+---------------+-----+---------+-------------------+-----------------------+----------------+------------------+-------------------------+--------------------+"
      ]
     },
     "execution_count": 6,
     "metadata": {},
     "output_type": "execute_result"
    }
   ],
   "source": [
    "spark.sql(\"SELECT * FROM itv010698_lending_club_project.customers LIMIT 10\")"
   ]
  },
  {
   "cell_type": "markdown",
   "id": "bfe3d531",
   "metadata": {},
   "source": [
    "### Permenent table creation of loans data\n"
   ]
  },
  {
   "cell_type": "code",
   "execution_count": 38,
   "id": "602d6f96",
   "metadata": {},
   "outputs": [
    {
     "data": {
      "text/html": [
       "<table border='1'>\n",
       "<tr><th></th></tr>\n",
       "</table>\n"
      ],
      "text/plain": [
       "++\n",
       "||\n",
       "++\n",
       "++"
      ]
     },
     "execution_count": 38,
     "metadata": {},
     "output_type": "execute_result"
    }
   ],
   "source": [
    "spark.sql(\"\"\"\n",
    "CREATE EXTERNAL TABLE itv010698_lending_club_project.loans(loan_id\n",
    "string,member_id string,loan_amount float,funded_amount\n",
    "float,loan_term_years integer,interest_rate float,monthly_installment\n",
    "float,issue_date string,loan_status string,loan_purpose string,loan_title\n",
    "string,ingest_date timestamp) stored as parquet\n",
    "LOCATION '/public/trendytech/lendingclubproject/cleaned/loans_parquet'\n",
    "\"\"\")"
   ]
  },
  {
   "cell_type": "code",
   "execution_count": 6,
   "id": "05155ab8",
   "metadata": {},
   "outputs": [
    {
     "data": {
      "text/html": [
       "<table border='1'>\n",
       "<tr><th>loan_id</th><th>member_id</th><th>loan_amount</th><th>funded_amount</th><th>loan_term_years</th><th>interest_rate</th><th>monthly_installment</th><th>issue_date</th><th>loan_status</th><th>loan_purpose</th><th>loan_title</th><th>ingest_date</th></tr>\n",
       "<tr><td>13048578</td><td>ae2a45f96691a33e2...</td><td>30000.0</td><td>30000.0</td><td>5</td><td>22.45</td><td>836.27</td><td>Mar-2014</td><td>Fully Paid</td><td>debt_consolidation</td><td>Debt consolidation</td><td>2023-09-18 18:39:...</td></tr>\n",
       "<tr><td>13028587</td><td>bc56a941d1b4a0ded...</td><td>3500.0</td><td>3500.0</td><td>3</td><td>13.65</td><td>119.03</td><td>Mar-2014</td><td>Fully Paid</td><td>debt_consolidation</td><td>Debt consolidation</td><td>2023-09-18 18:39:...</td></tr>\n",
       "<tr><td>13048646</td><td>ec235820c5f579fe6...</td><td>20000.0</td><td>20000.0</td><td>5</td><td>18.92</td><td>517.94</td><td>Apr-2014</td><td>Charged Off</td><td>medical</td><td>Medical expenses</td><td>2023-09-18 18:39:...</td></tr>\n",
       "<tr><td>13045633</td><td>87c71f39b975e9b1c...</td><td>10000.0</td><td>10000.0</td><td>5</td><td>15.61</td><td>241.12</td><td>Mar-2014</td><td>Fully Paid</td><td>credit_card</td><td>Credit card refin...</td><td>2023-09-18 18:39:...</td></tr>\n",
       "<tr><td>13018547</td><td>8ce13bae24094c318...</td><td>30000.0</td><td>30000.0</td><td>5</td><td>19.99</td><td>794.65</td><td>Mar-2014</td><td>Fully Paid</td><td>debt_consolidation</td><td>Debt consolidation</td><td>2023-09-18 18:39:...</td></tr>\n",
       "</table>\n"
      ],
      "text/plain": [
       "+--------+--------------------+-----------+-------------+---------------+-------------+-------------------+----------+-----------+------------------+--------------------+--------------------+\n",
       "| loan_id|           member_id|loan_amount|funded_amount|loan_term_years|interest_rate|monthly_installment|issue_date|loan_status|      loan_purpose|          loan_title|         ingest_date|\n",
       "+--------+--------------------+-----------+-------------+---------------+-------------+-------------------+----------+-----------+------------------+--------------------+--------------------+\n",
       "|56633077|b59d80da191f5b573...|     3000.0|       3000.0|              3|         7.89|              93.86|  Aug-2015| Fully Paid|       credit_card|Credit card refin...|2023-09-18 18:39:...|\n",
       "|55927518|202d9f56ecb7c3bc9...|    15600.0|      15600.0|              3|         7.89|             488.06|  Aug-2015| Fully Paid|       credit_card|Credit card refin...|2023-09-18 18:39:...|\n",
       "|56473345|e5a140c0922b554b9...|    20000.0|      20000.0|              3|         9.17|             637.58|  Aug-2015| Fully Paid|debt_consolidation|  Debt consolidation|2023-09-18 18:39:...|\n",
       "|56463188|e12aefc548f750777...|    11200.0|      11200.0|              5|        21.99|             309.27|  Aug-2015| Fully Paid|  home_improvement|    Home improvement|2023-09-18 18:39:...|\n",
       "|56473316|1b3a50d854fbbf97e...|    16000.0|      16000.0|              5|        20.99|             432.77|  Aug-2015|Charged Off|debt_consolidation|  Debt consolidation|2023-09-18 18:39:...|\n",
       "+--------+--------------------+-----------+-------------+---------------+-------------+-------------------+----------+-----------+------------------+--------------------+--------------------+"
      ]
     },
     "execution_count": 6,
     "metadata": {},
     "output_type": "execute_result"
    }
   ],
   "source": [
    "spark.sql(\"select * from itv010698_lending_club_project.loans LIMIT 5\")\n"
   ]
  },
  {
   "cell_type": "markdown",
   "id": "5af4b992",
   "metadata": {},
   "source": [
    "### Permenent table creation of loans_repayments data"
   ]
  },
  {
   "cell_type": "code",
   "execution_count": 42,
   "id": "ffd4aa8a",
   "metadata": {},
   "outputs": [
    {
     "data": {
      "text/html": [
       "<table border='1'>\n",
       "<tr><th></th></tr>\n",
       "</table>\n"
      ],
      "text/plain": [
       "++\n",
       "||\n",
       "++\n",
       "++"
      ]
     },
     "execution_count": 42,
     "metadata": {},
     "output_type": "execute_result"
    }
   ],
   "source": [
    "spark.sql(\"\"\"CREATE EXTERNAL TABLE itv010698_lending_club_project.loans_repayments(loan_id string, total_principal_received float,\n",
    "total_interest_received float,total_late_fee_received float,total_payment_received float,last_payment_amount float,\n",
    "last_payment_date string,next_payment_date string,ingest_date timestamp)\n",
    "stored as parquet LOCATION '/public/trendytech/lendingclubproject/cleaned/loans_repayments_parquet'\n",
    "\"\"\")"
   ]
  },
  {
   "cell_type": "code",
   "execution_count": 7,
   "id": "58629501",
   "metadata": {},
   "outputs": [
    {
     "data": {
      "text/html": [
       "<table border='1'>\n",
       "<tr><th>loan_id</th><th>total_principal_received</th><th>total_interest_received</th><th>total_late_fee_received</th><th>total_payment_received</th><th>last_payment_amount</th><th>last_payment_date</th><th>next_payment_date</th><th>ingest_date</th></tr>\n",
       "<tr><td>141581221</td><td>1055.81</td><td>2591.7</td><td>0.0</td><td>3647.51</td><td>709.23</td><td>Mar-2019</td><td>Apr-2019</td><td>2023-09-19 05:25:...</td></tr>\n",
       "<tr><td>141506948</td><td>1252.75</td><td>306.04</td><td>0.0</td><td>1558.79</td><td>312.63</td><td>Mar-2019</td><td>Apr-2019</td><td>2023-09-19 05:25:...</td></tr>\n",
       "<tr><td>141357400</td><td>626.37</td><td>354.96</td><td>0.0</td><td>981.33</td><td>197.27</td><td>Mar-2019</td><td>Apr-2019</td><td>2023-09-19 05:25:...</td></tr>\n",
       "<tr><td>139445427</td><td>1118.16</td><td>297.36</td><td>0.0</td><td>1415.52</td><td>283.95</td><td>Mar-2019</td><td>Apr-2019</td><td>2023-09-19 05:25:...</td></tr>\n",
       "<tr><td>141407409</td><td>1169.72</td><td>3605.3</td><td>0.0</td><td>4775.02</td><td>964.9</td><td>Mar-2019</td><td>Apr-2019</td><td>2023-09-19 05:25:...</td></tr>\n",
       "</table>\n"
      ],
      "text/plain": [
       "+---------+------------------------+-----------------------+-----------------------+----------------------+-------------------+-----------------+-----------------+--------------------+\n",
       "|  loan_id|total_principal_received|total_interest_received|total_late_fee_received|total_payment_received|last_payment_amount|last_payment_date|next_payment_date|         ingest_date|\n",
       "+---------+------------------------+-----------------------+-----------------------+----------------------+-------------------+-----------------+-----------------+--------------------+\n",
       "|141581221|                 1055.81|                 2591.7|                    0.0|               3647.51|             709.23|         Mar-2019|         Apr-2019|2023-09-19 05:25:...|\n",
       "|141506948|                 1252.75|                 306.04|                    0.0|               1558.79|             312.63|         Mar-2019|         Apr-2019|2023-09-19 05:25:...|\n",
       "|141357400|                  626.37|                 354.96|                    0.0|                981.33|             197.27|         Mar-2019|         Apr-2019|2023-09-19 05:25:...|\n",
       "|139445427|                 1118.16|                 297.36|                    0.0|               1415.52|             283.95|         Mar-2019|         Apr-2019|2023-09-19 05:25:...|\n",
       "|141407409|                 1169.72|                 3605.3|                    0.0|               4775.02|              964.9|         Mar-2019|         Apr-2019|2023-09-19 05:25:...|\n",
       "+---------+------------------------+-----------------------+-----------------------+----------------------+-------------------+-----------------+-----------------+--------------------+"
      ]
     },
     "execution_count": 7,
     "metadata": {},
     "output_type": "execute_result"
    }
   ],
   "source": [
    "spark.sql(\"SELECT * FROM itv010698_lending_club_project.loans_repayments LIMIT 5\")"
   ]
  },
  {
   "cell_type": "markdown",
   "id": "4632a330",
   "metadata": {},
   "source": [
    "### Permenent table creation of loans_defaulters_delinq data"
   ]
  },
  {
   "cell_type": "code",
   "execution_count": 14,
   "id": "c3c83168",
   "metadata": {},
   "outputs": [
    {
     "data": {
      "text/html": [
       "<table border='1'>\n",
       "<tr><th></th></tr>\n",
       "</table>\n"
      ],
      "text/plain": [
       "++\n",
       "||\n",
       "++\n",
       "++"
      ]
     },
     "execution_count": 14,
     "metadata": {},
     "output_type": "execute_result"
    }
   ],
   "source": [
    "spark.sql(\"\"\"\n",
    "CREATE EXTERNAL TABLE\n",
    "itv010698_lending_club_project.loans_defaulters_delinq(member_id string, delinq_2yrs integer, delinq_amnt float, mths_since_last_delinq integer)\n",
    "stored as parquet\n",
    "LOCATION\n",
    "'/public/trendytech/lendingclubproject/cleaned/loans_defaulters_delinq_parquet'\n",
    "\"\"\")"
   ]
  },
  {
   "cell_type": "code",
   "execution_count": 8,
   "id": "db87a3ae",
   "metadata": {},
   "outputs": [
    {
     "data": {
      "text/html": [
       "<table border='1'>\n",
       "<tr><th>member_id</th><th>delinq_2yrs</th><th>delinq_amnt</th><th>mths_since_last_delinq</th></tr>\n",
       "<tr><td>9cb79aa7323e81be1...</td><td>2</td><td>0.0</td><td>0</td></tr>\n",
       "<tr><td>aac68850fdac09fd0...</td><td>1</td><td>0.0</td><td>0</td></tr>\n",
       "<tr><td>c89986155a070db2e...</td><td>1</td><td>0.0</td><td>15</td></tr>\n",
       "<tr><td>4e1c30a5dfe9f1e20...</td><td>0</td><td>0.0</td><td>34</td></tr>\n",
       "<tr><td>1eef79a0e79b72c7a...</td><td>1</td><td>0.0</td><td>0</td></tr>\n",
       "</table>\n"
      ],
      "text/plain": [
       "+--------------------+-----------+-----------+----------------------+\n",
       "|           member_id|delinq_2yrs|delinq_amnt|mths_since_last_delinq|\n",
       "+--------------------+-----------+-----------+----------------------+\n",
       "|9cb79aa7323e81be1...|          2|        0.0|                     0|\n",
       "|aac68850fdac09fd0...|          1|        0.0|                     0|\n",
       "|c89986155a070db2e...|          1|        0.0|                    15|\n",
       "|4e1c30a5dfe9f1e20...|          0|        0.0|                    34|\n",
       "|1eef79a0e79b72c7a...|          1|        0.0|                     0|\n",
       "+--------------------+-----------+-----------+----------------------+"
      ]
     },
     "execution_count": 8,
     "metadata": {},
     "output_type": "execute_result"
    }
   ],
   "source": [
    "spark.sql(\"select * from itv010698_lending_club_project.loans_defaulters_delinq LIMIT 5\")"
   ]
  },
  {
   "cell_type": "code",
   "execution_count": 7,
   "id": "54729cee",
   "metadata": {},
   "outputs": [
    {
     "data": {
      "text/html": [
       "<table border='1'>\n",
       "<tr><th>count(1)</th></tr>\n",
       "<tr><td>1106163</td></tr>\n",
       "</table>\n"
      ],
      "text/plain": [
       "+--------+\n",
       "|count(1)|\n",
       "+--------+\n",
       "| 1106163|\n",
       "+--------+"
      ]
     },
     "execution_count": 7,
     "metadata": {},
     "output_type": "execute_result"
    }
   ],
   "source": [
    "spark.sql(\"select count(*) FRom itv010698_lending_club_project.loans_defaulters_delinq\")"
   ]
  },
  {
   "cell_type": "markdown",
   "id": "25978d23",
   "metadata": {},
   "source": [
    "### Permenent table creation of loans_defaulters_detail_rec_enq data"
   ]
  },
  {
   "cell_type": "code",
   "execution_count": 11,
   "id": "1a143623",
   "metadata": {},
   "outputs": [
    {
     "data": {
      "text/html": [
       "<table border='1'>\n",
       "<tr><th></th></tr>\n",
       "</table>\n"
      ],
      "text/plain": [
       "++\n",
       "||\n",
       "++\n",
       "++"
      ]
     },
     "execution_count": 11,
     "metadata": {},
     "output_type": "execute_result"
    }
   ],
   "source": [
    "spark.sql(\"drop table itv010698_lending_club_project.loans_defaulters_detail_rec_enq \")"
   ]
  },
  {
   "cell_type": "code",
   "execution_count": 12,
   "id": "3bf24be1",
   "metadata": {},
   "outputs": [
    {
     "data": {
      "text/html": [
       "<table border='1'>\n",
       "<tr><th></th></tr>\n",
       "</table>\n"
      ],
      "text/plain": [
       "++\n",
       "||\n",
       "++\n",
       "++"
      ]
     },
     "execution_count": 12,
     "metadata": {},
     "output_type": "execute_result"
    }
   ],
   "source": [
    "spark.sql(\"\"\"\n",
    "CREATE EXTERNAL TABLE\n",
    "itv010698_lending_club_project.loans_defaulters_detail_rec_enq(member_id string,\n",
    "pub_rec integer, pub_rec_bankruptcies integer, inq_last_6mths integer) stored\n",
    "as parquet\n",
    "LOCATION\n",
    "'/public/trendytech/lendingclubproject/cleaned/loans_defaulters_detail_records_enq_parquet'\n",
    "\"\"\")"
   ]
  },
  {
   "cell_type": "code",
   "execution_count": 13,
   "id": "22a6d30c",
   "metadata": {},
   "outputs": [
    {
     "data": {
      "text/html": [
       "<table border='1'>\n",
       "<tr><th>member_id</th><th>pub_rec</th><th>pub_rec_bankruptcies</th><th>inq_last_6mths</th></tr>\n",
       "<tr><td>9cb79aa7323e81be1...</td><td>0</td><td>0</td><td>0</td></tr>\n",
       "<tr><td>0dd2bbc517e3c8f9e...</td><td>1</td><td>1</td><td>3</td></tr>\n",
       "<tr><td>458458599d3df3bfc...</td><td>1</td><td>1</td><td>1</td></tr>\n",
       "<tr><td>05ea141ec28b5c7f7...</td><td>0</td><td>0</td><td>0</td></tr>\n",
       "<tr><td>aac68850fdac09fd0...</td><td>0</td><td>0</td><td>0</td></tr>\n",
       "<tr><td>3a423e4589e89f429...</td><td>0</td><td>0</td><td>0</td></tr>\n",
       "<tr><td>f1efcf7dfbfef21be...</td><td>0</td><td>0</td><td>1</td></tr>\n",
       "<tr><td>c89986155a070db2e...</td><td>0</td><td>0</td><td>1</td></tr>\n",
       "<tr><td>118dc629b6e134419...</td><td>0</td><td>0</td><td>0</td></tr>\n",
       "<tr><td>a86fa4b7493708333...</td><td>0</td><td>0</td><td>0</td></tr>\n",
       "<tr><td>6e8d94bf446e97025...</td><td>0</td><td>0</td><td>0</td></tr>\n",
       "<tr><td>3de585156dc6b73f6...</td><td>0</td><td>0</td><td>0</td></tr>\n",
       "<tr><td>e88945f86a96f8d71...</td><td>0</td><td>0</td><td>1</td></tr>\n",
       "<tr><td>42f73fd8a01f1c475...</td><td>0</td><td>0</td><td>0</td></tr>\n",
       "<tr><td>c680bca32456530e6...</td><td>0</td><td>0</td><td>0</td></tr>\n",
       "<tr><td>3c36e35bcc0379690...</td><td>0</td><td>0</td><td>0</td></tr>\n",
       "<tr><td>4e1c30a5dfe9f1e20...</td><td>0</td><td>0</td><td>1</td></tr>\n",
       "<tr><td>1eef79a0e79b72c7a...</td><td>0</td><td>0</td><td>0</td></tr>\n",
       "<tr><td>89d42771f79636d22...</td><td>0</td><td>0</td><td>0</td></tr>\n",
       "<tr><td>1dd1d1b51473d4993...</td><td>0</td><td>0</td><td>0</td></tr>\n",
       "</table>\n",
       "only showing top 20 rows\n"
      ],
      "text/plain": [
       "+--------------------+-------+--------------------+--------------+\n",
       "|           member_id|pub_rec|pub_rec_bankruptcies|inq_last_6mths|\n",
       "+--------------------+-------+--------------------+--------------+\n",
       "|9cb79aa7323e81be1...|      0|                   0|             0|\n",
       "|0dd2bbc517e3c8f9e...|      1|                   1|             3|\n",
       "|458458599d3df3bfc...|      1|                   1|             1|\n",
       "|05ea141ec28b5c7f7...|      0|                   0|             0|\n",
       "|aac68850fdac09fd0...|      0|                   0|             0|\n",
       "|3a423e4589e89f429...|      0|                   0|             0|\n",
       "|f1efcf7dfbfef21be...|      0|                   0|             1|\n",
       "|c89986155a070db2e...|      0|                   0|             1|\n",
       "|118dc629b6e134419...|      0|                   0|             0|\n",
       "|a86fa4b7493708333...|      0|                   0|             0|\n",
       "|6e8d94bf446e97025...|      0|                   0|             0|\n",
       "|3de585156dc6b73f6...|      0|                   0|             0|\n",
       "|e88945f86a96f8d71...|      0|                   0|             1|\n",
       "|42f73fd8a01f1c475...|      0|                   0|             0|\n",
       "|c680bca32456530e6...|      0|                   0|             0|\n",
       "|3c36e35bcc0379690...|      0|                   0|             0|\n",
       "|4e1c30a5dfe9f1e20...|      0|                   0|             1|\n",
       "|1eef79a0e79b72c7a...|      0|                   0|             0|\n",
       "|89d42771f79636d22...|      0|                   0|             0|\n",
       "|1dd1d1b51473d4993...|      0|                   0|             0|\n",
       "+--------------------+-------+--------------------+--------------+\n",
       "only showing top 20 rows"
      ]
     },
     "execution_count": 13,
     "metadata": {},
     "output_type": "execute_result"
    }
   ],
   "source": [
    "spark.sql(\"select * from itv010698_lending_club_project.loans_defaulters_detail_rec_enq\")"
   ]
  },
  {
   "cell_type": "code",
   "execution_count": null,
   "id": "e2702c06",
   "metadata": {},
   "outputs": [],
   "source": []
  }
 ],
 "metadata": {
  "kernelspec": {
   "display_name": "Pyspark 3",
   "language": "python",
   "name": "pyspark3"
  },
  "language_info": {
   "codemirror_mode": {
    "name": "ipython",
    "version": 3
   },
   "file_extension": ".py",
   "mimetype": "text/x-python",
   "name": "python",
   "nbconvert_exporter": "python",
   "pygments_lexer": "ipython3",
   "version": "3.6.12"
  }
 },
 "nbformat": 4,
 "nbformat_minor": 5
}
