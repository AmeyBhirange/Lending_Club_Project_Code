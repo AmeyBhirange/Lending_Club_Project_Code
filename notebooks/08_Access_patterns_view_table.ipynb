{
 "cells": [
  {
   "cell_type": "code",
   "execution_count": 1,
   "id": "a547ab1d",
   "metadata": {},
   "outputs": [],
   "source": [
    "from pyspark.sql import SparkSession\n",
    "import getpass\n",
    "username = getpass.getuser()\n",
    "spark = SparkSession. \\\n",
    "builder. \\\n",
    "config(\"spark.sql.warehouse.dir\", f\"/user/itv010698/warehouse\"). \\\n",
    "enableHiveSupport(). \\\n",
    "master('yarn'). \\\n",
    "getOrCreate()"
   ]
  },
  {
   "cell_type": "code",
   "execution_count": 9,
   "id": "de4e23a8",
   "metadata": {},
   "outputs": [
    {
     "data": {
      "text/html": [
       "<table border='1'>\n",
       "<tr><th></th></tr>\n",
       "</table>\n"
      ],
      "text/plain": [
       "++\n",
       "||\n",
       "++\n",
       "++"
      ]
     },
     "execution_count": 9,
     "metadata": {},
     "output_type": "execute_result"
    }
   ],
   "source": [
    "spark.sql(\"\"\"CREATE OR REPLACE view itv010698_lending_club_project.customers_loan_v AS\n",
    "  SELECT\n",
    "    l.loan_id,\n",
    "    c.member_id,\n",
    "    c.emp_title,\n",
    "    c.emp_length,\n",
    "    c.home_ownership, \n",
    "    c.annual_income,\n",
    "    c.address_state,\n",
    "    c.address_zipcode,\n",
    "    c.address_country,\n",
    "    c.grade,\n",
    "    c.sub_grade,\n",
    "    c.verification_status,\n",
    "    c.total_high_credit_limit,\n",
    "    l.loan_amount,\n",
    "    l.funded_amount,\n",
    "    l.loan_term_years,\n",
    "    l.interest_rate,\n",
    "    l.monthly_installment,\n",
    "    l.issue_date,\n",
    "    l.loan_status,\n",
    "    l.loan_purpose,\n",
    "    r.total_principal_received,\n",
    "    r.total_interest_received,\n",
    "    r.total_late_fee_received,\n",
    "    r.total_payment_received,\n",
    "    r.last_payment_amount,\n",
    "    r.last_payment_date,\n",
    "    r.next_payment_date,\n",
    "    d.delinq_2yrs,\n",
    "    d.delinq_amnt,\n",
    "    d.mths_since_last_delinq,\n",
    "    e.public_records,\n",
    "    e.public_records_bankruptcies,\n",
    "    e.enquiry_last_6mths\n",
    "  FROM itv010698_lending_club_project.customers c\n",
    "  LEFT JOIN itv010698_lending_club_project.loans l ON c.member_id = l.member_id\n",
    "  LEFT JOIN itv010698_lending_club_project.loans_repayments r ON l.loan_id = r.loan_id\n",
    "  LEFT JOIN itv010698_lending_club_project.loans_defaulters_delinq d ON c.member_id = d.member_id\n",
    "  LEFT JOIN itv010698_lending_club_project.loans_defaulters_detail_rec_enq e ON c.member_id = e.member_id\"\"\")\n"
   ]
  },
  {
   "cell_type": "markdown",
   "id": "abc564f0",
   "metadata": {},
   "source": [
    "### This above view definition is stored in Hive, however data is not stored, it is calculated in runtime"
   ]
  },
  {
   "cell_type": "markdown",
   "id": "573cb8ef",
   "metadata": {},
   "source": [
    "### Data will be loaded now when you fire this query and it will take time to load"
   ]
  },
  {
   "cell_type": "code",
   "execution_count": 11,
   "id": "a3515a67",
   "metadata": {},
   "outputs": [
    {
     "data": {
      "text/html": [
       "<table border='1'>\n",
       "<tr><th>loan_id</th><th>member_id</th><th>emp_title</th><th>emp_length</th><th>home_ownership</th><th>annual_income</th><th>address_state</th><th>address_zipcode</th><th>address_country</th><th>grade</th><th>sub_grade</th><th>verification_status</th><th>total_high_credit_limit</th><th>loan_amount</th><th>funded_amount</th><th>loan_term_years</th><th>interest_rate</th><th>monthly_installment</th><th>issue_date</th><th>loan_status</th><th>loan_purpose</th><th>total_principal_received</th><th>total_interest_received</th><th>total_late_fee_received</th><th>total_payment_received</th><th>last_payment_amount</th><th>last_payment_date</th><th>next_payment_date</th><th>delinq_2yrs</th><th>delinq_amnt</th><th>mths_since_last_delinq</th><th>public_records</th><th>public_records_bankruptcies</th><th>enquiry_last_6mths</th></tr>\n",
       "<tr><td>73954656</td><td>0022909e95ed98477...</td><td>Sheet metal worker</td><td>10</td><td>RENT</td><td>56500.0</td><td>CA</td><td>917xx</td><td>USA</td><td>E</td><td>null</td><td>Source Verified</td><td>null</td><td>15000.0</td><td>15000.0</td><td>5</td><td>20.75</td><td>null</td><td>Mar-2016</td><td>Charged Off</td><td>debt_consolidation</td><td>1906.09</td><td>2971.37</td><td>0.0</td><td>4877.4599609375</td><td>403.7</td><td>Mar-2017</td><td>null</td><td>null</td><td>0.0</td><td>39</td><td>1</td><td>1</td><td>1</td></tr>\n",
       "<tr><td>111588979</td><td>0022d5159e0595946...</td><td>Deputy Sheriff</td><td>4</td><td>RENT</td><td>91000.0</td><td>FL</td><td>334xx</td><td>USA</td><td>B</td><td>null</td><td>Source Verified</td><td>null</td><td>9600.0</td><td>9600.0</td><td>3</td><td>10.42</td><td>null</td><td>Jun-2017</td><td>Fully Paid</td><td>debt_consolidation</td><td>9600.0</td><td>153.63</td><td>0.0</td><td>9753.6279296875</td><td>9453.07</td><td>Aug-2017</td><td>null</td><td>null</td><td>null</td><td>null</td><td>0</td><td>0</td><td>0</td></tr>\n",
       "<tr><td>13017945</td><td>002364f85568d9d16...</td><td>Principal</td><td>2</td><td>MORTGAGE</td><td>140000.0</td><td>TX</td><td>756xx</td><td>USA</td><td>B</td><td>null</td><td>Source Verified</td><td>null</td><td>11000.0</td><td>11000.0</td><td>3</td><td>12.99</td><td>null</td><td>Mar-2014</td><td>Fully Paid</td><td>debt_consolidation</td><td>11000.0</td><td>2152.15</td><td>0.0</td><td>13152.150390625</td><td>3887.4</td><td>Jun-2016</td><td>null</td><td>null</td><td>0.0</td><td>9</td><td>0</td><td>0</td><td>4</td></tr>\n",
       "<tr><td>94191411</td><td>00251c4a9616c4b6f...</td><td>Manager</td><td>10</td><td>MORTGAGE</td><td>150000.0</td><td>RI</td><td>028xx</td><td>USA</td><td>A</td><td>null</td><td>Verified</td><td>null</td><td>20000.0</td><td>20000.0</td><td>3</td><td>6.99</td><td>null</td><td>Jan-2017</td><td>Fully Paid</td><td>credit_card</td><td>20000.0</td><td>1010.43</td><td>0.0</td><td>21010.42578125</td><td>16086.28</td><td>Oct-2017</td><td>null</td><td>null</td><td>null</td><td>null</td><td>0</td><td>0</td><td>0</td></tr>\n",
       "<tr><td>8095954</td><td>0026e938ff256d8ee...</td><td>null</td><td>6</td><td>MORTGAGE</td><td>41000.0</td><td>NC</td><td>276xx</td><td>USA</td><td>B</td><td>null</td><td>Verified</td><td>null</td><td>18225.0</td><td>18225.0</td><td>3</td><td>12.99</td><td>null</td><td>Oct-2013</td><td>Fully Paid</td><td>debt_consolidation</td><td>18225.0</td><td>1609.01</td><td>0.0</td><td>19834.01171875</td><td>14923.86</td><td>Aug-2014</td><td>null</td><td>null</td><td>null</td><td>null</td><td>0</td><td>0</td><td>2</td></tr>\n",
       "<tr><td>69483249</td><td>002e5aa8febbe9d5a...</td><td>owner</td><td>10</td><td>RENT</td><td>80000.0</td><td>CT</td><td>064xx</td><td>USA</td><td>B</td><td>null</td><td>Not Verified</td><td>null</td><td>16000.0</td><td>16000.0</td><td>3</td><td>8.49</td><td>null</td><td>Jan-2016</td><td>Fully Paid</td><td>credit_card</td><td>16000.0</td><td>2172.67</td><td>0.0</td><td>18172.666015625</td><td>504.87</td><td>Jan-2019</td><td>null</td><td>null</td><td>0.0</td><td>71</td><td>2</td><td>1</td><td>0</td></tr>\n",
       "<tr><td>142268965</td><td>0038347c3f5781368...</td><td>Engineering Manager</td><td>3</td><td>MORTGAGE</td><td>167000.0</td><td>MI</td><td>480xx</td><td>USA</td><td>A</td><td>null</td><td>Not Verified</td><td>null</td><td>15000.0</td><td>15000.0</td><td>3</td><td>6.67</td><td>null</td><td>Oct-2018</td><td>Current</td><td>debt_consolidation</td><td>1908.73</td><td>390.21</td><td>0.0</td><td>2298.93994140625</td><td>460.9</td><td>Mar-2019</td><td>Apr-2019</td><td>null</td><td>null</td><td>null</td><td>0</td><td>0</td><td>0</td></tr>\n",
       "<tr><td>122647973</td><td>003e4e14bf5215532...</td><td>Senior Accountant</td><td>10</td><td>MORTGAGE</td><td>75000.0</td><td>VA</td><td>233xx</td><td>USA</td><td>A</td><td>null</td><td>Not Verified</td><td>null</td><td>16000.0</td><td>16000.0</td><td>3</td><td>7.21</td><td>null</td><td>Nov-2017</td><td>Current</td><td>home_improvement</td><td>6687.38</td><td>1235.49</td><td>0.0</td><td>7922.8701171875</td><td>495.58</td><td>Mar-2019</td><td>Apr-2019</td><td>null</td><td>0.0</td><td>36</td><td>0</td><td>0</td><td>2</td></tr>\n",
       "<tr><td>97388244</td><td>0049a2c970ca284b0...</td><td>Vice President Wo...</td><td>1</td><td>MORTGAGE</td><td>338000.0</td><td>MD</td><td>218xx</td><td>USA</td><td>B</td><td>null</td><td>Verified</td><td>null</td><td>40000.0</td><td>40000.0</td><td>5</td><td>10.49</td><td>null</td><td>Mar-2017</td><td>Current</td><td>home_improvement</td><td>13542.73</td><td>7222.23</td><td>0.0</td><td>20764.9609375</td><td>859.56</td><td>Mar-2019</td><td>Apr-2019</td><td>null</td><td>null</td><td>null</td><td>1</td><td>0</td><td>1</td></tr>\n",
       "<tr><td>143395607</td><td>0051e2e772e2f63e4...</td><td>Roof Leader</td><td>10</td><td>OWN</td><td>36000.0</td><td>IN</td><td>467xx</td><td>USA</td><td>A</td><td>null</td><td>Not Verified</td><td>null</td><td>5000.0</td><td>5000.0</td><td>3</td><td>6.46</td><td>null</td><td>Nov-2018</td><td>Current</td><td>debt_consolidation</td><td>509.07</td><td>101.78</td><td>0.0</td><td>610.8499755859375</td><td>153.16</td><td>Mar-2019</td><td>Apr-2019</td><td>null</td><td>null</td><td>null</td><td>0</td><td>0</td><td>0</td></tr>\n",
       "</table>\n"
      ],
      "text/plain": [
       "+---------+--------------------+-----------------+----------+--------------+-------------+-------------+---------------+---------------+-----+---------+-------------------+-----------------------+-----------+-------------+---------------+-------------+-------------------+----------+-----------+------------------+------------------------+-----------------------+-----------------------+----------------------+-------------------+-----------------+-----------------+-----------+-----------+----------------------+--------------+---------------------------+------------------+\n",
       "|  loan_id|           member_id|        emp_title|emp_length|home_ownership|annual_income|address_state|address_zipcode|address_country|grade|sub_grade|verification_status|total_high_credit_limit|loan_amount|funded_amount|loan_term_years|interest_rate|monthly_installment|issue_date|loan_status|      loan_purpose|total_principal_received|total_interest_received|total_late_fee_received|total_payment_received|last_payment_amount|last_payment_date|next_payment_date|delinq_2yrs|delinq_amnt|mths_since_last_delinq|public_records|public_records_bankruptcies|enquiry_last_6mths|\n",
       "+---------+--------------------+-----------------+----------+--------------+-------------+-------------+---------------+---------------+-----+---------+-------------------+-----------------------+-----------+-------------+---------------+-------------+-------------------+----------+-----------+------------------+------------------------+-----------------------+-----------------------+----------------------+-------------------+-----------------+-----------------+-----------+-----------+----------------------+--------------+---------------------------+------------------+\n",
       "| 97860921|0000d9d3a3976dee7...|       HR Manager|         2|           OWN|     135000.0|           LA|          700xx|            USA|    C|     null|    Source Verified|                   null|    30000.0|      30000.0|              3|        12.74|               null|  Feb-2017|Charged Off|debt_consolidation|                     0.0|                 728.42|                  50.35|     3328.320068359375|              200.0|         Jun-2017|             null|       null|        0.0|                    36|             0|                          0|                 1|\n",
       "|127273105|000209d12af6dd53c...|    HR Generalist|         6|          RENT|      47000.0|           TX|          787xx|            USA|    C|     null|    Source Verified|                   null|    20000.0|      20000.0|              5|        16.02|               null|  Jan-2018| Fully Paid|debt_consolidation|                 20000.0|                1855.71|                    0.0|        21855.71484375|           18971.83|         Aug-2018|             null|       null|       null|                  null|             0|                          0|                 0|\n",
       "| 72204405|0003eb8ba67c559bc...|            nurse|         4|      MORTGAGE|      75000.0|           NC|          270xx|            USA|    D|     null|           Verified|                   null|     4500.0|       4500.0|              3|        17.27|               null|  Feb-2016| Fully Paid|    small_business|                  4500.0|                1293.13|                    0.0|        5793.134765625|              160.7|         Feb-2019|             null|       null|        0.0|                    12|             0|                          0|                 0|\n",
       "|130149673|00053208f94c30801...| Registered Nurse|         1|      MORTGAGE|      60000.0|           LA|          713xx|            USA|    B|     null|       Not Verified|                   null|    24000.0|      24000.0|              5|        11.98|               null|  Mar-2018|    Current|debt_consolidation|                 3728.69|                2680.43|                    0.0|       6409.1201171875|             533.63|         Mar-2019|         Apr-2019|       null|       null|                  null|             0|                          0|                 0|\n",
       "| 96696484|000c6a07f8a577fdb...|     Broker/Owner|        10|      MORTGAGE|      65000.0|           CA|          920xx|            USA|    A|     null|       Not Verified|                   null|     4800.0|       4800.0|              3|         7.49|               null|  Jan-2017| Fully Paid|    small_business|                  4800.0|                 376.75|                    0.0|      5176.75048828125|            3226.99|         Apr-2018|             null|       null|        0.0|                    57|             0|                          0|                 0|\n",
       "| 91101447|000d9d28849f3a0ce...|             null|         6|      MORTGAGE|     150000.0|           MD|          217xx|            USA|    A|     null|       Not Verified|                   null|     5000.0|       5000.0|              3|         7.59|               null|  Oct-2016| Fully Paid|  home_improvement|                  5000.0|                 364.55|                    0.0|        5364.552734375|            3499.89|         Nov-2017|             null|       null|        0.0|                    70|             0|                          0|                 0|\n",
       "|140556934|00145f38da3c3d6db...|  Service Manager|         1|      MORTGAGE|      80000.0|           UT|          840xx|            USA|    B|     null|       Not Verified|                   null|    15000.0|      15000.0|              5|        10.47|               null|  Sep-2018|    Current|       credit_card|                 1173.22|                  751.2|                    0.0|    1924.4200439453125|             322.19|         Mar-2019|         Apr-2019|       null|       null|                  null|             0|                          0|                 1|\n",
       "| 96570891|00185f6d1d2a574bf...|   Store Keeper 1|         2|          RENT|      43000.0|           FL|          336xx|            USA|    D|     null|    Source Verified|                   null|     7500.0|       7500.0|              3|        19.99|               null|  Jan-2017|    Current|debt_consolidation|                 4952.36|                2285.25|                    0.0|      7237.60986328125|             278.69|         Mar-2019|         Apr-2019|       null|       null|                  null|             0|                          0|                 1|\n",
       "|  2229377|0028593fc96961d2c...|        USAirways|        10|      MORTGAGE|      56000.0|           AZ|          852xx|            USA|    C|     null|           Verified|                   null|    24575.0|      24575.0|              5|        16.29|               null|  Dec-2012|Charged Off|debt_consolidation|                 9436.36|                7997.67|                    0.0|        20187.51953125|             601.41|         May-2015|             null|       null|        0.0|                    49|             0|                          0|                 1|\n",
       "| 67888960|002b94027e80cf51d...|Managing Director|        10|      MORTGAGE|      50900.0|           TX|          756xx|            USA|    D|     null|       Not Verified|                   null|    24425.0|      24425.0|              5|        16.99|               null|  Dec-2015|    Current|  home_improvement|                13467.14|               10178.91|                    0.0|        23646.05078125|              606.9|         Mar-2019|         Apr-2019|       null|        0.0|                     6|             0|                          0|                 0|\n",
       "+---------+--------------------+-----------------+----------+--------------+-------------+-------------+---------------+---------------+-----+---------+-------------------+-----------------------+-----------+-------------+---------------+-------------+-------------------+----------+-----------+------------------+------------------------+-----------------------+-----------------------+----------------------+-------------------+-----------------+-----------------+-----------+-----------+----------------------+--------------+---------------------------+------------------+"
      ]
     },
     "execution_count": 11,
     "metadata": {},
     "output_type": "execute_result"
    }
   ],
   "source": [
    "spark.sql(\"SELECT * FROM itv010698_lending_club_project.customers_loan_v LIMIT 10\")"
   ]
  },
  {
   "cell_type": "code",
   "execution_count": null,
   "id": "a34e0215",
   "metadata": {},
   "outputs": [],
   "source": []
  },
  {
   "cell_type": "markdown",
   "id": "0cbc8b6b",
   "metadata": {},
   "source": [
    "### Say we have a weekly job that runs every 7 days\n",
    "\n",
    "### Join of 5 tables is done every 7 days and the results is put in a table\n",
    "\n",
    "### Now, even though results are quick, they will get little old data (7 days before data)"
   ]
  },
  {
   "cell_type": "markdown",
   "id": "acc8d719",
   "metadata": {},
   "source": [
    "### If they are ok, we can go ahead creating a managed table"
   ]
  },
  {
   "cell_type": "code",
   "execution_count": 12,
   "id": "2839dabb",
   "metadata": {},
   "outputs": [
    {
     "data": {
      "text/html": [
       "<table border='1'>\n",
       "<tr><th></th></tr>\n",
       "</table>\n"
      ],
      "text/plain": [
       "++\n",
       "||\n",
       "++\n",
       "++"
      ]
     },
     "execution_count": 12,
     "metadata": {},
     "output_type": "execute_result"
    }
   ],
   "source": [
    "spark.sql(\"\"\"CREATE TABLE itv010698_lending_club_project.customers_loan_t AS\n",
    "  SELECT\n",
    "    l.loan_id,\n",
    "    c.member_id,\n",
    "    c.emp_title,\n",
    "    c.emp_length,\n",
    "    c.home_ownership, \n",
    "    c.annual_income,\n",
    "    c.address_state,\n",
    "    c.address_zipcode,\n",
    "    c.address_country,\n",
    "    c.grade,\n",
    "    c.sub_grade,\n",
    "    c.verification_status,\n",
    "    c.total_high_credit_limit,\n",
    "    l.loan_amount,\n",
    "    l.funded_amount,\n",
    "    l.loan_term_years,\n",
    "    l.interest_rate,\n",
    "    l.monthly_installment,\n",
    "    l.issue_date,\n",
    "    l.loan_status,\n",
    "    l.loan_purpose,\n",
    "    r.total_principal_received,\n",
    "    r.total_interest_received,\n",
    "    r.total_late_fee_received,\n",
    "    r.total_payment_received,\n",
    "    r.last_payment_amount,\n",
    "    r.last_payment_date,\n",
    "    r.next_payment_date,\n",
    "    d.delinq_2yrs,\n",
    "    d.delinq_amnt,\n",
    "    d.mths_since_last_delinq,\n",
    "    e.public_records,\n",
    "    e.public_records_bankruptcies,\n",
    "    e.enquiry_last_6mths\n",
    "  FROM itv010698_lending_club_project.customers c\n",
    "  LEFT JOIN itv010698_lending_club_project.loans l ON c.member_id = l.member_id\n",
    "  LEFT JOIN itv010698_lending_club_project.loans_repayments r ON l.loan_id = r.loan_id\n",
    "  LEFT JOIN itv010698_lending_club_project.loans_defaulters_delinq d ON c.member_id = d.member_id\n",
    "  LEFT JOIN itv010698_lending_club_project.loans_defaulters_detail_rec_enq e ON c.member_id = e.member_id\"\"\")"
   ]
  },
  {
   "cell_type": "code",
   "execution_count": 13,
   "id": "4d3c591c",
   "metadata": {},
   "outputs": [
    {
     "data": {
      "text/html": [
       "<table border='1'>\n",
       "<tr><th>loan_id</th><th>member_id</th><th>emp_title</th><th>emp_length</th><th>home_ownership</th><th>annual_income</th><th>address_state</th><th>address_zipcode</th><th>address_country</th><th>grade</th><th>sub_grade</th><th>verification_status</th><th>total_high_credit_limit</th><th>loan_amount</th><th>funded_amount</th><th>loan_term_years</th><th>interest_rate</th><th>monthly_installment</th><th>issue_date</th><th>loan_status</th><th>loan_purpose</th><th>total_principal_received</th><th>total_interest_received</th><th>total_late_fee_received</th><th>total_payment_received</th><th>last_payment_amount</th><th>last_payment_date</th><th>next_payment_date</th><th>delinq_2yrs</th><th>delinq_amnt</th><th>mths_since_last_delinq</th><th>public_records</th><th>public_records_bankruptcies</th><th>enquiry_last_6mths</th></tr>\n",
       "<tr><td>73954656</td><td>0022909e95ed98477...</td><td>Sheet metal worker</td><td>10</td><td>RENT</td><td>56500.0</td><td>CA</td><td>917xx</td><td>USA</td><td>E</td><td>null</td><td>Source Verified</td><td>null</td><td>15000.0</td><td>15000.0</td><td>5</td><td>20.75</td><td>null</td><td>Mar-2016</td><td>Charged Off</td><td>debt_consolidation</td><td>1906.09</td><td>2971.37</td><td>0.0</td><td>4877.4599609375</td><td>403.7</td><td>Mar-2017</td><td>null</td><td>null</td><td>0.0</td><td>39</td><td>1</td><td>1</td><td>1</td></tr>\n",
       "<tr><td>111588979</td><td>0022d5159e0595946...</td><td>Deputy Sheriff</td><td>4</td><td>RENT</td><td>91000.0</td><td>FL</td><td>334xx</td><td>USA</td><td>B</td><td>null</td><td>Source Verified</td><td>null</td><td>9600.0</td><td>9600.0</td><td>3</td><td>10.42</td><td>null</td><td>Jun-2017</td><td>Fully Paid</td><td>debt_consolidation</td><td>9600.0</td><td>153.63</td><td>0.0</td><td>9753.6279296875</td><td>9453.07</td><td>Aug-2017</td><td>null</td><td>null</td><td>null</td><td>null</td><td>0</td><td>0</td><td>0</td></tr>\n",
       "<tr><td>13017945</td><td>002364f85568d9d16...</td><td>Principal</td><td>2</td><td>MORTGAGE</td><td>140000.0</td><td>TX</td><td>756xx</td><td>USA</td><td>B</td><td>null</td><td>Source Verified</td><td>null</td><td>11000.0</td><td>11000.0</td><td>3</td><td>12.99</td><td>null</td><td>Mar-2014</td><td>Fully Paid</td><td>debt_consolidation</td><td>11000.0</td><td>2152.15</td><td>0.0</td><td>13152.150390625</td><td>3887.4</td><td>Jun-2016</td><td>null</td><td>null</td><td>0.0</td><td>9</td><td>0</td><td>0</td><td>4</td></tr>\n",
       "<tr><td>94191411</td><td>00251c4a9616c4b6f...</td><td>Manager</td><td>10</td><td>MORTGAGE</td><td>150000.0</td><td>RI</td><td>028xx</td><td>USA</td><td>A</td><td>null</td><td>Verified</td><td>null</td><td>20000.0</td><td>20000.0</td><td>3</td><td>6.99</td><td>null</td><td>Jan-2017</td><td>Fully Paid</td><td>credit_card</td><td>20000.0</td><td>1010.43</td><td>0.0</td><td>21010.42578125</td><td>16086.28</td><td>Oct-2017</td><td>null</td><td>null</td><td>null</td><td>null</td><td>0</td><td>0</td><td>0</td></tr>\n",
       "<tr><td>8095954</td><td>0026e938ff256d8ee...</td><td>null</td><td>6</td><td>MORTGAGE</td><td>41000.0</td><td>NC</td><td>276xx</td><td>USA</td><td>B</td><td>null</td><td>Verified</td><td>null</td><td>18225.0</td><td>18225.0</td><td>3</td><td>12.99</td><td>null</td><td>Oct-2013</td><td>Fully Paid</td><td>debt_consolidation</td><td>18225.0</td><td>1609.01</td><td>0.0</td><td>19834.01171875</td><td>14923.86</td><td>Aug-2014</td><td>null</td><td>null</td><td>null</td><td>null</td><td>0</td><td>0</td><td>2</td></tr>\n",
       "<tr><td>69483249</td><td>002e5aa8febbe9d5a...</td><td>owner</td><td>10</td><td>RENT</td><td>80000.0</td><td>CT</td><td>064xx</td><td>USA</td><td>B</td><td>null</td><td>Not Verified</td><td>null</td><td>16000.0</td><td>16000.0</td><td>3</td><td>8.49</td><td>null</td><td>Jan-2016</td><td>Fully Paid</td><td>credit_card</td><td>16000.0</td><td>2172.67</td><td>0.0</td><td>18172.666015625</td><td>504.87</td><td>Jan-2019</td><td>null</td><td>null</td><td>0.0</td><td>71</td><td>2</td><td>1</td><td>0</td></tr>\n",
       "<tr><td>142268965</td><td>0038347c3f5781368...</td><td>Engineering Manager</td><td>3</td><td>MORTGAGE</td><td>167000.0</td><td>MI</td><td>480xx</td><td>USA</td><td>A</td><td>null</td><td>Not Verified</td><td>null</td><td>15000.0</td><td>15000.0</td><td>3</td><td>6.67</td><td>null</td><td>Oct-2018</td><td>Current</td><td>debt_consolidation</td><td>1908.73</td><td>390.21</td><td>0.0</td><td>2298.93994140625</td><td>460.9</td><td>Mar-2019</td><td>Apr-2019</td><td>null</td><td>null</td><td>null</td><td>0</td><td>0</td><td>0</td></tr>\n",
       "<tr><td>122647973</td><td>003e4e14bf5215532...</td><td>Senior Accountant</td><td>10</td><td>MORTGAGE</td><td>75000.0</td><td>VA</td><td>233xx</td><td>USA</td><td>A</td><td>null</td><td>Not Verified</td><td>null</td><td>16000.0</td><td>16000.0</td><td>3</td><td>7.21</td><td>null</td><td>Nov-2017</td><td>Current</td><td>home_improvement</td><td>6687.38</td><td>1235.49</td><td>0.0</td><td>7922.8701171875</td><td>495.58</td><td>Mar-2019</td><td>Apr-2019</td><td>null</td><td>0.0</td><td>36</td><td>0</td><td>0</td><td>2</td></tr>\n",
       "<tr><td>97388244</td><td>0049a2c970ca284b0...</td><td>Vice President Wo...</td><td>1</td><td>MORTGAGE</td><td>338000.0</td><td>MD</td><td>218xx</td><td>USA</td><td>B</td><td>null</td><td>Verified</td><td>null</td><td>40000.0</td><td>40000.0</td><td>5</td><td>10.49</td><td>null</td><td>Mar-2017</td><td>Current</td><td>home_improvement</td><td>13542.73</td><td>7222.23</td><td>0.0</td><td>20764.9609375</td><td>859.56</td><td>Mar-2019</td><td>Apr-2019</td><td>null</td><td>null</td><td>null</td><td>1</td><td>0</td><td>1</td></tr>\n",
       "<tr><td>143395607</td><td>0051e2e772e2f63e4...</td><td>Roof Leader</td><td>10</td><td>OWN</td><td>36000.0</td><td>IN</td><td>467xx</td><td>USA</td><td>A</td><td>null</td><td>Not Verified</td><td>null</td><td>5000.0</td><td>5000.0</td><td>3</td><td>6.46</td><td>null</td><td>Nov-2018</td><td>Current</td><td>debt_consolidation</td><td>509.07</td><td>101.78</td><td>0.0</td><td>610.8499755859375</td><td>153.16</td><td>Mar-2019</td><td>Apr-2019</td><td>null</td><td>null</td><td>null</td><td>0</td><td>0</td><td>0</td></tr>\n",
       "</table>\n"
      ],
      "text/plain": [
       "+---------+--------------------+--------------------+----------+--------------+-------------+-------------+---------------+---------------+-----+---------+-------------------+-----------------------+-----------+-------------+---------------+-------------+-------------------+----------+-----------+------------------+------------------------+-----------------------+-----------------------+----------------------+-------------------+-----------------+-----------------+-----------+-----------+----------------------+--------------+---------------------------+------------------+\n",
       "|  loan_id|           member_id|           emp_title|emp_length|home_ownership|annual_income|address_state|address_zipcode|address_country|grade|sub_grade|verification_status|total_high_credit_limit|loan_amount|funded_amount|loan_term_years|interest_rate|monthly_installment|issue_date|loan_status|      loan_purpose|total_principal_received|total_interest_received|total_late_fee_received|total_payment_received|last_payment_amount|last_payment_date|next_payment_date|delinq_2yrs|delinq_amnt|mths_since_last_delinq|public_records|public_records_bankruptcies|enquiry_last_6mths|\n",
       "+---------+--------------------+--------------------+----------+--------------+-------------+-------------+---------------+---------------+-----+---------+-------------------+-----------------------+-----------+-------------+---------------+-------------+-------------------+----------+-----------+------------------+------------------------+-----------------------+-----------------------+----------------------+-------------------+-----------------+-----------------+-----------+-----------+----------------------+--------------+---------------------------+------------------+\n",
       "| 92329392|00031422140eae9dc...|Senior Account Ma...|        10|          RENT|      73000.0|           PA|          193xx|            USA|    E|     null|           Verified|                   null|    32100.0|      32100.0|              3|        23.99|               null|  Nov-2016|    Current|debt_consolidation|                22875.53|               12596.27|                    0.0|        35471.80078125|            1259.21|         Mar-2019|         Apr-2019|       null|        0.0|                    32|             0|                          0|                 0|\n",
       "| 58410762|00051e8533f73de3d...|Psychiatric Socia...|         1|      MORTGAGE|      61000.0|           CA|          913xx|            USA|    B|     null|           Verified|                   null|    17975.0|      17975.0|              3|         9.17|               null|  Aug-2015|Charged Off|       credit_card|                15726.28|                2574.53|                    0.0|       18300.810546875|             573.03|         Apr-2018|             null|       null|       null|                  null|             0|                          0|                 0|\n",
       "|112722347|000725f1cab108ace...|   Quality Assurance|         3|      MORTGAGE|      72000.0|           OH|          448xx|            USA|    C|     null|       Not Verified|                   null|     7200.0|       7200.0|              3|        13.59|               null|  Jul-2017|    Current|debt_consolidation|                 3638.22|                1264.31|                    0.0|      4902.52978515625|             244.65|         Mar-2019|         Apr-2019|       null|        0.0|                    16|             2|                          0|                 0|\n",
       "|120202971|000f9bbbfcc446a9e...|Communications Ad...|         8|      MORTGAGE|      75900.0|           FL|          333xx|            USA|    E|     null|    Source Verified|                   null|    16000.0|      16000.0|              5|        25.82|               null|  Oct-2017|    Current|debt_consolidation|                 2508.99|                5162.57|                    0.0|      7671.56005859375|             477.35|         Feb-2019|         Apr-2019|       null|        0.0|                    41|             0|                          0|                 0|\n",
       "|  1115822|0011b7eff02e4e7eb...|        Seattle Rite|         4|      MORTGAGE|      52000.0|           WA|          980xx|            USA|    A|     null|       Not Verified|                   null|    17300.0|      17300.0|              3|         6.03|               null|  May-2012| Fully Paid|debt_consolidation|                 17300.0|                1655.23|                    0.0|       18955.232421875|             530.02|         May-2015|             null|       null|       null|                  null|             0|                          0|                 0|\n",
       "|  4286024|0015ef2e663d4a68b...|couch distributin...|         3|          RENT|      32000.0|           CA|          939xx|            USA|    E|     null|    Source Verified|                   null|     7750.0|       7750.0|              3|        21.49|               null|  Apr-2013| Fully Paid|             other|                  7750.0|                 2831.6|                    0.0|       10581.599609375|             293.69|         Apr-2016|             null|       null|        0.0|                    35|             0|                          0|                 2|\n",
       "| 65722035|001f39e91225979e5...|             Manager|         7|          RENT|      54250.0|           CA|          927xx|            USA|    E|     null|    Source Verified|                   null|    20000.0|      20000.0|              5|        18.49|               null|  Nov-2015|    Current|    major_purchase|                11224.45|                9263.26|                    0.0|         20487.7109375|             513.22|         Mar-2019|         Apr-2019|       null|       null|                  null|             0|                          0|                 2|\n",
       "| 32459067|0038d06264a3a7a97...|                  RN|         1|          RENT|      62000.0|           AZ|          852xx|            USA|    D|     null|    Source Verified|                   null|    14700.0|      14700.0|              5|        16.99|               null|  Oct-2014| Fully Paid|debt_consolidation|                 14700.0|                7041.99|                    0.0|       21741.990234375|            3141.48|         Feb-2019|             null|       null|       null|                  null|             1|                          1|                 1|\n",
       "| 98858414|003b08e343a8df92a...|      Vice President|         5|      MORTGAGE|     150000.0|           FL|          334xx|            USA|    C|     null|       Not Verified|                   null|    25000.0|      25000.0|              3|        12.74|               null|  Feb-2017|    Current|       credit_card|                16327.67|                4617.69|                    0.0|          20945.359375|             839.23|         Mar-2019|         Apr-2019|       null|        0.0|                     3|             0|                          0|                 0|\n",
       "|140016563|003ced036c2a76ad7...|               Owner|        10|      MORTGAGE|     165000.0|           IN|          462xx|            USA|    A|     null|    Source Verified|                   null|    20000.0|      20000.0|              3|         6.11|               null|  Sep-2018|    Current|       credit_card|                 3084.67|                 565.18|                    0.0|      3649.85009765625|             609.44|         Mar-2019|         Apr-2019|       null|        0.0|                    22|             0|                          0|                 0|\n",
       "+---------+--------------------+--------------------+----------+--------------+-------------+-------------+---------------+---------------+-----+---------+-------------------+-----------------------+-----------+-------------+---------------+-------------+-------------------+----------+-----------+------------------+------------------------+-----------------------+-----------------------+----------------------+-------------------+-----------------+-----------------+-----------+-----------+----------------------+--------------+---------------------------+------------------+"
      ]
     },
     "execution_count": 13,
     "metadata": {},
     "output_type": "execute_result"
    }
   ],
   "source": [
    "spark.sql(\"select * from itv010698_lending_club_project.customers_loan_t limit 10\")"
   ]
  },
  {
   "cell_type": "code",
   "execution_count": null,
   "id": "8692c7a4",
   "metadata": {},
   "outputs": [],
   "source": []
  }
 ],
 "metadata": {
  "kernelspec": {
   "display_name": "Pyspark 3",
   "language": "python",
   "name": "pyspark3"
  },
  "language_info": {
   "codemirror_mode": {
    "name": "ipython",
    "version": 3
   },
   "file_extension": ".py",
   "mimetype": "text/x-python",
   "name": "python",
   "nbconvert_exporter": "python",
   "pygments_lexer": "ipython3",
   "version": "3.6.12"
  }
 },
 "nbformat": 4,
 "nbformat_minor": 5
}
