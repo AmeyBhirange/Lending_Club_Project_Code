{
 "cells": [
  {
   "cell_type": "code",
   "execution_count": 1,
   "id": "cb27c7d8",
   "metadata": {},
   "outputs": [],
   "source": [
    "from pyspark.sql import SparkSession\n",
    "import getpass\n",
    "username = getpass.getuser()\n",
    "spark = SparkSession. \\\n",
    "builder. \\\n",
    "config(\"spark.sql.warehouse.dir\", f\"/user/itv010698/warehouse\"). \\\n",
    "enableHiveSupport(). \\\n",
    "master('yarn'). \\\n",
    "getOrCreate()"
   ]
  },
  {
   "cell_type": "code",
   "execution_count": 2,
   "id": "6a61cd35",
   "metadata": {},
   "outputs": [],
   "source": [
    "loans_repay_df = spark.read \\\n",
    ".format(\"csv\") \\\n",
    ".option(\"inferSchema\", \"true\") \\\n",
    ".option(\"header\", \"true\") \\\n",
    ".load(\"lending_club_project/raw_data/loan_repayments_csv\")"
   ]
  },
  {
   "cell_type": "code",
   "execution_count": 3,
   "id": "920b4aea",
   "metadata": {},
   "outputs": [
    {
     "data": {
      "text/html": [
       "<table border='1'>\n",
       "<tr><th>loan_id</th><th>total_rec_prncp</th><th>total_rec_int</th><th>total_rec_late_fee</th><th>total_pymnt</th><th>last_pymnt_amnt</th><th>last_pymnt_d</th><th>next_pymnt_d</th></tr>\n",
       "<tr><td>118184277</td><td>4500.0</td><td>309.83</td><td>0.0</td><td>4809.8270961624</td><td>3136.06</td><td>Oct-2018</td><td>null</td></tr>\n",
       "<tr><td>117289602</td><td>1851.99</td><td>466.72</td><td>0.0</td><td>2318.71</td><td>128.94</td><td>Mar-2019</td><td>Apr-2019</td></tr>\n",
       "<tr><td>118216186</td><td>4593.79</td><td>1285.61</td><td>0.0</td><td>5879.4</td><td>326.97</td><td>Mar-2019</td><td>Apr-2019</td></tr>\n",
       "<tr><td>117584790</td><td>20000.0</td><td>1638.12</td><td>0.0</td><td>21638.120791947</td><td>16960.53</td><td>May-2018</td><td>null</td></tr>\n",
       "<tr><td>118208834</td><td>7053.74</td><td>1396.74</td><td>0.0</td><td>8450.48</td><td>469.84</td><td>Mar-2019</td><td>Apr-2019</td></tr>\n",
       "<tr><td>117566588</td><td>4888.37</td><td>3811.19</td><td>0.0</td><td>8699.56</td><td>484.19</td><td>Mar-2019</td><td>Apr-2019</td></tr>\n",
       "<tr><td>118221134</td><td>2261.1</td><td>2017.6</td><td>0.0</td><td>4278.7</td><td>238.17</td><td>Mar-2019</td><td>Apr-2019</td></tr>\n",
       "<tr><td>118183021</td><td>2688.72</td><td>345.32</td><td>0.0</td><td>3034.04</td><td>168.65</td><td>Mar-2019</td><td>Apr-2019</td></tr>\n",
       "<tr><td>118209005</td><td>7567.78</td><td>1346.25</td><td>0.0</td><td>8914.03</td><td>495.58</td><td>Mar-2019</td><td>Apr-2019</td></tr>\n",
       "<tr><td>118214952</td><td>3291.77</td><td>651.81</td><td>0.0</td><td>3943.58</td><td>219.26</td><td>Mar-2019</td><td>Apr-2019</td></tr>\n",
       "<tr><td>117566851</td><td>3677.81</td><td>4886.21</td><td>0.0</td><td>8564.02</td><td>476.89</td><td>Mar-2019</td><td>Apr-2019</td></tr>\n",
       "<tr><td>115648172</td><td>6456.48</td><td>1769.28</td><td>0.0</td><td>8225.76</td><td>454.51</td><td>Mar-2019</td><td>Apr-2019</td></tr>\n",
       "<tr><td>115354924</td><td>28000.0</td><td>2612.93</td><td>0.0</td><td>30612.934675949702</td><td>22262.75</td><td>Jul-2018</td><td>null</td></tr>\n",
       "<tr><td>118216367</td><td>19200.0</td><td>1598.26</td><td>0.0</td><td>20798.2551705275</td><td>17143.24</td><td>Jul-2018</td><td>null</td></tr>\n",
       "<tr><td>118209104</td><td>9043.79</td><td>8070.47</td><td>0.0</td><td>17114.26</td><td>952.65</td><td>Mar-2019</td><td>Apr-2019</td></tr>\n",
       "<tr><td>118193433</td><td>2043.26</td><td>2730.2</td><td>0.0</td><td>4773.46</td><td>264.94</td><td>Mar-2019</td><td>Apr-2019</td></tr>\n",
       "<tr><td>118188718</td><td>8000.0</td><td>1341.8</td><td>0.0</td><td>9341.7968142552</td><td>4694.48</td><td>Mar-2019</td><td>null</td></tr>\n",
       "<tr><td>116868788</td><td>2755.99</td><td>776.53</td><td>0.0</td><td>3532.52</td><td>196.18</td><td>Mar-2019</td><td>Apr-2019</td></tr>\n",
       "<tr><td>116264178</td><td>3406.16</td><td>605.14</td><td>0.0</td><td>4011.3</td><td>223.01</td><td>Mar-2019</td><td>Apr-2019</td></tr>\n",
       "<tr><td>117616063</td><td>2821.57</td><td>558.69</td><td>0.0</td><td>3380.26</td><td>187.94</td><td>Mar-2019</td><td>Apr-2019</td></tr>\n",
       "</table>\n",
       "only showing top 20 rows\n"
      ],
      "text/plain": [
       "+---------+---------------+-------------+------------------+------------------+---------------+------------+------------+\n",
       "|  loan_id|total_rec_prncp|total_rec_int|total_rec_late_fee|       total_pymnt|last_pymnt_amnt|last_pymnt_d|next_pymnt_d|\n",
       "+---------+---------------+-------------+------------------+------------------+---------------+------------+------------+\n",
       "|118184277|         4500.0|       309.83|               0.0|   4809.8270961624|        3136.06|    Oct-2018|        null|\n",
       "|117289602|        1851.99|       466.72|               0.0|           2318.71|         128.94|    Mar-2019|    Apr-2019|\n",
       "|118216186|        4593.79|      1285.61|               0.0|            5879.4|         326.97|    Mar-2019|    Apr-2019|\n",
       "|117584790|        20000.0|      1638.12|               0.0|   21638.120791947|       16960.53|    May-2018|        null|\n",
       "|118208834|        7053.74|      1396.74|               0.0|           8450.48|         469.84|    Mar-2019|    Apr-2019|\n",
       "|117566588|        4888.37|      3811.19|               0.0|           8699.56|         484.19|    Mar-2019|    Apr-2019|\n",
       "|118221134|         2261.1|       2017.6|               0.0|            4278.7|         238.17|    Mar-2019|    Apr-2019|\n",
       "|118183021|        2688.72|       345.32|               0.0|           3034.04|         168.65|    Mar-2019|    Apr-2019|\n",
       "|118209005|        7567.78|      1346.25|               0.0|           8914.03|         495.58|    Mar-2019|    Apr-2019|\n",
       "|118214952|        3291.77|       651.81|               0.0|           3943.58|         219.26|    Mar-2019|    Apr-2019|\n",
       "|117566851|        3677.81|      4886.21|               0.0|           8564.02|         476.89|    Mar-2019|    Apr-2019|\n",
       "|115648172|        6456.48|      1769.28|               0.0|           8225.76|         454.51|    Mar-2019|    Apr-2019|\n",
       "|115354924|        28000.0|      2612.93|               0.0|30612.934675949702|       22262.75|    Jul-2018|        null|\n",
       "|118216367|        19200.0|      1598.26|               0.0|  20798.2551705275|       17143.24|    Jul-2018|        null|\n",
       "|118209104|        9043.79|      8070.47|               0.0|          17114.26|         952.65|    Mar-2019|    Apr-2019|\n",
       "|118193433|        2043.26|       2730.2|               0.0|           4773.46|         264.94|    Mar-2019|    Apr-2019|\n",
       "|118188718|         8000.0|       1341.8|               0.0|   9341.7968142552|        4694.48|    Mar-2019|        null|\n",
       "|116868788|        2755.99|       776.53|               0.0|           3532.52|         196.18|    Mar-2019|    Apr-2019|\n",
       "|116264178|        3406.16|       605.14|               0.0|            4011.3|         223.01|    Mar-2019|    Apr-2019|\n",
       "|117616063|        2821.57|       558.69|               0.0|           3380.26|         187.94|    Mar-2019|    Apr-2019|\n",
       "+---------+---------------+-------------+------------------+------------------+---------------+------------+------------+\n",
       "only showing top 20 rows"
      ]
     },
     "execution_count": 3,
     "metadata": {},
     "output_type": "execute_result"
    }
   ],
   "source": [
    "loans_repay_df"
   ]
  },
  {
   "cell_type": "code",
   "execution_count": 6,
   "id": "5fbf87e8",
   "metadata": {},
   "outputs": [
    {
     "name": "stdout",
     "output_type": "stream",
     "text": [
      "root\n",
      " |-- loan_id: string (nullable = true)\n",
      " |-- total_rec_prncp: string (nullable = true)\n",
      " |-- total_rec_int: string (nullable = true)\n",
      " |-- total_rec_late_fee: string (nullable = true)\n",
      " |-- total_pymnt: string (nullable = true)\n",
      " |-- last_pymnt_amnt: string (nullable = true)\n",
      " |-- last_pymnt_d: string (nullable = true)\n",
      " |-- next_pymnt_d: string (nullable = true)\n",
      "\n"
     ]
    }
   ],
   "source": [
    "loans_repay_df.printSchema()"
   ]
  },
  {
   "cell_type": "code",
   "execution_count": 4,
   "id": "d89998d0",
   "metadata": {},
   "outputs": [],
   "source": [
    "schema = \"loan_id string, total_principal_received float, total_interest_received float, total_late_fee_received float, total_payment_received float, last_payment_amount float, last_payment_date string, next_payment_date string\""
   ]
  },
  {
   "cell_type": "code",
   "execution_count": 5,
   "id": "23196b33",
   "metadata": {},
   "outputs": [],
   "source": [
    "loans_repay_df = spark.read \\\n",
    ".format(\"csv\") \\\n",
    ".schema(schema) \\\n",
    ".option(\"header\", \"true\") \\\n",
    ".load(\"lending_club_project/raw_data/loan_repayments_csv\")"
   ]
  },
  {
   "cell_type": "code",
   "execution_count": 6,
   "id": "c09301f3",
   "metadata": {},
   "outputs": [
    {
     "name": "stdout",
     "output_type": "stream",
     "text": [
      "root\n",
      " |-- loan_id: string (nullable = true)\n",
      " |-- total_principal_received: float (nullable = true)\n",
      " |-- total_interest_received: float (nullable = true)\n",
      " |-- total_late_fee_received: float (nullable = true)\n",
      " |-- total_payment_received: float (nullable = true)\n",
      " |-- last_payment_amount: float (nullable = true)\n",
      " |-- last_payment_date: string (nullable = true)\n",
      " |-- next_payment_date: string (nullable = true)\n",
      "\n"
     ]
    }
   ],
   "source": [
    "loans_repay_df.printSchema()"
   ]
  },
  {
   "cell_type": "markdown",
   "id": "46726100",
   "metadata": {},
   "source": [
    "### Add ingest_date column"
   ]
  },
  {
   "cell_type": "code",
   "execution_count": 7,
   "id": "22edb3af",
   "metadata": {},
   "outputs": [],
   "source": [
    "from pyspark.sql.functions import *"
   ]
  },
  {
   "cell_type": "code",
   "execution_count": 8,
   "id": "5ed1949f",
   "metadata": {},
   "outputs": [],
   "source": [
    "loans_repay_ingest_date = loans_repay_df.withColumn(\"ingest_date\", current_timestamp())"
   ]
  },
  {
   "cell_type": "code",
   "execution_count": 9,
   "id": "8f122ba3",
   "metadata": {},
   "outputs": [
    {
     "data": {
      "text/html": [
       "<table border='1'>\n",
       "<tr><th>loan_id</th><th>total_principal_received</th><th>total_interest_received</th><th>total_late_fee_received</th><th>total_payment_received</th><th>last_payment_amount</th><th>last_payment_date</th><th>next_payment_date</th><th>ingest_date</th></tr>\n",
       "<tr><td>118184277</td><td>4500.0</td><td>309.83</td><td>0.0</td><td>4809.827</td><td>3136.06</td><td>Oct-2018</td><td>null</td><td>2024-03-26 11:08:...</td></tr>\n",
       "<tr><td>117289602</td><td>1851.99</td><td>466.72</td><td>0.0</td><td>2318.71</td><td>128.94</td><td>Mar-2019</td><td>Apr-2019</td><td>2024-03-26 11:08:...</td></tr>\n",
       "<tr><td>118216186</td><td>4593.79</td><td>1285.61</td><td>0.0</td><td>5879.4</td><td>326.97</td><td>Mar-2019</td><td>Apr-2019</td><td>2024-03-26 11:08:...</td></tr>\n",
       "<tr><td>117584790</td><td>20000.0</td><td>1638.12</td><td>0.0</td><td>21638.121</td><td>16960.53</td><td>May-2018</td><td>null</td><td>2024-03-26 11:08:...</td></tr>\n",
       "<tr><td>118208834</td><td>7053.74</td><td>1396.74</td><td>0.0</td><td>8450.48</td><td>469.84</td><td>Mar-2019</td><td>Apr-2019</td><td>2024-03-26 11:08:...</td></tr>\n",
       "<tr><td>117566588</td><td>4888.37</td><td>3811.19</td><td>0.0</td><td>8699.56</td><td>484.19</td><td>Mar-2019</td><td>Apr-2019</td><td>2024-03-26 11:08:...</td></tr>\n",
       "<tr><td>118221134</td><td>2261.1</td><td>2017.6</td><td>0.0</td><td>4278.7</td><td>238.17</td><td>Mar-2019</td><td>Apr-2019</td><td>2024-03-26 11:08:...</td></tr>\n",
       "<tr><td>118183021</td><td>2688.72</td><td>345.32</td><td>0.0</td><td>3034.04</td><td>168.65</td><td>Mar-2019</td><td>Apr-2019</td><td>2024-03-26 11:08:...</td></tr>\n",
       "<tr><td>118209005</td><td>7567.78</td><td>1346.25</td><td>0.0</td><td>8914.03</td><td>495.58</td><td>Mar-2019</td><td>Apr-2019</td><td>2024-03-26 11:08:...</td></tr>\n",
       "<tr><td>118214952</td><td>3291.77</td><td>651.81</td><td>0.0</td><td>3943.58</td><td>219.26</td><td>Mar-2019</td><td>Apr-2019</td><td>2024-03-26 11:08:...</td></tr>\n",
       "<tr><td>117566851</td><td>3677.81</td><td>4886.21</td><td>0.0</td><td>8564.02</td><td>476.89</td><td>Mar-2019</td><td>Apr-2019</td><td>2024-03-26 11:08:...</td></tr>\n",
       "<tr><td>115648172</td><td>6456.48</td><td>1769.28</td><td>0.0</td><td>8225.76</td><td>454.51</td><td>Mar-2019</td><td>Apr-2019</td><td>2024-03-26 11:08:...</td></tr>\n",
       "<tr><td>115354924</td><td>28000.0</td><td>2612.93</td><td>0.0</td><td>30612.936</td><td>22262.75</td><td>Jul-2018</td><td>null</td><td>2024-03-26 11:08:...</td></tr>\n",
       "<tr><td>118216367</td><td>19200.0</td><td>1598.26</td><td>0.0</td><td>20798.256</td><td>17143.24</td><td>Jul-2018</td><td>null</td><td>2024-03-26 11:08:...</td></tr>\n",
       "<tr><td>118209104</td><td>9043.79</td><td>8070.47</td><td>0.0</td><td>17114.26</td><td>952.65</td><td>Mar-2019</td><td>Apr-2019</td><td>2024-03-26 11:08:...</td></tr>\n",
       "<tr><td>118193433</td><td>2043.26</td><td>2730.2</td><td>0.0</td><td>4773.46</td><td>264.94</td><td>Mar-2019</td><td>Apr-2019</td><td>2024-03-26 11:08:...</td></tr>\n",
       "<tr><td>118188718</td><td>8000.0</td><td>1341.8</td><td>0.0</td><td>9341.797</td><td>4694.48</td><td>Mar-2019</td><td>null</td><td>2024-03-26 11:08:...</td></tr>\n",
       "<tr><td>116868788</td><td>2755.99</td><td>776.53</td><td>0.0</td><td>3532.52</td><td>196.18</td><td>Mar-2019</td><td>Apr-2019</td><td>2024-03-26 11:08:...</td></tr>\n",
       "<tr><td>116264178</td><td>3406.16</td><td>605.14</td><td>0.0</td><td>4011.3</td><td>223.01</td><td>Mar-2019</td><td>Apr-2019</td><td>2024-03-26 11:08:...</td></tr>\n",
       "<tr><td>117616063</td><td>2821.57</td><td>558.69</td><td>0.0</td><td>3380.26</td><td>187.94</td><td>Mar-2019</td><td>Apr-2019</td><td>2024-03-26 11:08:...</td></tr>\n",
       "</table>\n",
       "only showing top 20 rows\n"
      ],
      "text/plain": [
       "+---------+------------------------+-----------------------+-----------------------+----------------------+-------------------+-----------------+-----------------+--------------------+\n",
       "|  loan_id|total_principal_received|total_interest_received|total_late_fee_received|total_payment_received|last_payment_amount|last_payment_date|next_payment_date|         ingest_date|\n",
       "+---------+------------------------+-----------------------+-----------------------+----------------------+-------------------+-----------------+-----------------+--------------------+\n",
       "|118184277|                  4500.0|                 309.83|                    0.0|              4809.827|            3136.06|         Oct-2018|             null|2024-03-26 11:08:...|\n",
       "|117289602|                 1851.99|                 466.72|                    0.0|               2318.71|             128.94|         Mar-2019|         Apr-2019|2024-03-26 11:08:...|\n",
       "|118216186|                 4593.79|                1285.61|                    0.0|                5879.4|             326.97|         Mar-2019|         Apr-2019|2024-03-26 11:08:...|\n",
       "|117584790|                 20000.0|                1638.12|                    0.0|             21638.121|           16960.53|         May-2018|             null|2024-03-26 11:08:...|\n",
       "|118208834|                 7053.74|                1396.74|                    0.0|               8450.48|             469.84|         Mar-2019|         Apr-2019|2024-03-26 11:08:...|\n",
       "|117566588|                 4888.37|                3811.19|                    0.0|               8699.56|             484.19|         Mar-2019|         Apr-2019|2024-03-26 11:08:...|\n",
       "|118221134|                  2261.1|                 2017.6|                    0.0|                4278.7|             238.17|         Mar-2019|         Apr-2019|2024-03-26 11:08:...|\n",
       "|118183021|                 2688.72|                 345.32|                    0.0|               3034.04|             168.65|         Mar-2019|         Apr-2019|2024-03-26 11:08:...|\n",
       "|118209005|                 7567.78|                1346.25|                    0.0|               8914.03|             495.58|         Mar-2019|         Apr-2019|2024-03-26 11:08:...|\n",
       "|118214952|                 3291.77|                 651.81|                    0.0|               3943.58|             219.26|         Mar-2019|         Apr-2019|2024-03-26 11:08:...|\n",
       "|117566851|                 3677.81|                4886.21|                    0.0|               8564.02|             476.89|         Mar-2019|         Apr-2019|2024-03-26 11:08:...|\n",
       "|115648172|                 6456.48|                1769.28|                    0.0|               8225.76|             454.51|         Mar-2019|         Apr-2019|2024-03-26 11:08:...|\n",
       "|115354924|                 28000.0|                2612.93|                    0.0|             30612.936|           22262.75|         Jul-2018|             null|2024-03-26 11:08:...|\n",
       "|118216367|                 19200.0|                1598.26|                    0.0|             20798.256|           17143.24|         Jul-2018|             null|2024-03-26 11:08:...|\n",
       "|118209104|                 9043.79|                8070.47|                    0.0|              17114.26|             952.65|         Mar-2019|         Apr-2019|2024-03-26 11:08:...|\n",
       "|118193433|                 2043.26|                 2730.2|                    0.0|               4773.46|             264.94|         Mar-2019|         Apr-2019|2024-03-26 11:08:...|\n",
       "|118188718|                  8000.0|                 1341.8|                    0.0|              9341.797|            4694.48|         Mar-2019|             null|2024-03-26 11:08:...|\n",
       "|116868788|                 2755.99|                 776.53|                    0.0|               3532.52|             196.18|         Mar-2019|         Apr-2019|2024-03-26 11:08:...|\n",
       "|116264178|                 3406.16|                 605.14|                    0.0|                4011.3|             223.01|         Mar-2019|         Apr-2019|2024-03-26 11:08:...|\n",
       "|117616063|                 2821.57|                 558.69|                    0.0|               3380.26|             187.94|         Mar-2019|         Apr-2019|2024-03-26 11:08:...|\n",
       "+---------+------------------------+-----------------------+-----------------------+----------------------+-------------------+-----------------+-----------------+--------------------+\n",
       "only showing top 20 rows"
      ]
     },
     "execution_count": 9,
     "metadata": {},
     "output_type": "execute_result"
    }
   ],
   "source": [
    "loans_repay_ingest_date"
   ]
  },
  {
   "cell_type": "code",
   "execution_count": 10,
   "id": "dd1a4902",
   "metadata": {},
   "outputs": [],
   "source": [
    "loans_repay_ingest_date.createOrReplaceTempView(\"loans_repay\")"
   ]
  },
  {
   "cell_type": "markdown",
   "id": "5d352045",
   "metadata": {},
   "source": [
    "### Drop the rows which have nulls in any of these columns\n",
    "[\"total_principal_received\", \"total_interest_received\", \"total_late_fee_received\", \"toal_payment_amount\", \"last_payment_amount\"]"
   ]
  },
  {
   "cell_type": "code",
   "execution_count": 11,
   "id": "3e0b6fd1",
   "metadata": {},
   "outputs": [
    {
     "data": {
      "text/html": [
       "<table border='1'>\n",
       "<tr><th>count(1)</th></tr>\n",
       "<tr><td>69</td></tr>\n",
       "</table>\n"
      ],
      "text/plain": [
       "+--------+\n",
       "|count(1)|\n",
       "+--------+\n",
       "|      69|\n",
       "+--------+"
      ]
     },
     "execution_count": 11,
     "metadata": {},
     "output_type": "execute_result"
    }
   ],
   "source": [
    "spark.sql(\"SELECT COUNT(*) FROM loans_repay WHERE total_principal_received\t is null\")"
   ]
  },
  {
   "cell_type": "code",
   "execution_count": 12,
   "id": "a02655c4",
   "metadata": {},
   "outputs": [
    {
     "data": {
      "text/plain": [
       "2260701"
      ]
     },
     "execution_count": 12,
     "metadata": {},
     "output_type": "execute_result"
    }
   ],
   "source": [
    "loans_repay_ingest_date.count()"
   ]
  },
  {
   "cell_type": "code",
   "execution_count": 13,
   "id": "30410148",
   "metadata": {},
   "outputs": [],
   "source": [
    "columns_to_check = [\"total_principal_received\", \"total_interest_received\", \"total_late_fee_received\", \"total_payment_received\", \"last_payment_amount\"]"
   ]
  },
  {
   "cell_type": "code",
   "execution_count": 14,
   "id": "01d44c95",
   "metadata": {},
   "outputs": [],
   "source": [
    "loans_repay_nulls_dropped = loans_repay_ingest_date.na.drop(how='any', subset = columns_to_check)"
   ]
  },
  {
   "cell_type": "code",
   "execution_count": 15,
   "id": "2cf74177",
   "metadata": {},
   "outputs": [
    {
     "data": {
      "text/plain": [
       "2260498"
      ]
     },
     "execution_count": 15,
     "metadata": {},
     "output_type": "execute_result"
    }
   ],
   "source": [
    "loans_repay_nulls_dropped.count()"
   ]
  },
  {
   "cell_type": "code",
   "execution_count": 16,
   "id": "01f5c8a5",
   "metadata": {},
   "outputs": [],
   "source": [
    "loans_repay_nulls_dropped.createOrReplaceTempView(\"loans_repay\")"
   ]
  },
  {
   "cell_type": "markdown",
   "id": "4a71fd2a",
   "metadata": {},
   "source": [
    "### The records where total_payment_received = 0 and total_principal_received != 0  are incorrect. Need to fix them\n",
    "### total_payment_received = total_principal_received + total_interest_received + total_late_fee_received"
   ]
  },
  {
   "cell_type": "code",
   "execution_count": 17,
   "id": "51e05a24",
   "metadata": {},
   "outputs": [
    {
     "data": {
      "text/html": [
       "<table border='1'>\n",
       "<tr><th>loan_id</th><th>total_principal_received</th><th>total_interest_received</th><th>total_late_fee_received</th><th>total_payment_received</th><th>last_payment_amount</th><th>last_payment_date</th><th>next_payment_date</th><th>ingest_date</th></tr>\n",
       "<tr><td>485818</td><td>14640.096</td><td>13388.84</td><td>13000.0</td><td>0.0</td><td>0.0</td><td>0.0</td><td>Mar-2013</td><td>2024-03-26 11:09:...</td></tr>\n",
       "<tr><td>485471</td><td>29620.818</td><td>29134.64</td><td>25000.0</td><td>0.0</td><td>0.0</td><td>0.0</td><td>Mar-2013</td><td>2024-03-26 11:09:...</td></tr>\n",
       "<tr><td>482256</td><td>8735.611</td><td>7479.87</td><td>8000.0</td><td>0.0</td><td>0.0</td><td>0.0</td><td>Feb-2011</td><td>2024-03-26 11:09:...</td></tr>\n",
       "<tr><td>478160</td><td>410.0</td><td>407.36</td><td>0.0</td><td>0.0</td><td>143.1</td><td>410.0</td><td>null</td><td>2024-03-26 11:09:...</td></tr>\n",
       "<tr><td>476557</td><td>28865.18</td><td>24164.67</td><td>5692.31</td><td>0.0</td><td>6972.59</td><td>19916.78</td><td>Dec-2010</td><td>2024-03-26 11:09:...</td></tr>\n",
       "<tr><td>472516</td><td>25951.482</td><td>24731.76</td><td>25000.0</td><td>0.0</td><td>0.0</td><td>0.0</td><td>May-2010</td><td>2024-03-26 11:09:...</td></tr>\n",
       "<tr><td>472197</td><td>12048.13</td><td>12018.01</td><td>10000.0</td><td>0.0</td><td>0.0</td><td>0.0</td><td>Jan-2013</td><td>2024-03-26 11:09:...</td></tr>\n",
       "<tr><td>467364</td><td>29216.791</td><td>29066.19</td><td>24250.0</td><td>0.0</td><td>0.0</td><td>0.0</td><td>Dec-2012</td><td>2024-03-26 11:09:...</td></tr>\n",
       "<tr><td>399499</td><td>26557.729</td><td>26336.41</td><td>24000.0</td><td>0.0</td><td>0.0</td><td>0.0</td><td>Dec-2010</td><td>2024-03-26 11:09:...</td></tr>\n",
       "<tr><td>451482</td><td>7587.5513</td><td>7587.55</td><td>7000.0</td><td>0.0</td><td>0.0</td><td>0.0</td><td>Jan-2011</td><td>2024-03-26 11:09:...</td></tr>\n",
       "<tr><td>453361</td><td>11072.387</td><td>11057.05</td><td>9000.0</td><td>0.0</td><td>0.0</td><td>0.0</td><td>Oct-2012</td><td>2024-03-26 11:09:...</td></tr>\n",
       "<tr><td>451775</td><td>3196.65</td><td>3191.35</td><td>1704.25</td><td>0.0</td><td>6.0</td><td>600.15</td><td>Apr-2010</td><td>2024-03-26 11:09:...</td></tr>\n",
       "<tr><td>440817</td><td>9004.034</td><td>9004.03</td><td>8000.0</td><td>0.0</td><td>0.0</td><td>0.0</td><td>Jan-2012</td><td>2024-03-26 11:09:...</td></tr>\n",
       "<tr><td>440285</td><td>9103.791</td><td>9103.79</td><td>8000.0</td><td>0.0</td><td>0.0</td><td>0.0</td><td>Sep-2012</td><td>2024-03-26 11:09:...</td></tr>\n",
       "<tr><td>436279</td><td>10766.17</td><td>10507.37</td><td>10400.0</td><td>0.0</td><td>0.0</td><td>0.0</td><td>Feb-2010</td><td>2024-03-26 11:09:...</td></tr>\n",
       "<tr><td>436215</td><td>17839.12</td><td>13881.97</td><td>13543.88</td><td>0.0</td><td>0.0</td><td>1.23</td><td>Dec-2011</td><td>2024-03-26 11:09:...</td></tr>\n",
       "<tr><td>435953</td><td>12350.051</td><td>12116.9</td><td>10000.0</td><td>0.0</td><td>0.0</td><td>0.0</td><td>Sep-2012</td><td>2024-03-26 11:09:...</td></tr>\n",
       "<tr><td>430237</td><td>1597.64</td><td>1597.64</td><td>1069.79</td><td>0.0</td><td>1.41</td><td>134.2</td><td>Jul-2010</td><td>2024-03-26 11:09:...</td></tr>\n",
       "<tr><td>429906</td><td>20204.574</td><td>20085.72</td><td>17000.0</td><td>0.0</td><td>0.0</td><td>0.0</td><td>Aug-2012</td><td>2024-03-26 11:09:...</td></tr>\n",
       "<tr><td>425187</td><td>4919.18</td><td>4913.37</td><td>3862.04</td><td>0.0</td><td>18.0176</td><td>84.3</td><td>Dec-2011</td><td>2024-03-26 11:09:...</td></tr>\n",
       "</table>\n",
       "only showing top 20 rows\n"
      ],
      "text/plain": [
       "+-------+------------------------+-----------------------+-----------------------+----------------------+-------------------+-----------------+-----------------+--------------------+\n",
       "|loan_id|total_principal_received|total_interest_received|total_late_fee_received|total_payment_received|last_payment_amount|last_payment_date|next_payment_date|         ingest_date|\n",
       "+-------+------------------------+-----------------------+-----------------------+----------------------+-------------------+-----------------+-----------------+--------------------+\n",
       "| 485818|               14640.096|               13388.84|                13000.0|                   0.0|                0.0|              0.0|         Mar-2013|2024-03-26 11:09:...|\n",
       "| 485471|               29620.818|               29134.64|                25000.0|                   0.0|                0.0|              0.0|         Mar-2013|2024-03-26 11:09:...|\n",
       "| 482256|                8735.611|                7479.87|                 8000.0|                   0.0|                0.0|              0.0|         Feb-2011|2024-03-26 11:09:...|\n",
       "| 478160|                   410.0|                 407.36|                    0.0|                   0.0|              143.1|            410.0|             null|2024-03-26 11:09:...|\n",
       "| 476557|                28865.18|               24164.67|                5692.31|                   0.0|            6972.59|         19916.78|         Dec-2010|2024-03-26 11:09:...|\n",
       "| 472516|               25951.482|               24731.76|                25000.0|                   0.0|                0.0|              0.0|         May-2010|2024-03-26 11:09:...|\n",
       "| 472197|                12048.13|               12018.01|                10000.0|                   0.0|                0.0|              0.0|         Jan-2013|2024-03-26 11:09:...|\n",
       "| 467364|               29216.791|               29066.19|                24250.0|                   0.0|                0.0|              0.0|         Dec-2012|2024-03-26 11:09:...|\n",
       "| 399499|               26557.729|               26336.41|                24000.0|                   0.0|                0.0|              0.0|         Dec-2010|2024-03-26 11:09:...|\n",
       "| 451482|               7587.5513|                7587.55|                 7000.0|                   0.0|                0.0|              0.0|         Jan-2011|2024-03-26 11:09:...|\n",
       "| 453361|               11072.387|               11057.05|                 9000.0|                   0.0|                0.0|              0.0|         Oct-2012|2024-03-26 11:09:...|\n",
       "| 451775|                 3196.65|                3191.35|                1704.25|                   0.0|                6.0|           600.15|         Apr-2010|2024-03-26 11:09:...|\n",
       "| 440817|                9004.034|                9004.03|                 8000.0|                   0.0|                0.0|              0.0|         Jan-2012|2024-03-26 11:09:...|\n",
       "| 440285|                9103.791|                9103.79|                 8000.0|                   0.0|                0.0|              0.0|         Sep-2012|2024-03-26 11:09:...|\n",
       "| 436279|                10766.17|               10507.37|                10400.0|                   0.0|                0.0|              0.0|         Feb-2010|2024-03-26 11:09:...|\n",
       "| 436215|                17839.12|               13881.97|               13543.88|                   0.0|                0.0|             1.23|         Dec-2011|2024-03-26 11:09:...|\n",
       "| 435953|               12350.051|                12116.9|                10000.0|                   0.0|                0.0|              0.0|         Sep-2012|2024-03-26 11:09:...|\n",
       "| 430237|                 1597.64|                1597.64|                1069.79|                   0.0|               1.41|            134.2|         Jul-2010|2024-03-26 11:09:...|\n",
       "| 429906|               20204.574|               20085.72|                17000.0|                   0.0|                0.0|              0.0|         Aug-2012|2024-03-26 11:09:...|\n",
       "| 425187|                 4919.18|                4913.37|                3862.04|                   0.0|            18.0176|             84.3|         Dec-2011|2024-03-26 11:09:...|\n",
       "+-------+------------------------+-----------------------+-----------------------+----------------------+-------------------+-----------------+-----------------+--------------------+\n",
       "only showing top 20 rows"
      ]
     },
     "execution_count": 17,
     "metadata": {},
     "output_type": "execute_result"
    }
   ],
   "source": [
    "spark.sql(\"SELECT * FROM loans_repay WHERE total_payment_received = 0.0 and total_principal_received != 0.0\")"
   ]
  },
  {
   "cell_type": "code",
   "execution_count": 18,
   "id": "ca3089ef",
   "metadata": {},
   "outputs": [],
   "source": [
    "loans_repay_clean1 = loans_repay_nulls_dropped.withColumn(\"total_payment_received\", \n",
    "                                     when(\n",
    "                                         (col(\"total_principal_received\") != 0.0) &\n",
    "                                         (col(\"total_payment_received\") == 0.0),\n",
    "                                         col(\"total_principal_received\") + col(\"total_interest_received\") + (\"total_late_fee_received\")\n",
    "                                     ).otherwise(col(\"total_payment_received\"))   \n",
    "                                    )"
   ]
  },
  {
   "cell_type": "code",
   "execution_count": 19,
   "id": "baa0f3f2",
   "metadata": {},
   "outputs": [
    {
     "data": {
      "text/html": [
       "<table border='1'>\n",
       "<tr><th>loan_id</th><th>total_principal_received</th><th>total_interest_received</th><th>total_late_fee_received</th><th>total_payment_received</th><th>last_payment_amount</th><th>last_payment_date</th><th>next_payment_date</th><th>ingest_date</th></tr>\n",
       "</table>\n"
      ],
      "text/plain": [
       "+-------+------------------------+-----------------------+-----------------------+----------------------+-------------------+-----------------+-----------------+-----------+\n",
       "|loan_id|total_principal_received|total_interest_received|total_late_fee_received|total_payment_received|last_payment_amount|last_payment_date|next_payment_date|ingest_date|\n",
       "+-------+------------------------+-----------------------+-----------------------+----------------------+-------------------+-----------------+-----------------+-----------+\n",
       "+-------+------------------------+-----------------------+-----------------------+----------------------+-------------------+-----------------+-----------------+-----------+"
      ]
     },
     "execution_count": 19,
     "metadata": {},
     "output_type": "execute_result"
    }
   ],
   "source": [
    "loans_repay_clean1.filter(\"total_payment_received = 0.0 and total_principal_received != 0\")"
   ]
  },
  {
   "cell_type": "markdown",
   "id": "7f6d4b52",
   "metadata": {},
   "source": [
    "### Fix the records where total_payment_received = 0.0"
   ]
  },
  {
   "cell_type": "code",
   "execution_count": 20,
   "id": "5d14b7e2",
   "metadata": {},
   "outputs": [
    {
     "data": {
      "text/plain": [
       "2260498"
      ]
     },
     "execution_count": 20,
     "metadata": {},
     "output_type": "execute_result"
    }
   ],
   "source": [
    "loans_repay_clean1.count()"
   ]
  },
  {
   "cell_type": "code",
   "execution_count": 21,
   "id": "35bf0885",
   "metadata": {},
   "outputs": [],
   "source": [
    "loans_repay_clean2 = loans_repay_clean1.filter(\"total_payment_received != 0.0\")"
   ]
  },
  {
   "cell_type": "code",
   "execution_count": 22,
   "id": "b014263f",
   "metadata": {},
   "outputs": [
    {
     "data": {
      "text/html": [
       "<table border='1'>\n",
       "<tr><th>loan_id</th><th>total_principal_received</th><th>total_interest_received</th><th>total_late_fee_received</th><th>total_payment_received</th><th>last_payment_amount</th><th>last_payment_date</th><th>next_payment_date</th><th>ingest_date</th></tr>\n",
       "</table>\n"
      ],
      "text/plain": [
       "+-------+------------------------+-----------------------+-----------------------+----------------------+-------------------+-----------------+-----------------+-----------+\n",
       "|loan_id|total_principal_received|total_interest_received|total_late_fee_received|total_payment_received|last_payment_amount|last_payment_date|next_payment_date|ingest_date|\n",
       "+-------+------------------------+-----------------------+-----------------------+----------------------+-------------------+-----------------+-----------------+-----------+\n",
       "+-------+------------------------+-----------------------+-----------------------+----------------------+-------------------+-----------------+-----------------+-----------+"
      ]
     },
     "execution_count": 22,
     "metadata": {},
     "output_type": "execute_result"
    }
   ],
   "source": [
    "loans_repay_clean2.filter(\"total_payment_received = 0.0\")"
   ]
  },
  {
   "cell_type": "code",
   "execution_count": 23,
   "id": "9f8e4260",
   "metadata": {},
   "outputs": [
    {
     "data": {
      "text/plain": [
       "2259503"
      ]
     },
     "execution_count": 23,
     "metadata": {},
     "output_type": "execute_result"
    }
   ],
   "source": [
    "loans_repay_clean2.count()"
   ]
  },
  {
   "cell_type": "markdown",
   "id": "e998e5b1",
   "metadata": {},
   "source": [
    "### Fix the last_payment_date column"
   ]
  },
  {
   "cell_type": "code",
   "execution_count": 24,
   "id": "df792abe",
   "metadata": {},
   "outputs": [
    {
     "data": {
      "text/html": [
       "<table border='1'>\n",
       "<tr><th>last_payment_date</th></tr>\n",
       "<tr><td>Sep-2017</td></tr>\n",
       "<tr><td>Oct-2016</td></tr>\n",
       "<tr><td>2590.8</td></tr>\n",
       "<tr><td>Jul-2009</td></tr>\n",
       "<tr><td>May-2015</td></tr>\n",
       "<tr><td>Aug-2014</td></tr>\n",
       "<tr><td>Apr-2013</td></tr>\n",
       "<tr><td>Jan-2012</td></tr>\n",
       "<tr><td>May-2010</td></tr>\n",
       "<tr><td>Sep-2008</td></tr>\n",
       "<tr><td>Dec-2014</td></tr>\n",
       "<tr><td>22.0</td></tr>\n",
       "<tr><td>Jan-2011</td></tr>\n",
       "<tr><td>Nov-2008</td></tr>\n",
       "<tr><td>Nov-2012</td></tr>\n",
       "<tr><td>Jul-2010</td></tr>\n",
       "<tr><td>Jun-2011</td></tr>\n",
       "<tr><td>Nov-2009</td></tr>\n",
       "<tr><td>Jan-2008</td></tr>\n",
       "<tr><td>3572.93</td></tr>\n",
       "</table>\n",
       "only showing top 20 rows\n"
      ],
      "text/plain": [
       "+-----------------+\n",
       "|last_payment_date|\n",
       "+-----------------+\n",
       "|         Sep-2017|\n",
       "|         Oct-2016|\n",
       "|           2590.8|\n",
       "|         Jul-2009|\n",
       "|         May-2015|\n",
       "|         Aug-2014|\n",
       "|         Apr-2013|\n",
       "|         Jan-2012|\n",
       "|         May-2010|\n",
       "|         Sep-2008|\n",
       "|         Dec-2014|\n",
       "|             22.0|\n",
       "|         Jan-2011|\n",
       "|         Nov-2008|\n",
       "|         Nov-2012|\n",
       "|         Jul-2010|\n",
       "|         Jun-2011|\n",
       "|         Nov-2009|\n",
       "|         Jan-2008|\n",
       "|          3572.93|\n",
       "+-----------------+\n",
       "only showing top 20 rows"
      ]
     },
     "execution_count": 24,
     "metadata": {},
     "output_type": "execute_result"
    }
   ],
   "source": [
    "loans_repay_clean2.select(\"last_payment_date\").distinct()"
   ]
  },
  {
   "cell_type": "code",
   "execution_count": 25,
   "id": "913dc851",
   "metadata": {},
   "outputs": [],
   "source": [
    "loans_repay_clean3 = loans_repay_clean2.filter(\"last_payment_date!='3572.93'\")"
   ]
  },
  {
   "cell_type": "markdown",
   "id": "3c37f1e5",
   "metadata": {},
   "source": [
    "### Fixing the last_payment_date = 0.0 and next_payment_date = 0.0 . replace them with null"
   ]
  },
  {
   "cell_type": "code",
   "execution_count": 26,
   "id": "232f30e4",
   "metadata": {},
   "outputs": [
    {
     "data": {
      "text/plain": [
       "14"
      ]
     },
     "execution_count": 26,
     "metadata": {},
     "output_type": "execute_result"
    }
   ],
   "source": [
    "loans_repay_clean3.filter(\"last_payment_date = 0.0\").count()"
   ]
  },
  {
   "cell_type": "code",
   "execution_count": 27,
   "id": "cae30663",
   "metadata": {},
   "outputs": [
    {
     "data": {
      "text/plain": [
       "22"
      ]
     },
     "execution_count": 27,
     "metadata": {},
     "output_type": "execute_result"
    }
   ],
   "source": [
    "loans_repay_clean3.filter(\"next_payment_date = 0.0\").count()"
   ]
  },
  {
   "cell_type": "code",
   "execution_count": 28,
   "id": "a1e17923",
   "metadata": {},
   "outputs": [],
   "source": [
    "loans_repay_ldate_fixed = loans_repay_clean3.withColumn( \"last_payment_date\",\n",
    "                              when(col(\"last_payment_date\") == 0.0,None)\n",
    "                              .otherwise(col(\"last_payment_date\")) \n",
    "                             )"
   ]
  },
  {
   "cell_type": "code",
   "execution_count": 29,
   "id": "924a22da",
   "metadata": {},
   "outputs": [],
   "source": [
    "loans_repay_nextdate_fixed = loans_repay_ldate_fixed.withColumn( \"next_payment_date\",\n",
    "                              when(col(\"next_payment_date\") == 0.0,None)\n",
    "                              .otherwise(col(\"next_payment_date\")) \n",
    "                             )"
   ]
  },
  {
   "cell_type": "code",
   "execution_count": 30,
   "id": "5f3ab2cc",
   "metadata": {},
   "outputs": [
    {
     "data": {
      "text/plain": [
       "0"
      ]
     },
     "execution_count": 30,
     "metadata": {},
     "output_type": "execute_result"
    }
   ],
   "source": [
    "loans_repay_nextdate_fixed.filter(\"last_payment_date = 0.0\").count()"
   ]
  },
  {
   "cell_type": "code",
   "execution_count": 31,
   "id": "90353789",
   "metadata": {},
   "outputs": [
    {
     "data": {
      "text/plain": [
       "0"
      ]
     },
     "execution_count": 31,
     "metadata": {},
     "output_type": "execute_result"
    }
   ],
   "source": [
    "loans_repay_nextdate_fixed.filter(\"next_payment_date = 0.0\").count()"
   ]
  },
  {
   "cell_type": "code",
   "execution_count": 34,
   "id": "37e37f9b",
   "metadata": {},
   "outputs": [
    {
     "name": "stdout",
     "output_type": "stream",
     "text": [
      "root\n",
      " |-- loan_id: string (nullable = true)\n",
      " |-- total_principal_received: float (nullable = true)\n",
      " |-- total_interest_received: float (nullable = true)\n",
      " |-- total_late_fee_received: float (nullable = true)\n",
      " |-- total_payment_received: double (nullable = true)\n",
      " |-- last_payment_amount: float (nullable = true)\n",
      " |-- last_payment_date: string (nullable = true)\n",
      " |-- next_payment_date: string (nullable = true)\n",
      " |-- ingest_date: timestamp (nullable = false)\n",
      "\n"
     ]
    }
   ],
   "source": [
    "loans_repay_nextdate_fixed.printSchema()"
   ]
  },
  {
   "cell_type": "markdown",
   "id": "f4086ce0",
   "metadata": {},
   "source": [
    "### write it back to the cleaned folder"
   ]
  },
  {
   "cell_type": "code",
   "execution_count": 32,
   "id": "e973c7f0",
   "metadata": {},
   "outputs": [],
   "source": [
    "loans_repay_nextdate_fixed.write \\\n",
    ".format(\"csv\") \\\n",
    ".option(\"header\", \"true\") \\\n",
    ".mode(\"overwrite\") \\\n",
    ".option(\"path\", \"lending_club_project/cleaned_data/loan_repayments_cleaned_csv\") \\\n",
    ".save()"
   ]
  },
  {
   "cell_type": "code",
   "execution_count": 33,
   "id": "f7162e9d",
   "metadata": {},
   "outputs": [],
   "source": [
    "loans_repay_nextdate_fixed.write \\\n",
    ".format(\"parquet\") \\\n",
    ".mode(\"overwrite\") \\\n",
    ".option(\"path\", \"lending_club_project/cleaned_data/loan_repayments_cleaned_parquet\") \\\n",
    ".save()"
   ]
  },
  {
   "cell_type": "code",
   "execution_count": null,
   "id": "9bd41bc2",
   "metadata": {},
   "outputs": [],
   "source": []
  }
 ],
 "metadata": {
  "kernelspec": {
   "display_name": "Pyspark 3",
   "language": "python",
   "name": "pyspark3"
  },
  "language_info": {
   "codemirror_mode": {
    "name": "ipython",
    "version": 3
   },
   "file_extension": ".py",
   "mimetype": "text/x-python",
   "name": "python",
   "nbconvert_exporter": "python",
   "pygments_lexer": "ipython3",
   "version": "3.6.12"
  }
 },
 "nbformat": 4,
 "nbformat_minor": 5
}
