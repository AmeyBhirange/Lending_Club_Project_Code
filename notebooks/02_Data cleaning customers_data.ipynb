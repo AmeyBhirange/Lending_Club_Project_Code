{
 "cells": [
  {
   "cell_type": "code",
   "execution_count": 1,
   "id": "bd0aa3e9",
   "metadata": {},
   "outputs": [],
   "source": [
    "from pyspark.sql import SparkSession\n",
    "import getpass\n",
    "username = getpass.getuser()\n",
    "spark = SparkSession. \\\n",
    "builder. \\\n",
    "config(\"spark.sql.warehouse.dir\", f\"/user/itv010698/warehouse\"). \\\n",
    "enableHiveSupport(). \\\n",
    "master('yarn'). \\\n",
    "getOrCreate()"
   ]
  },
  {
   "cell_type": "code",
   "execution_count": 2,
   "id": "0f194f14",
   "metadata": {},
   "outputs": [],
   "source": [
    "cust_raw_df = spark.read \\\n",
    ".format(\"csv\") \\\n",
    ".option(\"inferSchema\", \"true\") \\\n",
    ".option(\"header\", \"true\") \\\n",
    ".load(\"lending_club_project/raw_data/customers_data_csv\")"
   ]
  },
  {
   "cell_type": "code",
   "execution_count": 3,
   "id": "2c7ad3ae",
   "metadata": {},
   "outputs": [
    {
     "data": {
      "text/html": [
       "<table border='1'>\n",
       "<tr><th>member_id</th><th>emp_title</th><th>emp_length</th><th>home_ownership</th><th>annual_inc</th><th>addr_state</th><th>zip_code</th><th>country</th><th>grade</th><th>sub_grade</th><th>verification_status</th><th>tot_hi_cred_lim</th><th>application_type</th><th>annual_inc_joint</th><th>verification_status_joint</th></tr>\n",
       "<tr><td>90828734b5f4150d0...</td><td>Supervisor</td><td>10+ years</td><td>MORTGAGE</td><td>125000.0</td><td>KY</td><td>424xx</td><td>USA</td><td>E</td><td>E3</td><td>Verified</td><td>594540.0</td><td>Individual</td><td>null</td><td>null</td></tr>\n",
       "<tr><td>148f7f93997c46a1f...</td><td>Security</td><td>&lt; 1 year</td><td>RENT</td><td>54000.0</td><td>WI</td><td>532xx</td><td>USA</td><td>A</td><td>A4</td><td>Not Verified</td><td>57729.0</td><td>Individual</td><td>null</td><td>null</td></tr>\n",
       "<tr><td>7190fbf030fe6cdda...</td><td>Manager</td><td>5 years</td><td>MORTGAGE</td><td>28000.0</td><td>AR</td><td>721xx</td><td>USA</td><td>C</td><td>C4</td><td>Verified</td><td>82780.0</td><td>Individual</td><td>null</td><td>null</td></tr>\n",
       "<tr><td>115721e01855eec21...</td><td>Teller</td><td>3 years</td><td>RENT</td><td>26000.0</td><td>WI</td><td>532xx</td><td>USA</td><td>A</td><td>A5</td><td>Not Verified</td><td>41114.0</td><td>Individual</td><td>null</td><td>null</td></tr>\n",
       "<tr><td>1477fb5f4e5e8c96e...</td><td>Quality Control A...</td><td>3 years</td><td>RENT</td><td>67000.0</td><td>TX</td><td>760xx</td><td>USA</td><td>F</td><td>F2</td><td>Verified</td><td>43449.0</td><td>Individual</td><td>null</td><td>null</td></tr>\n",
       "<tr><td>577b9141f4d3e00f1...</td><td>Technician</td><td>2 years</td><td>RENT</td><td>65000.0</td><td>CA</td><td>900xx</td><td>USA</td><td>C</td><td>C3</td><td>Verified</td><td>127916.0</td><td>Joint App</td><td>118000.0</td><td>Verified</td></tr>\n",
       "<tr><td>ed5ba1091dba4fa84...</td><td>Host</td><td>&lt; 1 year</td><td>MORTGAGE</td><td>325000.0</td><td>NY</td><td>111xx</td><td>USA</td><td>B</td><td>B5</td><td>Source Verified</td><td>41000.0</td><td>Individual</td><td>null</td><td>null</td></tr>\n",
       "<tr><td>6f138cafd3e520190...</td><td>Guest Services Su...</td><td>2 years</td><td>MORTGAGE</td><td>60000.0</td><td>AZ</td><td>850xx</td><td>USA</td><td>C</td><td>C2</td><td>Source Verified</td><td>280890.0</td><td>Individual</td><td>null</td><td>null</td></tr>\n",
       "<tr><td>de0ba908fc731ac67...</td><td>general manager</td><td>10+ years</td><td>MORTGAGE</td><td>74000.0</td><td>GA</td><td>310xx</td><td>USA</td><td>A</td><td>A3</td><td>Source Verified</td><td>306897.0</td><td>Individual</td><td>null</td><td>null</td></tr>\n",
       "<tr><td>f8417d62d055055ff...</td><td>Sheet Metal Mechanic</td><td>9 years</td><td>MORTGAGE</td><td>54496.0</td><td>GA</td><td>307xx</td><td>USA</td><td>B</td><td>B1</td><td>Verified</td><td>153345.0</td><td>Joint App</td><td>119496.0</td><td>Verified</td></tr>\n",
       "<tr><td>67a26dade5a4c0521...</td><td>Owner</td><td>10+ years</td><td>RENT</td><td>60000.0</td><td>TX</td><td>762xx</td><td>USA</td><td>C</td><td>C2</td><td>Source Verified</td><td>64104.0</td><td>Individual</td><td>null</td><td>null</td></tr>\n",
       "<tr><td>4552db9266beb9ff7...</td><td>Business Manager</td><td>10+ years</td><td>MORTGAGE</td><td>53000.0</td><td>IL</td><td>618xx</td><td>USA</td><td>B</td><td>B2</td><td>Source Verified</td><td>117200.0</td><td>Individual</td><td>null</td><td>null</td></tr>\n",
       "<tr><td>66cd4efd3947236e8...</td><td>Custodian</td><td>10+ years</td><td>MORTGAGE</td><td>465000.0</td><td>RI</td><td>028xx</td><td>USA</td><td>B</td><td>B5</td><td>Not Verified</td><td>365133.0</td><td>Individual</td><td>null</td><td>null</td></tr>\n",
       "<tr><td>59095532513ad244c...</td><td>Service provider</td><td>10+ years</td><td>MORTGAGE</td><td>110000.0</td><td>CA</td><td>945xx</td><td>USA</td><td>A</td><td>A4</td><td>Source Verified</td><td>524699.0</td><td>Individual</td><td>null</td><td>null</td></tr>\n",
       "<tr><td>61311a8d1e47c5688...</td><td>Relationship Manager</td><td>3 years</td><td>RENT</td><td>150000.0</td><td>NY</td><td>111xx</td><td>USA</td><td>B</td><td>B2</td><td>Not Verified</td><td>136683.0</td><td>Individual</td><td>null</td><td>null</td></tr>\n",
       "<tr><td>46251fa12fcecfbd0...</td><td>Flight attendant</td><td>1 year</td><td>RENT</td><td>40000.0</td><td>CO</td><td>800xx</td><td>USA</td><td>A</td><td>A1</td><td>Source Verified</td><td>62200.0</td><td>Individual</td><td>null</td><td>null</td></tr>\n",
       "<tr><td>65b07b6820c391dcc...</td><td>Pilot</td><td>2 years</td><td>MORTGAGE</td><td>106000.0</td><td>AL</td><td>356xx</td><td>USA</td><td>C</td><td>C3</td><td>Verified</td><td>95200.0</td><td>Individual</td><td>null</td><td>null</td></tr>\n",
       "<tr><td>cc42a4d1ec3ace85e...</td><td>null</td><td>&lt; 1 year</td><td>MORTGAGE</td><td>76000.0</td><td>OR</td><td>973xx</td><td>USA</td><td>B</td><td>B2</td><td>Not Verified</td><td>7000.0</td><td>Individual</td><td>null</td><td>null</td></tr>\n",
       "<tr><td>aa54ba87ab1775f35...</td><td>Archivist</td><td>5 years</td><td>MORTGAGE</td><td>60000.0</td><td>MA</td><td>020xx</td><td>USA</td><td>A</td><td>A2</td><td>Not Verified</td><td>376785.0</td><td>Joint App</td><td>250000.0</td><td>Not Verified</td></tr>\n",
       "<tr><td>fb4dd0c8510c6a60f...</td><td>null</td><td>null</td><td>RENT</td><td>45000.0</td><td>NY</td><td>114xx</td><td>USA</td><td>C</td><td>C2</td><td>Not Verified</td><td>47400.0</td><td>Individual</td><td>null</td><td>null</td></tr>\n",
       "</table>\n",
       "only showing top 20 rows\n"
      ],
      "text/plain": [
       "+--------------------+--------------------+----------+--------------+----------+----------+--------+-------+-----+---------+-------------------+---------------+----------------+----------------+-------------------------+\n",
       "|           member_id|           emp_title|emp_length|home_ownership|annual_inc|addr_state|zip_code|country|grade|sub_grade|verification_status|tot_hi_cred_lim|application_type|annual_inc_joint|verification_status_joint|\n",
       "+--------------------+--------------------+----------+--------------+----------+----------+--------+-------+-----+---------+-------------------+---------------+----------------+----------------+-------------------------+\n",
       "|90828734b5f4150d0...|          Supervisor| 10+ years|      MORTGAGE|  125000.0|        KY|   424xx|    USA|    E|       E3|           Verified|       594540.0|      Individual|            null|                     null|\n",
       "|148f7f93997c46a1f...|            Security|  < 1 year|          RENT|   54000.0|        WI|   532xx|    USA|    A|       A4|       Not Verified|        57729.0|      Individual|            null|                     null|\n",
       "|7190fbf030fe6cdda...|             Manager|   5 years|      MORTGAGE|   28000.0|        AR|   721xx|    USA|    C|       C4|           Verified|        82780.0|      Individual|            null|                     null|\n",
       "|115721e01855eec21...|              Teller|   3 years|          RENT|   26000.0|        WI|   532xx|    USA|    A|       A5|       Not Verified|        41114.0|      Individual|            null|                     null|\n",
       "|1477fb5f4e5e8c96e...|Quality Control A...|   3 years|          RENT|   67000.0|        TX|   760xx|    USA|    F|       F2|           Verified|        43449.0|      Individual|            null|                     null|\n",
       "|577b9141f4d3e00f1...|          Technician|   2 years|          RENT|   65000.0|        CA|   900xx|    USA|    C|       C3|           Verified|       127916.0|       Joint App|        118000.0|                 Verified|\n",
       "|ed5ba1091dba4fa84...|                Host|  < 1 year|      MORTGAGE|  325000.0|        NY|   111xx|    USA|    B|       B5|    Source Verified|        41000.0|      Individual|            null|                     null|\n",
       "|6f138cafd3e520190...|Guest Services Su...|   2 years|      MORTGAGE|   60000.0|        AZ|   850xx|    USA|    C|       C2|    Source Verified|       280890.0|      Individual|            null|                     null|\n",
       "|de0ba908fc731ac67...|     general manager| 10+ years|      MORTGAGE|   74000.0|        GA|   310xx|    USA|    A|       A3|    Source Verified|       306897.0|      Individual|            null|                     null|\n",
       "|f8417d62d055055ff...|Sheet Metal Mechanic|   9 years|      MORTGAGE|   54496.0|        GA|   307xx|    USA|    B|       B1|           Verified|       153345.0|       Joint App|        119496.0|                 Verified|\n",
       "|67a26dade5a4c0521...|               Owner| 10+ years|          RENT|   60000.0|        TX|   762xx|    USA|    C|       C2|    Source Verified|        64104.0|      Individual|            null|                     null|\n",
       "|4552db9266beb9ff7...|    Business Manager| 10+ years|      MORTGAGE|   53000.0|        IL|   618xx|    USA|    B|       B2|    Source Verified|       117200.0|      Individual|            null|                     null|\n",
       "|66cd4efd3947236e8...|           Custodian| 10+ years|      MORTGAGE|  465000.0|        RI|   028xx|    USA|    B|       B5|       Not Verified|       365133.0|      Individual|            null|                     null|\n",
       "|59095532513ad244c...|    Service provider| 10+ years|      MORTGAGE|  110000.0|        CA|   945xx|    USA|    A|       A4|    Source Verified|       524699.0|      Individual|            null|                     null|\n",
       "|61311a8d1e47c5688...|Relationship Manager|   3 years|          RENT|  150000.0|        NY|   111xx|    USA|    B|       B2|       Not Verified|       136683.0|      Individual|            null|                     null|\n",
       "|46251fa12fcecfbd0...|    Flight attendant|    1 year|          RENT|   40000.0|        CO|   800xx|    USA|    A|       A1|    Source Verified|        62200.0|      Individual|            null|                     null|\n",
       "|65b07b6820c391dcc...|               Pilot|   2 years|      MORTGAGE|  106000.0|        AL|   356xx|    USA|    C|       C3|           Verified|        95200.0|      Individual|            null|                     null|\n",
       "|cc42a4d1ec3ace85e...|                null|  < 1 year|      MORTGAGE|   76000.0|        OR|   973xx|    USA|    B|       B2|       Not Verified|         7000.0|      Individual|            null|                     null|\n",
       "|aa54ba87ab1775f35...|           Archivist|   5 years|      MORTGAGE|   60000.0|        MA|   020xx|    USA|    A|       A2|       Not Verified|       376785.0|       Joint App|        250000.0|             Not Verified|\n",
       "|fb4dd0c8510c6a60f...|                null|      null|          RENT|   45000.0|        NY|   114xx|    USA|    C|       C2|       Not Verified|        47400.0|      Individual|            null|                     null|\n",
       "+--------------------+--------------------+----------+--------------+----------+----------+--------+-------+-----+---------+-------------------+---------------+----------------+----------------+-------------------------+\n",
       "only showing top 20 rows"
      ]
     },
     "execution_count": 3,
     "metadata": {},
     "output_type": "execute_result"
    }
   ],
   "source": [
    "cust_raw_df"
   ]
  },
  {
   "cell_type": "code",
   "execution_count": 4,
   "id": "9788407d",
   "metadata": {},
   "outputs": [
    {
     "name": "stdout",
     "output_type": "stream",
     "text": [
      "root\n",
      " |-- member_id: string (nullable = true)\n",
      " |-- emp_title: string (nullable = true)\n",
      " |-- emp_length: string (nullable = true)\n",
      " |-- home_ownership: string (nullable = true)\n",
      " |-- annual_inc: string (nullable = true)\n",
      " |-- addr_state: string (nullable = true)\n",
      " |-- zip_code: string (nullable = true)\n",
      " |-- country: string (nullable = true)\n",
      " |-- grade: string (nullable = true)\n",
      " |-- sub_grade: string (nullable = true)\n",
      " |-- verification_status: string (nullable = true)\n",
      " |-- tot_hi_cred_lim: double (nullable = true)\n",
      " |-- application_type: string (nullable = true)\n",
      " |-- annual_inc_joint: string (nullable = true)\n",
      " |-- verification_status_joint: string (nullable = true)\n",
      "\n"
     ]
    }
   ],
   "source": [
    "cust_raw_df.printSchema()"
   ]
  },
  {
   "cell_type": "markdown",
   "id": "2fa05180",
   "metadata": {},
   "source": [
    "### Change schema"
   ]
  },
  {
   "cell_type": "code",
   "execution_count": 5,
   "id": "50048d13",
   "metadata": {},
   "outputs": [],
   "source": [
    "schema = \"member_id string, emp_title string, emp_length string, home_ownership string, annual_inc float, addr_state string, zip_code string, country string, grade string, subgrade string, verification_status string, tot_hi_cred_lim float, application_type string, annual_inc_joint float, verification_status_joint string\""
   ]
  },
  {
   "cell_type": "code",
   "execution_count": 6,
   "id": "4a3b7e0e",
   "metadata": {},
   "outputs": [],
   "source": [
    "cust_raw_df = spark.read \\\n",
    ".format(\"csv\") \\\n",
    ".schema(schema) \\\n",
    ".option(\"header\", \"true\") \\\n",
    ".load(\"lending_club_project/raw_data/customers_data_csv\")"
   ]
  },
  {
   "cell_type": "code",
   "execution_count": 7,
   "id": "7c63fdeb",
   "metadata": {},
   "outputs": [
    {
     "name": "stdout",
     "output_type": "stream",
     "text": [
      "root\n",
      " |-- member_id: string (nullable = true)\n",
      " |-- emp_title: string (nullable = true)\n",
      " |-- emp_length: string (nullable = true)\n",
      " |-- home_ownership: string (nullable = true)\n",
      " |-- annual_inc: float (nullable = true)\n",
      " |-- addr_state: string (nullable = true)\n",
      " |-- zip_code: string (nullable = true)\n",
      " |-- country: string (nullable = true)\n",
      " |-- grade: string (nullable = true)\n",
      " |-- subgrade: string (nullable = true)\n",
      " |-- verification_status: string (nullable = true)\n",
      " |-- tot_hi_cred_lim: float (nullable = true)\n",
      " |-- application_type: string (nullable = true)\n",
      " |-- annual_inc_joint: float (nullable = true)\n",
      " |-- verification_status_joint: string (nullable = true)\n",
      "\n"
     ]
    }
   ],
   "source": [
    "cust_raw_df.printSchema()"
   ]
  },
  {
   "cell_type": "markdown",
   "id": "70d1058d",
   "metadata": {},
   "source": [
    "## Rename Column"
   ]
  },
  {
   "cell_type": "markdown",
   "id": "fc4492b9",
   "metadata": {},
   "source": [
    "### withColumnRenamed()"
   ]
  },
  {
   "cell_type": "code",
   "execution_count": 8,
   "id": "1a9b5a01",
   "metadata": {},
   "outputs": [],
   "source": [
    "cust_raw_renamed = cust_raw_df.withColumnRenamed(\"annual_inc\", \"annual_income\") \\\n",
    ".withColumnRenamed(\"addr_state\", \"address_state\") \\\n",
    ".withColumnRenamed(\"zip_code\", \"address_zipcode\") \\\n",
    ".withColumnRenamed(\"country\", \"address_country\") \\\n",
    ".withColumnRenamed(\"annual_inc_joint\", \"joint_annual_income\") \\\n",
    ".withColumnRenamed(\"annual_inc\", \"annual_income\")"
   ]
  },
  {
   "cell_type": "code",
   "execution_count": 9,
   "id": "b0bd0c4c",
   "metadata": {},
   "outputs": [
    {
     "data": {
      "text/html": [
       "<table border='1'>\n",
       "<tr><th>member_id</th><th>emp_title</th><th>emp_length</th><th>home_ownership</th><th>annual_income</th><th>address_state</th><th>address_zipcode</th><th>address_country</th><th>grade</th><th>subgrade</th><th>verification_status</th><th>tot_hi_cred_lim</th><th>application_type</th><th>joint_annual_income</th><th>verification_status_joint</th></tr>\n",
       "<tr><td>90828734b5f4150d0...</td><td>Supervisor</td><td>10+ years</td><td>MORTGAGE</td><td>125000.0</td><td>KY</td><td>424xx</td><td>USA</td><td>E</td><td>E3</td><td>Verified</td><td>594540.0</td><td>Individual</td><td>null</td><td>null</td></tr>\n",
       "<tr><td>148f7f93997c46a1f...</td><td>Security</td><td>&lt; 1 year</td><td>RENT</td><td>54000.0</td><td>WI</td><td>532xx</td><td>USA</td><td>A</td><td>A4</td><td>Not Verified</td><td>57729.0</td><td>Individual</td><td>null</td><td>null</td></tr>\n",
       "<tr><td>7190fbf030fe6cdda...</td><td>Manager</td><td>5 years</td><td>MORTGAGE</td><td>28000.0</td><td>AR</td><td>721xx</td><td>USA</td><td>C</td><td>C4</td><td>Verified</td><td>82780.0</td><td>Individual</td><td>null</td><td>null</td></tr>\n",
       "<tr><td>115721e01855eec21...</td><td>Teller</td><td>3 years</td><td>RENT</td><td>26000.0</td><td>WI</td><td>532xx</td><td>USA</td><td>A</td><td>A5</td><td>Not Verified</td><td>41114.0</td><td>Individual</td><td>null</td><td>null</td></tr>\n",
       "<tr><td>1477fb5f4e5e8c96e...</td><td>Quality Control A...</td><td>3 years</td><td>RENT</td><td>67000.0</td><td>TX</td><td>760xx</td><td>USA</td><td>F</td><td>F2</td><td>Verified</td><td>43449.0</td><td>Individual</td><td>null</td><td>null</td></tr>\n",
       "<tr><td>577b9141f4d3e00f1...</td><td>Technician</td><td>2 years</td><td>RENT</td><td>65000.0</td><td>CA</td><td>900xx</td><td>USA</td><td>C</td><td>C3</td><td>Verified</td><td>127916.0</td><td>Joint App</td><td>118000.0</td><td>Verified</td></tr>\n",
       "<tr><td>ed5ba1091dba4fa84...</td><td>Host</td><td>&lt; 1 year</td><td>MORTGAGE</td><td>325000.0</td><td>NY</td><td>111xx</td><td>USA</td><td>B</td><td>B5</td><td>Source Verified</td><td>41000.0</td><td>Individual</td><td>null</td><td>null</td></tr>\n",
       "<tr><td>6f138cafd3e520190...</td><td>Guest Services Su...</td><td>2 years</td><td>MORTGAGE</td><td>60000.0</td><td>AZ</td><td>850xx</td><td>USA</td><td>C</td><td>C2</td><td>Source Verified</td><td>280890.0</td><td>Individual</td><td>null</td><td>null</td></tr>\n",
       "<tr><td>de0ba908fc731ac67...</td><td>general manager</td><td>10+ years</td><td>MORTGAGE</td><td>74000.0</td><td>GA</td><td>310xx</td><td>USA</td><td>A</td><td>A3</td><td>Source Verified</td><td>306897.0</td><td>Individual</td><td>null</td><td>null</td></tr>\n",
       "<tr><td>f8417d62d055055ff...</td><td>Sheet Metal Mechanic</td><td>9 years</td><td>MORTGAGE</td><td>54496.0</td><td>GA</td><td>307xx</td><td>USA</td><td>B</td><td>B1</td><td>Verified</td><td>153345.0</td><td>Joint App</td><td>119496.0</td><td>Verified</td></tr>\n",
       "<tr><td>67a26dade5a4c0521...</td><td>Owner</td><td>10+ years</td><td>RENT</td><td>60000.0</td><td>TX</td><td>762xx</td><td>USA</td><td>C</td><td>C2</td><td>Source Verified</td><td>64104.0</td><td>Individual</td><td>null</td><td>null</td></tr>\n",
       "<tr><td>4552db9266beb9ff7...</td><td>Business Manager</td><td>10+ years</td><td>MORTGAGE</td><td>53000.0</td><td>IL</td><td>618xx</td><td>USA</td><td>B</td><td>B2</td><td>Source Verified</td><td>117200.0</td><td>Individual</td><td>null</td><td>null</td></tr>\n",
       "<tr><td>66cd4efd3947236e8...</td><td>Custodian</td><td>10+ years</td><td>MORTGAGE</td><td>465000.0</td><td>RI</td><td>028xx</td><td>USA</td><td>B</td><td>B5</td><td>Not Verified</td><td>365133.0</td><td>Individual</td><td>null</td><td>null</td></tr>\n",
       "<tr><td>59095532513ad244c...</td><td>Service provider</td><td>10+ years</td><td>MORTGAGE</td><td>110000.0</td><td>CA</td><td>945xx</td><td>USA</td><td>A</td><td>A4</td><td>Source Verified</td><td>524699.0</td><td>Individual</td><td>null</td><td>null</td></tr>\n",
       "<tr><td>61311a8d1e47c5688...</td><td>Relationship Manager</td><td>3 years</td><td>RENT</td><td>150000.0</td><td>NY</td><td>111xx</td><td>USA</td><td>B</td><td>B2</td><td>Not Verified</td><td>136683.0</td><td>Individual</td><td>null</td><td>null</td></tr>\n",
       "<tr><td>46251fa12fcecfbd0...</td><td>Flight attendant</td><td>1 year</td><td>RENT</td><td>40000.0</td><td>CO</td><td>800xx</td><td>USA</td><td>A</td><td>A1</td><td>Source Verified</td><td>62200.0</td><td>Individual</td><td>null</td><td>null</td></tr>\n",
       "<tr><td>65b07b6820c391dcc...</td><td>Pilot</td><td>2 years</td><td>MORTGAGE</td><td>106000.0</td><td>AL</td><td>356xx</td><td>USA</td><td>C</td><td>C3</td><td>Verified</td><td>95200.0</td><td>Individual</td><td>null</td><td>null</td></tr>\n",
       "<tr><td>cc42a4d1ec3ace85e...</td><td>null</td><td>&lt; 1 year</td><td>MORTGAGE</td><td>76000.0</td><td>OR</td><td>973xx</td><td>USA</td><td>B</td><td>B2</td><td>Not Verified</td><td>7000.0</td><td>Individual</td><td>null</td><td>null</td></tr>\n",
       "<tr><td>aa54ba87ab1775f35...</td><td>Archivist</td><td>5 years</td><td>MORTGAGE</td><td>60000.0</td><td>MA</td><td>020xx</td><td>USA</td><td>A</td><td>A2</td><td>Not Verified</td><td>376785.0</td><td>Joint App</td><td>250000.0</td><td>Not Verified</td></tr>\n",
       "<tr><td>fb4dd0c8510c6a60f...</td><td>null</td><td>null</td><td>RENT</td><td>45000.0</td><td>NY</td><td>114xx</td><td>USA</td><td>C</td><td>C2</td><td>Not Verified</td><td>47400.0</td><td>Individual</td><td>null</td><td>null</td></tr>\n",
       "</table>\n",
       "only showing top 20 rows\n"
      ],
      "text/plain": [
       "+--------------------+--------------------+----------+--------------+-------------+-------------+---------------+---------------+-----+--------+-------------------+---------------+----------------+-------------------+-------------------------+\n",
       "|           member_id|           emp_title|emp_length|home_ownership|annual_income|address_state|address_zipcode|address_country|grade|subgrade|verification_status|tot_hi_cred_lim|application_type|joint_annual_income|verification_status_joint|\n",
       "+--------------------+--------------------+----------+--------------+-------------+-------------+---------------+---------------+-----+--------+-------------------+---------------+----------------+-------------------+-------------------------+\n",
       "|90828734b5f4150d0...|          Supervisor| 10+ years|      MORTGAGE|     125000.0|           KY|          424xx|            USA|    E|      E3|           Verified|       594540.0|      Individual|               null|                     null|\n",
       "|148f7f93997c46a1f...|            Security|  < 1 year|          RENT|      54000.0|           WI|          532xx|            USA|    A|      A4|       Not Verified|        57729.0|      Individual|               null|                     null|\n",
       "|7190fbf030fe6cdda...|             Manager|   5 years|      MORTGAGE|      28000.0|           AR|          721xx|            USA|    C|      C4|           Verified|        82780.0|      Individual|               null|                     null|\n",
       "|115721e01855eec21...|              Teller|   3 years|          RENT|      26000.0|           WI|          532xx|            USA|    A|      A5|       Not Verified|        41114.0|      Individual|               null|                     null|\n",
       "|1477fb5f4e5e8c96e...|Quality Control A...|   3 years|          RENT|      67000.0|           TX|          760xx|            USA|    F|      F2|           Verified|        43449.0|      Individual|               null|                     null|\n",
       "|577b9141f4d3e00f1...|          Technician|   2 years|          RENT|      65000.0|           CA|          900xx|            USA|    C|      C3|           Verified|       127916.0|       Joint App|           118000.0|                 Verified|\n",
       "|ed5ba1091dba4fa84...|                Host|  < 1 year|      MORTGAGE|     325000.0|           NY|          111xx|            USA|    B|      B5|    Source Verified|        41000.0|      Individual|               null|                     null|\n",
       "|6f138cafd3e520190...|Guest Services Su...|   2 years|      MORTGAGE|      60000.0|           AZ|          850xx|            USA|    C|      C2|    Source Verified|       280890.0|      Individual|               null|                     null|\n",
       "|de0ba908fc731ac67...|     general manager| 10+ years|      MORTGAGE|      74000.0|           GA|          310xx|            USA|    A|      A3|    Source Verified|       306897.0|      Individual|               null|                     null|\n",
       "|f8417d62d055055ff...|Sheet Metal Mechanic|   9 years|      MORTGAGE|      54496.0|           GA|          307xx|            USA|    B|      B1|           Verified|       153345.0|       Joint App|           119496.0|                 Verified|\n",
       "|67a26dade5a4c0521...|               Owner| 10+ years|          RENT|      60000.0|           TX|          762xx|            USA|    C|      C2|    Source Verified|        64104.0|      Individual|               null|                     null|\n",
       "|4552db9266beb9ff7...|    Business Manager| 10+ years|      MORTGAGE|      53000.0|           IL|          618xx|            USA|    B|      B2|    Source Verified|       117200.0|      Individual|               null|                     null|\n",
       "|66cd4efd3947236e8...|           Custodian| 10+ years|      MORTGAGE|     465000.0|           RI|          028xx|            USA|    B|      B5|       Not Verified|       365133.0|      Individual|               null|                     null|\n",
       "|59095532513ad244c...|    Service provider| 10+ years|      MORTGAGE|     110000.0|           CA|          945xx|            USA|    A|      A4|    Source Verified|       524699.0|      Individual|               null|                     null|\n",
       "|61311a8d1e47c5688...|Relationship Manager|   3 years|          RENT|     150000.0|           NY|          111xx|            USA|    B|      B2|       Not Verified|       136683.0|      Individual|               null|                     null|\n",
       "|46251fa12fcecfbd0...|    Flight attendant|    1 year|          RENT|      40000.0|           CO|          800xx|            USA|    A|      A1|    Source Verified|        62200.0|      Individual|               null|                     null|\n",
       "|65b07b6820c391dcc...|               Pilot|   2 years|      MORTGAGE|     106000.0|           AL|          356xx|            USA|    C|      C3|           Verified|        95200.0|      Individual|               null|                     null|\n",
       "|cc42a4d1ec3ace85e...|                null|  < 1 year|      MORTGAGE|      76000.0|           OR|          973xx|            USA|    B|      B2|       Not Verified|         7000.0|      Individual|               null|                     null|\n",
       "|aa54ba87ab1775f35...|           Archivist|   5 years|      MORTGAGE|      60000.0|           MA|          020xx|            USA|    A|      A2|       Not Verified|       376785.0|       Joint App|           250000.0|             Not Verified|\n",
       "|fb4dd0c8510c6a60f...|                null|      null|          RENT|      45000.0|           NY|          114xx|            USA|    C|      C2|       Not Verified|        47400.0|      Individual|               null|                     null|\n",
       "+--------------------+--------------------+----------+--------------+-------------+-------------+---------------+---------------+-----+--------+-------------------+---------------+----------------+-------------------+-------------------------+\n",
       "only showing top 20 rows"
      ]
     },
     "execution_count": 9,
     "metadata": {},
     "output_type": "execute_result"
    }
   ],
   "source": [
    "cust_raw_renamed"
   ]
  },
  {
   "cell_type": "markdown",
   "id": "a9eae59a",
   "metadata": {},
   "source": [
    "## "
   ]
  },
  {
   "cell_type": "markdown",
   "id": "6082e2e7",
   "metadata": {},
   "source": [
    "### insert a new column named as ingestion date (current time)"
   ]
  },
  {
   "cell_type": "code",
   "execution_count": 10,
   "id": "04358c1d",
   "metadata": {},
   "outputs": [],
   "source": [
    "from pyspark.sql.functions import *"
   ]
  },
  {
   "cell_type": "code",
   "execution_count": 11,
   "id": "f9878f8f",
   "metadata": {},
   "outputs": [],
   "source": [
    "cust_df_ingest_date = cust_raw_renamed.withColumn(\"ingest_date\", current_timestamp())"
   ]
  },
  {
   "cell_type": "code",
   "execution_count": 12,
   "id": "a4c1de91",
   "metadata": {},
   "outputs": [
    {
     "data": {
      "text/html": [
       "<table border='1'>\n",
       "<tr><th>member_id</th><th>emp_title</th><th>emp_length</th><th>home_ownership</th><th>annual_income</th><th>address_state</th><th>address_zipcode</th><th>address_country</th><th>grade</th><th>subgrade</th><th>verification_status</th><th>tot_hi_cred_lim</th><th>application_type</th><th>joint_annual_income</th><th>verification_status_joint</th><th>ingest_date</th></tr>\n",
       "<tr><td>90828734b5f4150d0...</td><td>Supervisor</td><td>10+ years</td><td>MORTGAGE</td><td>125000.0</td><td>KY</td><td>424xx</td><td>USA</td><td>E</td><td>E3</td><td>Verified</td><td>594540.0</td><td>Individual</td><td>null</td><td>null</td><td>2024-03-20 10:07:...</td></tr>\n",
       "<tr><td>148f7f93997c46a1f...</td><td>Security</td><td>&lt; 1 year</td><td>RENT</td><td>54000.0</td><td>WI</td><td>532xx</td><td>USA</td><td>A</td><td>A4</td><td>Not Verified</td><td>57729.0</td><td>Individual</td><td>null</td><td>null</td><td>2024-03-20 10:07:...</td></tr>\n",
       "<tr><td>7190fbf030fe6cdda...</td><td>Manager</td><td>5 years</td><td>MORTGAGE</td><td>28000.0</td><td>AR</td><td>721xx</td><td>USA</td><td>C</td><td>C4</td><td>Verified</td><td>82780.0</td><td>Individual</td><td>null</td><td>null</td><td>2024-03-20 10:07:...</td></tr>\n",
       "<tr><td>115721e01855eec21...</td><td>Teller</td><td>3 years</td><td>RENT</td><td>26000.0</td><td>WI</td><td>532xx</td><td>USA</td><td>A</td><td>A5</td><td>Not Verified</td><td>41114.0</td><td>Individual</td><td>null</td><td>null</td><td>2024-03-20 10:07:...</td></tr>\n",
       "<tr><td>1477fb5f4e5e8c96e...</td><td>Quality Control A...</td><td>3 years</td><td>RENT</td><td>67000.0</td><td>TX</td><td>760xx</td><td>USA</td><td>F</td><td>F2</td><td>Verified</td><td>43449.0</td><td>Individual</td><td>null</td><td>null</td><td>2024-03-20 10:07:...</td></tr>\n",
       "<tr><td>577b9141f4d3e00f1...</td><td>Technician</td><td>2 years</td><td>RENT</td><td>65000.0</td><td>CA</td><td>900xx</td><td>USA</td><td>C</td><td>C3</td><td>Verified</td><td>127916.0</td><td>Joint App</td><td>118000.0</td><td>Verified</td><td>2024-03-20 10:07:...</td></tr>\n",
       "<tr><td>ed5ba1091dba4fa84...</td><td>Host</td><td>&lt; 1 year</td><td>MORTGAGE</td><td>325000.0</td><td>NY</td><td>111xx</td><td>USA</td><td>B</td><td>B5</td><td>Source Verified</td><td>41000.0</td><td>Individual</td><td>null</td><td>null</td><td>2024-03-20 10:07:...</td></tr>\n",
       "<tr><td>6f138cafd3e520190...</td><td>Guest Services Su...</td><td>2 years</td><td>MORTGAGE</td><td>60000.0</td><td>AZ</td><td>850xx</td><td>USA</td><td>C</td><td>C2</td><td>Source Verified</td><td>280890.0</td><td>Individual</td><td>null</td><td>null</td><td>2024-03-20 10:07:...</td></tr>\n",
       "<tr><td>de0ba908fc731ac67...</td><td>general manager</td><td>10+ years</td><td>MORTGAGE</td><td>74000.0</td><td>GA</td><td>310xx</td><td>USA</td><td>A</td><td>A3</td><td>Source Verified</td><td>306897.0</td><td>Individual</td><td>null</td><td>null</td><td>2024-03-20 10:07:...</td></tr>\n",
       "<tr><td>f8417d62d055055ff...</td><td>Sheet Metal Mechanic</td><td>9 years</td><td>MORTGAGE</td><td>54496.0</td><td>GA</td><td>307xx</td><td>USA</td><td>B</td><td>B1</td><td>Verified</td><td>153345.0</td><td>Joint App</td><td>119496.0</td><td>Verified</td><td>2024-03-20 10:07:...</td></tr>\n",
       "<tr><td>67a26dade5a4c0521...</td><td>Owner</td><td>10+ years</td><td>RENT</td><td>60000.0</td><td>TX</td><td>762xx</td><td>USA</td><td>C</td><td>C2</td><td>Source Verified</td><td>64104.0</td><td>Individual</td><td>null</td><td>null</td><td>2024-03-20 10:07:...</td></tr>\n",
       "<tr><td>4552db9266beb9ff7...</td><td>Business Manager</td><td>10+ years</td><td>MORTGAGE</td><td>53000.0</td><td>IL</td><td>618xx</td><td>USA</td><td>B</td><td>B2</td><td>Source Verified</td><td>117200.0</td><td>Individual</td><td>null</td><td>null</td><td>2024-03-20 10:07:...</td></tr>\n",
       "<tr><td>66cd4efd3947236e8...</td><td>Custodian</td><td>10+ years</td><td>MORTGAGE</td><td>465000.0</td><td>RI</td><td>028xx</td><td>USA</td><td>B</td><td>B5</td><td>Not Verified</td><td>365133.0</td><td>Individual</td><td>null</td><td>null</td><td>2024-03-20 10:07:...</td></tr>\n",
       "<tr><td>59095532513ad244c...</td><td>Service provider</td><td>10+ years</td><td>MORTGAGE</td><td>110000.0</td><td>CA</td><td>945xx</td><td>USA</td><td>A</td><td>A4</td><td>Source Verified</td><td>524699.0</td><td>Individual</td><td>null</td><td>null</td><td>2024-03-20 10:07:...</td></tr>\n",
       "<tr><td>61311a8d1e47c5688...</td><td>Relationship Manager</td><td>3 years</td><td>RENT</td><td>150000.0</td><td>NY</td><td>111xx</td><td>USA</td><td>B</td><td>B2</td><td>Not Verified</td><td>136683.0</td><td>Individual</td><td>null</td><td>null</td><td>2024-03-20 10:07:...</td></tr>\n",
       "<tr><td>46251fa12fcecfbd0...</td><td>Flight attendant</td><td>1 year</td><td>RENT</td><td>40000.0</td><td>CO</td><td>800xx</td><td>USA</td><td>A</td><td>A1</td><td>Source Verified</td><td>62200.0</td><td>Individual</td><td>null</td><td>null</td><td>2024-03-20 10:07:...</td></tr>\n",
       "<tr><td>65b07b6820c391dcc...</td><td>Pilot</td><td>2 years</td><td>MORTGAGE</td><td>106000.0</td><td>AL</td><td>356xx</td><td>USA</td><td>C</td><td>C3</td><td>Verified</td><td>95200.0</td><td>Individual</td><td>null</td><td>null</td><td>2024-03-20 10:07:...</td></tr>\n",
       "<tr><td>cc42a4d1ec3ace85e...</td><td>null</td><td>&lt; 1 year</td><td>MORTGAGE</td><td>76000.0</td><td>OR</td><td>973xx</td><td>USA</td><td>B</td><td>B2</td><td>Not Verified</td><td>7000.0</td><td>Individual</td><td>null</td><td>null</td><td>2024-03-20 10:07:...</td></tr>\n",
       "<tr><td>aa54ba87ab1775f35...</td><td>Archivist</td><td>5 years</td><td>MORTGAGE</td><td>60000.0</td><td>MA</td><td>020xx</td><td>USA</td><td>A</td><td>A2</td><td>Not Verified</td><td>376785.0</td><td>Joint App</td><td>250000.0</td><td>Not Verified</td><td>2024-03-20 10:07:...</td></tr>\n",
       "<tr><td>fb4dd0c8510c6a60f...</td><td>null</td><td>null</td><td>RENT</td><td>45000.0</td><td>NY</td><td>114xx</td><td>USA</td><td>C</td><td>C2</td><td>Not Verified</td><td>47400.0</td><td>Individual</td><td>null</td><td>null</td><td>2024-03-20 10:07:...</td></tr>\n",
       "</table>\n",
       "only showing top 20 rows\n"
      ],
      "text/plain": [
       "+--------------------+--------------------+----------+--------------+-------------+-------------+---------------+---------------+-----+--------+-------------------+---------------+----------------+-------------------+-------------------------+--------------------+\n",
       "|           member_id|           emp_title|emp_length|home_ownership|annual_income|address_state|address_zipcode|address_country|grade|subgrade|verification_status|tot_hi_cred_lim|application_type|joint_annual_income|verification_status_joint|         ingest_date|\n",
       "+--------------------+--------------------+----------+--------------+-------------+-------------+---------------+---------------+-----+--------+-------------------+---------------+----------------+-------------------+-------------------------+--------------------+\n",
       "|90828734b5f4150d0...|          Supervisor| 10+ years|      MORTGAGE|     125000.0|           KY|          424xx|            USA|    E|      E3|           Verified|       594540.0|      Individual|               null|                     null|2024-03-20 10:07:...|\n",
       "|148f7f93997c46a1f...|            Security|  < 1 year|          RENT|      54000.0|           WI|          532xx|            USA|    A|      A4|       Not Verified|        57729.0|      Individual|               null|                     null|2024-03-20 10:07:...|\n",
       "|7190fbf030fe6cdda...|             Manager|   5 years|      MORTGAGE|      28000.0|           AR|          721xx|            USA|    C|      C4|           Verified|        82780.0|      Individual|               null|                     null|2024-03-20 10:07:...|\n",
       "|115721e01855eec21...|              Teller|   3 years|          RENT|      26000.0|           WI|          532xx|            USA|    A|      A5|       Not Verified|        41114.0|      Individual|               null|                     null|2024-03-20 10:07:...|\n",
       "|1477fb5f4e5e8c96e...|Quality Control A...|   3 years|          RENT|      67000.0|           TX|          760xx|            USA|    F|      F2|           Verified|        43449.0|      Individual|               null|                     null|2024-03-20 10:07:...|\n",
       "|577b9141f4d3e00f1...|          Technician|   2 years|          RENT|      65000.0|           CA|          900xx|            USA|    C|      C3|           Verified|       127916.0|       Joint App|           118000.0|                 Verified|2024-03-20 10:07:...|\n",
       "|ed5ba1091dba4fa84...|                Host|  < 1 year|      MORTGAGE|     325000.0|           NY|          111xx|            USA|    B|      B5|    Source Verified|        41000.0|      Individual|               null|                     null|2024-03-20 10:07:...|\n",
       "|6f138cafd3e520190...|Guest Services Su...|   2 years|      MORTGAGE|      60000.0|           AZ|          850xx|            USA|    C|      C2|    Source Verified|       280890.0|      Individual|               null|                     null|2024-03-20 10:07:...|\n",
       "|de0ba908fc731ac67...|     general manager| 10+ years|      MORTGAGE|      74000.0|           GA|          310xx|            USA|    A|      A3|    Source Verified|       306897.0|      Individual|               null|                     null|2024-03-20 10:07:...|\n",
       "|f8417d62d055055ff...|Sheet Metal Mechanic|   9 years|      MORTGAGE|      54496.0|           GA|          307xx|            USA|    B|      B1|           Verified|       153345.0|       Joint App|           119496.0|                 Verified|2024-03-20 10:07:...|\n",
       "|67a26dade5a4c0521...|               Owner| 10+ years|          RENT|      60000.0|           TX|          762xx|            USA|    C|      C2|    Source Verified|        64104.0|      Individual|               null|                     null|2024-03-20 10:07:...|\n",
       "|4552db9266beb9ff7...|    Business Manager| 10+ years|      MORTGAGE|      53000.0|           IL|          618xx|            USA|    B|      B2|    Source Verified|       117200.0|      Individual|               null|                     null|2024-03-20 10:07:...|\n",
       "|66cd4efd3947236e8...|           Custodian| 10+ years|      MORTGAGE|     465000.0|           RI|          028xx|            USA|    B|      B5|       Not Verified|       365133.0|      Individual|               null|                     null|2024-03-20 10:07:...|\n",
       "|59095532513ad244c...|    Service provider| 10+ years|      MORTGAGE|     110000.0|           CA|          945xx|            USA|    A|      A4|    Source Verified|       524699.0|      Individual|               null|                     null|2024-03-20 10:07:...|\n",
       "|61311a8d1e47c5688...|Relationship Manager|   3 years|          RENT|     150000.0|           NY|          111xx|            USA|    B|      B2|       Not Verified|       136683.0|      Individual|               null|                     null|2024-03-20 10:07:...|\n",
       "|46251fa12fcecfbd0...|    Flight attendant|    1 year|          RENT|      40000.0|           CO|          800xx|            USA|    A|      A1|    Source Verified|        62200.0|      Individual|               null|                     null|2024-03-20 10:07:...|\n",
       "|65b07b6820c391dcc...|               Pilot|   2 years|      MORTGAGE|     106000.0|           AL|          356xx|            USA|    C|      C3|           Verified|        95200.0|      Individual|               null|                     null|2024-03-20 10:07:...|\n",
       "|cc42a4d1ec3ace85e...|                null|  < 1 year|      MORTGAGE|      76000.0|           OR|          973xx|            USA|    B|      B2|       Not Verified|         7000.0|      Individual|               null|                     null|2024-03-20 10:07:...|\n",
       "|aa54ba87ab1775f35...|           Archivist|   5 years|      MORTGAGE|      60000.0|           MA|          020xx|            USA|    A|      A2|       Not Verified|       376785.0|       Joint App|           250000.0|             Not Verified|2024-03-20 10:07:...|\n",
       "|fb4dd0c8510c6a60f...|                null|      null|          RENT|      45000.0|           NY|          114xx|            USA|    C|      C2|       Not Verified|        47400.0|      Individual|               null|                     null|2024-03-20 10:07:...|\n",
       "+--------------------+--------------------+----------+--------------+-------------+-------------+---------------+---------------+-----+--------+-------------------+---------------+----------------+-------------------+-------------------------+--------------------+\n",
       "only showing top 20 rows"
      ]
     },
     "execution_count": 12,
     "metadata": {},
     "output_type": "execute_result"
    }
   ],
   "source": [
    "cust_df_ingest_date"
   ]
  },
  {
   "cell_type": "markdown",
   "id": "ba6e2aa8",
   "metadata": {},
   "source": [
    "### remove complete duplicate rows"
   ]
  },
  {
   "cell_type": "code",
   "execution_count": 13,
   "id": "4f642421",
   "metadata": {},
   "outputs": [
    {
     "data": {
      "text/plain": [
       "2260701"
      ]
     },
     "execution_count": 13,
     "metadata": {},
     "output_type": "execute_result"
    }
   ],
   "source": [
    "cust_df_ingest_date.count()"
   ]
  },
  {
   "cell_type": "code",
   "execution_count": 14,
   "id": "022a74c9",
   "metadata": {},
   "outputs": [
    {
     "data": {
      "text/plain": [
       "2260638"
      ]
     },
     "execution_count": 14,
     "metadata": {},
     "output_type": "execute_result"
    }
   ],
   "source": [
    "cust_df_ingest_date.distinct().count()"
   ]
  },
  {
   "cell_type": "code",
   "execution_count": 15,
   "id": "0c8f48bd",
   "metadata": {},
   "outputs": [],
   "source": [
    "cust_distinct_df = cust_df_ingest_date.distinct()   # This is the dataframe with removed duplicates"
   ]
  },
  {
   "cell_type": "code",
   "execution_count": 16,
   "id": "6ab98afa",
   "metadata": {},
   "outputs": [],
   "source": [
    "cust_distinct_df.createOrReplaceTempView(\"customers\")"
   ]
  },
  {
   "cell_type": "code",
   "execution_count": 17,
   "id": "4427863d",
   "metadata": {},
   "outputs": [
    {
     "data": {
      "text/html": [
       "<table border='1'>\n",
       "<tr><th>member_id</th><th>emp_title</th><th>emp_length</th><th>home_ownership</th><th>annual_income</th><th>address_state</th><th>address_zipcode</th><th>address_country</th><th>grade</th><th>subgrade</th><th>verification_status</th><th>tot_hi_cred_lim</th><th>application_type</th><th>joint_annual_income</th><th>verification_status_joint</th><th>ingest_date</th></tr>\n",
       "<tr><td>181dd9a754bfae9be...</td><td>Senior Technician</td><td>10+ years</td><td>MORTGAGE</td><td>76000.0</td><td>LA</td><td>700xx</td><td>USA</td><td>B</td><td>B3</td><td>Source Verified</td><td>70245.0</td><td>Individual</td><td>null</td><td>null</td><td>2024-03-20 10:07:...</td></tr>\n",
       "<tr><td>84559eaec5cb3444a...</td><td>Teacher/coach</td><td>10+ years</td><td>MORTGAGE</td><td>107000.0</td><td>GA</td><td>310xx</td><td>USA</td><td>D</td><td>D2</td><td>Source Verified</td><td>229245.0</td><td>Individual</td><td>null</td><td>null</td><td>2024-03-20 10:07:...</td></tr>\n",
       "<tr><td>1b4bffb31a7f1d3cd...</td><td>Fishing tool supe...</td><td>3 years</td><td>MORTGAGE</td><td>200000.0</td><td>OH</td><td>446xx</td><td>USA</td><td>D</td><td>D1</td><td>Verified</td><td>147750.0</td><td>Individual</td><td>null</td><td>null</td><td>2024-03-20 10:07:...</td></tr>\n",
       "<tr><td>be22c3147ef63c7d7...</td><td>Resource R.N.</td><td>10+ years</td><td>MORTGAGE</td><td>72000.0</td><td>MT</td><td>594xx</td><td>USA</td><td>A</td><td>A4</td><td>Verified</td><td>175573.0</td><td>Individual</td><td>null</td><td>null</td><td>2024-03-20 10:07:...</td></tr>\n",
       "<tr><td>db67ea24adc7aa838...</td><td>Recruitment/Reten...</td><td>6 years</td><td>RENT</td><td>28000.0</td><td>NJ</td><td>088xx</td><td>USA</td><td>B</td><td>B5</td><td>Not Verified</td><td>47288.0</td><td>Individual</td><td>null</td><td>null</td><td>2024-03-20 10:07:...</td></tr>\n",
       "<tr><td>28a57b5e5f95c8154...</td><td>null</td><td>null</td><td>RENT</td><td>30000.0</td><td>AL</td><td>350xx</td><td>USA</td><td>D</td><td>D4</td><td>Source Verified</td><td>16464.0</td><td>Individual</td><td>null</td><td>null</td><td>2024-03-20 10:07:...</td></tr>\n",
       "<tr><td>b183aea67237243e4...</td><td>Sales</td><td>5 years</td><td>MORTGAGE</td><td>71000.0</td><td>IN</td><td>469xx</td><td>USA</td><td>C</td><td>C4</td><td>Verified</td><td>135866.0</td><td>Individual</td><td>null</td><td>null</td><td>2024-03-20 10:07:...</td></tr>\n",
       "<tr><td>264f46dfd76aadccd...</td><td>Store Manager</td><td>10+ years</td><td>OWN</td><td>110000.0</td><td>FL</td><td>326xx</td><td>USA</td><td>D</td><td>D3</td><td>Verified</td><td>123456.0</td><td>Individual</td><td>null</td><td>null</td><td>2024-03-20 10:07:...</td></tr>\n",
       "<tr><td>742fc1d6a6eeba680...</td><td>controller</td><td>10+ years</td><td>MORTGAGE</td><td>89000.0</td><td>FL</td><td>320xx</td><td>USA</td><td>C</td><td>C4</td><td>Verified</td><td>218268.0</td><td>Individual</td><td>null</td><td>null</td><td>2024-03-20 10:07:...</td></tr>\n",
       "<tr><td>64880b7e92672dca2...</td><td>President</td><td>10+ years</td><td>MORTGAGE</td><td>150000.0</td><td>PA</td><td>170xx</td><td>USA</td><td>B</td><td>B3</td><td>Source Verified</td><td>176990.0</td><td>Individual</td><td>null</td><td>null</td><td>2024-03-20 10:07:...</td></tr>\n",
       "<tr><td>1eee88d911a177c1e...</td><td>Supervisor</td><td>10+ years</td><td>MORTGAGE</td><td>90000.0</td><td>MD</td><td>207xx</td><td>USA</td><td>B</td><td>B5</td><td>Source Verified</td><td>436336.0</td><td>Individual</td><td>null</td><td>null</td><td>2024-03-20 10:07:...</td></tr>\n",
       "<tr><td>4448c50db12249971...</td><td>Regional Sales Mgr</td><td>3 years</td><td>MORTGAGE</td><td>100000.0</td><td>NY</td><td>124xx</td><td>USA</td><td>E</td><td>E1</td><td>Source Verified</td><td>188617.0</td><td>Individual</td><td>null</td><td>null</td><td>2024-03-20 10:07:...</td></tr>\n",
       "<tr><td>a1ab8d63b0ee7a729...</td><td>null</td><td>null</td><td>OWN</td><td>55000.0</td><td>OH</td><td>456xx</td><td>USA</td><td>A</td><td>A5</td><td>Source Verified</td><td>65938.0</td><td>Individual</td><td>null</td><td>null</td><td>2024-03-20 10:07:...</td></tr>\n",
       "<tr><td>747a3cf2f2f903e8f...</td><td>Sales associate</td><td>10+ years</td><td>RENT</td><td>36000.0</td><td>FL</td><td>330xx</td><td>USA</td><td>C</td><td>C1</td><td>Not Verified</td><td>59570.0</td><td>Individual</td><td>null</td><td>null</td><td>2024-03-20 10:07:...</td></tr>\n",
       "<tr><td>ee7e95aa48b0dda2c...</td><td>CEO</td><td>4 years</td><td>RENT</td><td>60000.0</td><td>OR</td><td>977xx</td><td>USA</td><td>C</td><td>C3</td><td>Source Verified</td><td>56347.0</td><td>Individual</td><td>null</td><td>null</td><td>2024-03-20 10:07:...</td></tr>\n",
       "<tr><td>ea534b18d92e484be...</td><td>Procurement Manager</td><td>6 years</td><td>MORTGAGE</td><td>110000.0</td><td>TX</td><td>774xx</td><td>USA</td><td>B</td><td>B1</td><td>Source Verified</td><td>434750.0</td><td>Individual</td><td>null</td><td>null</td><td>2024-03-20 10:07:...</td></tr>\n",
       "<tr><td>3ec54eda5c5c32658...</td><td>Sales Executive</td><td>5 years</td><td>MORTGAGE</td><td>275000.0</td><td>MD</td><td>210xx</td><td>USA</td><td>E</td><td>E1</td><td>Source Verified</td><td>686214.0</td><td>Individual</td><td>null</td><td>null</td><td>2024-03-20 10:07:...</td></tr>\n",
       "<tr><td>16396fcf53c4bffd9...</td><td>Chief Executive O...</td><td>8 years</td><td>MORTGAGE</td><td>108000.0</td><td>NY</td><td>128xx</td><td>USA</td><td>A</td><td>A5</td><td>Source Verified</td><td>353400.0</td><td>Individual</td><td>null</td><td>null</td><td>2024-03-20 10:07:...</td></tr>\n",
       "<tr><td>90d7e66b13eb7f6bf...</td><td>Faculty</td><td>2 years</td><td>MORTGAGE</td><td>155000.0</td><td>NY</td><td>115xx</td><td>USA</td><td>C</td><td>C1</td><td>Not Verified</td><td>111199.0</td><td>Individual</td><td>null</td><td>null</td><td>2024-03-20 10:07:...</td></tr>\n",
       "<tr><td>4d2f4ae99cb4fe706...</td><td>Radiology Clerk</td><td>5 years</td><td>MORTGAGE</td><td>49528.0</td><td>OH</td><td>456xx</td><td>USA</td><td>C</td><td>C3</td><td>Verified</td><td>186594.0</td><td>Individual</td><td>null</td><td>null</td><td>2024-03-20 10:07:...</td></tr>\n",
       "</table>\n",
       "only showing top 20 rows\n"
      ],
      "text/plain": [
       "+--------------------+--------------------+----------+--------------+-------------+-------------+---------------+---------------+-----+--------+-------------------+---------------+----------------+-------------------+-------------------------+--------------------+\n",
       "|           member_id|           emp_title|emp_length|home_ownership|annual_income|address_state|address_zipcode|address_country|grade|subgrade|verification_status|tot_hi_cred_lim|application_type|joint_annual_income|verification_status_joint|         ingest_date|\n",
       "+--------------------+--------------------+----------+--------------+-------------+-------------+---------------+---------------+-----+--------+-------------------+---------------+----------------+-------------------+-------------------------+--------------------+\n",
       "|1d14a303491dab5d7...|         Supervisior|    1 year|      MORTGAGE|      70000.0|           MO|          648xx|            USA|    C|      C4|    Source Verified|        68253.0|      Individual|               null|                     null|2024-03-20 10:07:...|\n",
       "|47f28e1dda64ac8c6...|        Tax Examiner| 10+ years|      MORTGAGE|      70000.0|           GA|          300xx|            USA|    B|      B3|       Not Verified|       242412.0|      Individual|               null|                     null|2024-03-20 10:07:...|\n",
       "|5cc50761210ac46b5...|                null|      null|      MORTGAGE|     140000.0|           PA|          160xx|            USA|    B|      B1|       Not Verified|       671094.0|      Individual|               null|                     null|2024-03-20 10:07:...|\n",
       "|56c7941799041ca34...|        service tech| 10+ years|      MORTGAGE|      61700.0|           IN|          463xx|            USA|    E|      E1|           Verified|       173774.0|      Individual|               null|                     null|2024-03-20 10:07:...|\n",
       "|c973d0e50132a7b6b...|   Vice Presidential| 10+ years|      MORTGAGE|     600000.0|           IL|          600xx|            USA|    A|      A2|           Verified|      1082361.0|      Individual|               null|                     null|2024-03-20 10:07:...|\n",
       "|437c4fa651a222142...|    Registered Nurse| 10+ years|      MORTGAGE|     180000.0|           CA|          956xx|            USA|    B|      B4|    Source Verified|       478261.0|      Individual|               null|                     null|2024-03-20 10:07:...|\n",
       "|b5dcd780c437e6d3d...|              Welder| 10+ years|          RENT|      80000.0|           CA|          900xx|            USA|    G|      G4|       Not Verified|        91951.0|      Individual|               null|                     null|2024-03-20 10:07:...|\n",
       "|9bacbd14761f3465c...|           Paralegal|   2 years|      MORTGAGE|      35000.0|           MO|          656xx|            USA|    C|      C2|    Source Verified|       138762.0|      Individual|               null|                     null|2024-03-20 10:07:...|\n",
       "|6fe0612226d548993...|Technical Service...|   2 years|      MORTGAGE|     150000.0|           TX|          773xx|            USA|    A|      A1|    Source Verified|       508702.0|      Individual|               null|                     null|2024-03-20 10:07:...|\n",
       "|d389cb82928a150df...|             Teacher|   2 years|      MORTGAGE|      87000.0|           WA|          982xx|            USA|    B|      B2|       Not Verified|       362900.0|      Individual|               null|                     null|2024-03-20 10:07:...|\n",
       "|2d6845a94b2f4ebe0...|     General Manager| 10+ years|           OWN|      50400.0|           AZ|          864xx|            USA|    F|      F4|           Verified|        43107.0|      Individual|               null|                     null|2024-03-20 10:07:...|\n",
       "|e9e15454fdfea77f6...|                null|      null|      MORTGAGE|          0.0|           OH|          432xx|            USA|    C|      C1|       Not Verified|       170921.0|       Joint App|            80000.0|             Not Verified|2024-03-20 10:07:...|\n",
       "|232a8ba78350a1cf4...|  Operations Manager|   8 years|          RENT|      87000.0|           FL|          331xx|            USA|    B|      B4|    Source Verified|        44691.0|      Individual|               null|                     null|2024-03-20 10:07:...|\n",
       "|160987729e9beb66f...|              CSR II|   2 years|      MORTGAGE|      62715.0|           NC|          278xx|            USA|    D|      D1|    Source Verified|       168776.0|      Individual|               null|                     null|2024-03-20 10:07:...|\n",
       "|5432b8990a6214031...|                null|      null|           OWN|      22926.0|           MA|          013xx|            USA|    D|      D5|           Verified|        43900.0|      Individual|               null|                     null|2024-03-20 10:07:...|\n",
       "|ce213bfae04d51a58...|SDP Operations Sp...|   9 years|          RENT|      42000.0|           CO|          809xx|            USA|    D|      D4|           Verified|        32713.0|      Individual|               null|                     null|2024-03-20 10:07:...|\n",
       "|22ea150d76b7207ba...|        Practice rep|  < 1 year|          RENT|      45000.0|           MA|          021xx|            USA|    D|      D2|    Source Verified|        43390.0|      Individual|               null|                     null|2024-03-20 10:07:...|\n",
       "|a92a4c37340225daa...|Firefighter Param...|    1 year|          RENT|     100000.0|           WA|          981xx|            USA|    C|      C3|    Source Verified|       128540.0|      Individual|               null|                     null|2024-03-20 10:07:...|\n",
       "|8380c973cab4027a9...|  Safety Coordinator| 10+ years|          RENT|      90000.0|           CA|          932xx|            USA|    C|      C1|    Source Verified|        65562.0|      Individual|               null|                     null|2024-03-20 10:07:...|\n",
       "|d1c574254458eb7c3...|           Detective| 10+ years|      MORTGAGE|     130000.0|           NJ|          073xx|            USA|    C|      C4|    Source Verified|       345052.0|      Individual|               null|                     null|2024-03-20 10:07:...|\n",
       "+--------------------+--------------------+----------+--------------+-------------+-------------+---------------+---------------+-----+--------+-------------------+---------------+----------------+-------------------+-------------------------+--------------------+\n",
       "only showing top 20 rows"
      ]
     },
     "execution_count": 17,
     "metadata": {},
     "output_type": "execute_result"
    }
   ],
   "source": [
    "spark.sql(\"SELECT * FROM customers\")"
   ]
  },
  {
   "cell_type": "markdown",
   "id": "7e4aebe8",
   "metadata": {},
   "source": [
    "### remove the rows where annual_income is null"
   ]
  },
  {
   "cell_type": "code",
   "execution_count": 18,
   "id": "f04d10ae",
   "metadata": {},
   "outputs": [
    {
     "data": {
      "text/html": [
       "<table border='1'>\n",
       "<tr><th>count(1)</th></tr>\n",
       "<tr><td>5</td></tr>\n",
       "</table>\n"
      ],
      "text/plain": [
       "+--------+\n",
       "|count(1)|\n",
       "+--------+\n",
       "|       5|\n",
       "+--------+"
      ]
     },
     "execution_count": 18,
     "metadata": {},
     "output_type": "execute_result"
    }
   ],
   "source": [
    "spark.sql(\"SELECT COUNT(*) FROM customers WHERE annual_income is null\")"
   ]
  },
  {
   "cell_type": "code",
   "execution_count": 19,
   "id": "8a96e1b2",
   "metadata": {},
   "outputs": [],
   "source": [
    "cust_income_filtered = spark.sql(\"SELECT * FROM customers WHERE annual_income is not null\")"
   ]
  },
  {
   "cell_type": "markdown",
   "id": "d4481f8a",
   "metadata": {},
   "source": [
    "### convert emp_length to integer"
   ]
  },
  {
   "cell_type": "code",
   "execution_count": 20,
   "id": "c10ed04f",
   "metadata": {},
   "outputs": [
    {
     "name": "stdout",
     "output_type": "stream",
     "text": [
      "+----------+\n",
      "|emp_length|\n",
      "+----------+\n",
      "|   5 years|\n",
      "|   9 years|\n",
      "|      null|\n",
      "|    1 year|\n",
      "| reactors\"|\n",
      "|   2 years|\n",
      "|   7 years|\n",
      "|   8 years|\n",
      "|   4 years|\n",
      "|   6 years|\n",
      "|   3 years|\n",
      "| 10+ years|\n",
      "|  < 1 year|\n",
      "+----------+\n",
      "\n"
     ]
    }
   ],
   "source": [
    "spark.sql(\"SELECT DISTINCT(emp_length) FROM customers\").show()"
   ]
  },
  {
   "cell_type": "code",
   "execution_count": 21,
   "id": "cf7905a9",
   "metadata": {},
   "outputs": [],
   "source": [
    "cust_emp_length_cleaned = cust_income_filtered.withColumn(\"emp_length\", regexp_replace(col(\"emp_length\"), \"(\\D)\", \"\"))"
   ]
  },
  {
   "cell_type": "code",
   "execution_count": 22,
   "id": "be0c761d",
   "metadata": {},
   "outputs": [
    {
     "data": {
      "text/html": [
       "<table border='1'>\n",
       "<tr><th>member_id</th><th>emp_title</th><th>emp_length</th><th>home_ownership</th><th>annual_income</th><th>address_state</th><th>address_zipcode</th><th>address_country</th><th>grade</th><th>subgrade</th><th>verification_status</th><th>tot_hi_cred_lim</th><th>application_type</th><th>joint_annual_income</th><th>verification_status_joint</th><th>ingest_date</th></tr>\n",
       "<tr><td>90794bb907d643882...</td><td>Brand Manager</td><td>2</td><td>OWN</td><td>175000.0</td><td>NY</td><td>120xx</td><td>USA</td><td>C</td><td>C4</td><td>Not Verified</td><td>226600.0</td><td>Individual</td><td>null</td><td>null</td><td>2024-03-20 10:08:...</td></tr>\n",
       "<tr><td>298c08bf2e7802054...</td><td>Teller</td><td>2</td><td>RENT</td><td>23784.0</td><td>GA</td><td>309xx</td><td>USA</td><td>B</td><td>B1</td><td>Source Verified</td><td>14700.0</td><td>Individual</td><td>null</td><td>null</td><td>2024-03-20 10:08:...</td></tr>\n",
       "<tr><td>64b7c5929c9aa06f8...</td><td>teacher</td><td>10</td><td>OWN</td><td>55000.0</td><td>TX</td><td>754xx</td><td>USA</td><td>B</td><td>B4</td><td>Source Verified</td><td>83341.0</td><td>Individual</td><td>null</td><td>null</td><td>2024-03-20 10:08:...</td></tr>\n",
       "<tr><td>b244e54ac03470c15...</td><td>Senior Field Supe...</td><td>2</td><td>MORTGAGE</td><td>85000.0</td><td>LA</td><td>704xx</td><td>USA</td><td>C</td><td>C3</td><td>Not Verified</td><td>306488.0</td><td>Individual</td><td>null</td><td>null</td><td>2024-03-20 10:08:...</td></tr>\n",
       "<tr><td>e34dacbddec7da893...</td><td>Lineman</td><td>1</td><td>RENT</td><td>75000.0</td><td>LA</td><td>707xx</td><td>USA</td><td>D</td><td>D2</td><td>Source Verified</td><td>43516.0</td><td>Individual</td><td>null</td><td>null</td><td>2024-03-20 10:08:...</td></tr>\n",
       "<tr><td>3c870307110176f6f...</td><td>SVP</td><td>4</td><td>RENT</td><td>550000.0</td><td>CT</td><td>068xx</td><td>USA</td><td>C</td><td>C1</td><td>Verified</td><td>37269.0</td><td>Individual</td><td>null</td><td>null</td><td>2024-03-20 10:08:...</td></tr>\n",
       "<tr><td>5b850f49003590f0c...</td><td>Director of Quality</td><td>1</td><td>MORTGAGE</td><td>118300.0</td><td>OK</td><td>740xx</td><td>USA</td><td>D</td><td>D4</td><td>Source Verified</td><td>148783.0</td><td>Individual</td><td>null</td><td>null</td><td>2024-03-20 10:08:...</td></tr>\n",
       "<tr><td>dc2dca6e21b2162c0...</td><td>secretary</td><td>4</td><td>OWN</td><td>55000.0</td><td>TX</td><td>754xx</td><td>USA</td><td>B</td><td>B4</td><td>Source Verified</td><td>164000.0</td><td>Individual</td><td>null</td><td>null</td><td>2024-03-20 10:08:...</td></tr>\n",
       "<tr><td>c6e3b607b2deb6d92...</td><td>Vice President</td><td>10</td><td>MORTGAGE</td><td>153000.0</td><td>FL</td><td>339xx</td><td>USA</td><td>B</td><td>B1</td><td>Source Verified</td><td>306270.0</td><td>Individual</td><td>null</td><td>null</td><td>2024-03-20 10:08:...</td></tr>\n",
       "<tr><td>a22f2114212cdead0...</td><td>null</td><td>1</td><td>RENT</td><td>100000.0</td><td>MO</td><td>631xx</td><td>USA</td><td>D</td><td>D1</td><td>Not Verified</td><td>186373.0</td><td>Individual</td><td>null</td><td>null</td><td>2024-03-20 10:08:...</td></tr>\n",
       "<tr><td>37bb525218e7ed93f...</td><td>Teacher</td><td>10</td><td>MORTGAGE</td><td>65000.0</td><td>OR</td><td>978xx</td><td>USA</td><td>A</td><td>A4</td><td>Not Verified</td><td>343865.0</td><td>Individual</td><td>null</td><td>null</td><td>2024-03-20 10:08:...</td></tr>\n",
       "<tr><td>49c4c0e18dc7400a2...</td><td>null</td><td>1</td><td>MORTGAGE</td><td>125000.0</td><td>TX</td><td>773xx</td><td>USA</td><td>B</td><td>B5</td><td>Not Verified</td><td>207344.0</td><td>Individual</td><td>null</td><td>null</td><td>2024-03-20 10:08:...</td></tr>\n",
       "<tr><td>3b6161c99bdef6686...</td><td>HR Supervisor</td><td>3</td><td>MORTGAGE</td><td>72000.0</td><td>AL</td><td>354xx</td><td>USA</td><td>D</td><td>D3</td><td>Verified</td><td>282187.0</td><td>Individual</td><td>null</td><td>null</td><td>2024-03-20 10:08:...</td></tr>\n",
       "<tr><td>d7b6d72ea933477f1...</td><td>null</td><td>null</td><td>RENT</td><td>15300.0</td><td>GA</td><td>307xx</td><td>USA</td><td>B</td><td>B4</td><td>Verified</td><td>35979.0</td><td>Individual</td><td>null</td><td>null</td><td>2024-03-20 10:08:...</td></tr>\n",
       "<tr><td>3513f59ca72be7421...</td><td>null</td><td>1</td><td>RENT</td><td>40000.0</td><td>OH</td><td>446xx</td><td>USA</td><td>C</td><td>C5</td><td>Verified</td><td>100956.0</td><td>Joint App</td><td>80000.0</td><td>Not Verified</td><td>2024-03-20 10:08:...</td></tr>\n",
       "<tr><td>bce5b7f2ca2de4b20...</td><td>Project Manager</td><td>2</td><td>OWN</td><td>70000.0</td><td>TX</td><td>799xx</td><td>USA</td><td>B</td><td>B5</td><td>Source Verified</td><td>182339.0</td><td>Individual</td><td>null</td><td>null</td><td>2024-03-20 10:08:...</td></tr>\n",
       "<tr><td>9d0be7b3afe3cb2b4...</td><td>null</td><td>1</td><td>RENT</td><td>36000.0</td><td>TX</td><td>750xx</td><td>USA</td><td>D</td><td>D1</td><td>Not Verified</td><td>5500.0</td><td>Individual</td><td>null</td><td>null</td><td>2024-03-20 10:08:...</td></tr>\n",
       "<tr><td>df58043a0e0467974...</td><td>Office Manager</td><td>1</td><td>MORTGAGE</td><td>35000.0</td><td>NV</td><td>890xx</td><td>USA</td><td>A</td><td>A3</td><td>Not Verified</td><td>37800.0</td><td>Individual</td><td>null</td><td>null</td><td>2024-03-20 10:08:...</td></tr>\n",
       "<tr><td>a2b8901562f25793b...</td><td>Accounts Manager</td><td>2</td><td>RENT</td><td>35200.0</td><td>IN</td><td>461xx</td><td>USA</td><td>B</td><td>B1</td><td>Source Verified</td><td>56272.0</td><td>Individual</td><td>null</td><td>null</td><td>2024-03-20 10:08:...</td></tr>\n",
       "<tr><td>01c02255bddf4a19a...</td><td>Vice president, f...</td><td>10</td><td>MORTGAGE</td><td>188892.4</td><td>NV</td><td>891xx</td><td>USA</td><td>C</td><td>C5</td><td>Verified</td><td>557415.0</td><td>Joint App</td><td>203881.6</td><td>Not Verified</td><td>2024-03-20 10:08:...</td></tr>\n",
       "</table>\n",
       "only showing top 20 rows\n"
      ],
      "text/plain": [
       "+--------------------+--------------------+----------+--------------+-------------+-------------+---------------+---------------+-----+--------+-------------------+---------------+----------------+-------------------+-------------------------+--------------------+\n",
       "|           member_id|           emp_title|emp_length|home_ownership|annual_income|address_state|address_zipcode|address_country|grade|subgrade|verification_status|tot_hi_cred_lim|application_type|joint_annual_income|verification_status_joint|         ingest_date|\n",
       "+--------------------+--------------------+----------+--------------+-------------+-------------+---------------+---------------+-----+--------+-------------------+---------------+----------------+-------------------+-------------------------+--------------------+\n",
       "|b7530b2577abfa55d...|            Mri Tech|        10|      MORTGAGE|      52000.0|           MI|          480xx|            USA|    A|      A1|       Not Verified|       287786.0|      Individual|               null|                     null|2024-03-20 10:08:...|\n",
       "|77e9bea6a4e35acd6...|   Classroom Teacher|        10|      MORTGAGE|      86000.0|           CA|          930xx|            USA|    B|      B4|       Not Verified|        92452.0|      Individual|               null|                     null|2024-03-20 10:08:...|\n",
       "|e18f1efb3db969b55...|    customer service|         1|          RENT|      24000.0|           CA|          920xx|            USA|    B|      B4|    Source Verified|        89500.0|      Individual|               null|                     null|2024-03-20 10:08:...|\n",
       "|77ecdcb79bbfc6e32...|IT Sr. Project Ma...|         3|      MORTGAGE|     120000.0|           IL|          600xx|            USA|    B|      B2|       Not Verified|       298320.0|      Individual|               null|                     null|2024-03-20 10:08:...|\n",
       "|a29acd5e63a01827c...|               Nurse|         1|           OWN|      75000.0|           GA|          302xx|            USA|    C|      C3|       Not Verified|       111328.0|      Individual|               null|                     null|2024-03-20 10:08:...|\n",
       "|d1864b7a8b87344c0...|               owner|         7|           OWN|      60000.0|           IL|          600xx|            USA|    B|      B2|       Not Verified|        20400.0|      Individual|               null|                     null|2024-03-20 10:08:...|\n",
       "|8e6455f327840c531...|       Sales Manager|        10|          RENT|     110000.0|           TN|          370xx|            USA|    B|      B1|    Source Verified|       109427.0|      Individual|               null|                     null|2024-03-20 10:08:...|\n",
       "|883efd3674b0427a0...|Principal Programmer|         2|      MORTGAGE|     180000.0|           NJ|          088xx|            USA|    A|      A2|    Source Verified|       528003.0|      Individual|               null|                     null|2024-03-20 10:08:...|\n",
       "|d389cb82928a150df...|             Teacher|         2|      MORTGAGE|      87000.0|           WA|          982xx|            USA|    B|      B2|       Not Verified|       362900.0|      Individual|               null|                     null|2024-03-20 10:08:...|\n",
       "|374899c3bb14eb70e...|ESTIMATOR/PRODUCT...|         1|          RENT|      88000.0|           MD|          208xx|            USA|    B|      B4|    Source Verified|        53884.0|      Individual|               null|                     null|2024-03-20 10:08:...|\n",
       "|876fa3f919edb272b...|   Assistant manager|         3|          RENT|      35000.0|           TX|          760xx|            USA|    D|      D1|           Verified|        26385.0|      Individual|               null|                     null|2024-03-20 10:08:...|\n",
       "|9cf42fb357536ebec...|            Staff RN|        10|           OWN|     100000.0|           CA|          907xx|            USA|    D|      D1|           Verified|        55250.0|      Individual|               null|                     null|2024-03-20 10:08:...|\n",
       "|607ff671a5feba0a7...|     Police Sergeant|         6|      MORTGAGE|      91540.0|           MA|          011xx|            USA|    C|      C5|    Source Verified|       216151.0|      Individual|               null|                     null|2024-03-20 10:08:...|\n",
       "|40abbf2d525fe480e...|      Police Officer|        10|          RENT|      92000.0|           CA|          956xx|            USA|    C|      C3|    Source Verified|        33734.0|      Individual|               null|                     null|2024-03-20 10:08:...|\n",
       "|025b353021a441b61...|                null|      null|      MORTGAGE|     135000.0|           FL|          331xx|            USA|    A|      A5|       Not Verified|       227898.0|      Individual|               null|                     null|2024-03-20 10:08:...|\n",
       "|741de6e2674f7c73b...|                null|      null|          RENT|      25000.0|           TX|          750xx|            USA|    D|      D2|    Source Verified|        13969.0|       Joint App|            45000.0|             Not Verified|2024-03-20 10:08:...|\n",
       "|19c8db54787acbdcf...|             Manager|         7|          RENT|      70000.0|           NY|          119xx|            USA|    C|      C4|       Not Verified|        98444.0|      Individual|               null|                     null|2024-03-20 10:08:...|\n",
       "|ce3750cf03fd22bc9...|Aircraft Overhaul...|         7|      MORTGAGE|      90000.0|           OK|          730xx|            USA|    A|      A3|       Not Verified|       423647.0|       Joint App|           130000.0|             Not Verified|2024-03-20 10:08:...|\n",
       "|ed07bbef6996bfbc1...|          Supervisor|        10|      MORTGAGE|      72000.0|           TX|          775xx|            USA|    B|      B4|       Not Verified|       211791.0|       Joint App|           147000.0|             Not Verified|2024-03-20 10:08:...|\n",
       "|315a1e5f80030d393...|        Nursing Tech|         8|           OWN|      60000.0|           NY|          104xx|            USA|    B|      B1|    Source Verified|        99907.0|      Individual|               null|                     null|2024-03-20 10:08:...|\n",
       "+--------------------+--------------------+----------+--------------+-------------+-------------+---------------+---------------+-----+--------+-------------------+---------------+----------------+-------------------+-------------------------+--------------------+\n",
       "only showing top 20 rows"
      ]
     },
     "execution_count": 22,
     "metadata": {},
     "output_type": "execute_result"
    }
   ],
   "source": [
    "cust_emp_length_cleaned"
   ]
  },
  {
   "cell_type": "code",
   "execution_count": 23,
   "id": "19041e33",
   "metadata": {},
   "outputs": [
    {
     "name": "stdout",
     "output_type": "stream",
     "text": [
      "root\n",
      " |-- member_id: string (nullable = true)\n",
      " |-- emp_title: string (nullable = true)\n",
      " |-- emp_length: string (nullable = true)\n",
      " |-- home_ownership: string (nullable = true)\n",
      " |-- annual_income: float (nullable = true)\n",
      " |-- address_state: string (nullable = true)\n",
      " |-- address_zipcode: string (nullable = true)\n",
      " |-- address_country: string (nullable = true)\n",
      " |-- grade: string (nullable = true)\n",
      " |-- subgrade: string (nullable = true)\n",
      " |-- verification_status: string (nullable = true)\n",
      " |-- tot_hi_cred_lim: float (nullable = true)\n",
      " |-- application_type: string (nullable = true)\n",
      " |-- joint_annual_income: float (nullable = true)\n",
      " |-- verification_status_joint: string (nullable = true)\n",
      " |-- ingest_date: timestamp (nullable = false)\n",
      "\n"
     ]
    }
   ],
   "source": [
    "cust_emp_length_cleaned.printSchema()"
   ]
  },
  {
   "cell_type": "code",
   "execution_count": 24,
   "id": "f978f5b3",
   "metadata": {},
   "outputs": [],
   "source": [
    "cust_emp_length_casted = cust_emp_length_cleaned.withColumn(\"emp_length\", cust_emp_length_cleaned.emp_length.cast(\"int\"))"
   ]
  },
  {
   "cell_type": "code",
   "execution_count": 25,
   "id": "7418297b",
   "metadata": {},
   "outputs": [
    {
     "name": "stdout",
     "output_type": "stream",
     "text": [
      "root\n",
      " |-- member_id: string (nullable = true)\n",
      " |-- emp_title: string (nullable = true)\n",
      " |-- emp_length: integer (nullable = true)\n",
      " |-- home_ownership: string (nullable = true)\n",
      " |-- annual_income: float (nullable = true)\n",
      " |-- address_state: string (nullable = true)\n",
      " |-- address_zipcode: string (nullable = true)\n",
      " |-- address_country: string (nullable = true)\n",
      " |-- grade: string (nullable = true)\n",
      " |-- subgrade: string (nullable = true)\n",
      " |-- verification_status: string (nullable = true)\n",
      " |-- tot_hi_cred_lim: float (nullable = true)\n",
      " |-- application_type: string (nullable = true)\n",
      " |-- joint_annual_income: float (nullable = true)\n",
      " |-- verification_status_joint: string (nullable = true)\n",
      " |-- ingest_date: timestamp (nullable = false)\n",
      "\n"
     ]
    }
   ],
   "source": [
    "cust_emp_length_casted.printSchema()"
   ]
  },
  {
   "cell_type": "markdown",
   "id": "ca71a30c",
   "metadata": {},
   "source": [
    "### replace all the nulls in emp_length column with average of this column"
   ]
  },
  {
   "cell_type": "code",
   "execution_count": 26,
   "id": "5a81282b",
   "metadata": {},
   "outputs": [
    {
     "data": {
      "text/plain": [
       "146903"
      ]
     },
     "execution_count": 26,
     "metadata": {},
     "output_type": "execute_result"
    }
   ],
   "source": [
    "cust_emp_length_casted.filter(\"emp_length is null\").count()"
   ]
  },
  {
   "cell_type": "code",
   "execution_count": 27,
   "id": "f88d76a7",
   "metadata": {},
   "outputs": [],
   "source": [
    "cust_emp_length_casted.createOrReplaceTempView(\"customers\")"
   ]
  },
  {
   "cell_type": "code",
   "execution_count": 28,
   "id": "dec47fe2",
   "metadata": {},
   "outputs": [
    {
     "name": "stdout",
     "output_type": "stream",
     "text": [
      "[Row(avg_emp_length=6)]\n"
     ]
    }
   ],
   "source": [
    "avg_emp_length = spark.sql(\"SELECT floor(AVG(emp_length)) as avg_emp_length FROM customers\").collect()\n",
    "print(avg_emp_length)"
   ]
  },
  {
   "cell_type": "code",
   "execution_count": 29,
   "id": "912d43b0",
   "metadata": {},
   "outputs": [],
   "source": [
    "avg_emp_duration = avg_emp_length[0][0]"
   ]
  },
  {
   "cell_type": "code",
   "execution_count": 30,
   "id": "5f0a8553",
   "metadata": {},
   "outputs": [],
   "source": [
    "cust_nulls_filled = cust_emp_length_casted.na.fill(avg_emp_duration, subset = ['emp_length'])"
   ]
  },
  {
   "cell_type": "code",
   "execution_count": 31,
   "id": "d15689f4",
   "metadata": {},
   "outputs": [
    {
     "data": {
      "text/html": [
       "<table border='1'>\n",
       "<tr><th>member_id</th><th>emp_title</th><th>emp_length</th><th>home_ownership</th><th>annual_income</th><th>address_state</th><th>address_zipcode</th><th>address_country</th><th>grade</th><th>subgrade</th><th>verification_status</th><th>tot_hi_cred_lim</th><th>application_type</th><th>joint_annual_income</th><th>verification_status_joint</th><th>ingest_date</th></tr>\n",
       "<tr><td>b3a78dda1fb4da92f...</td><td>STORE MANAGER</td><td>2</td><td>RENT</td><td>75000.0</td><td>CA</td><td>927xx</td><td>USA</td><td>D</td><td>D1</td><td>Source Verified</td><td>98130.0</td><td>Individual</td><td>null</td><td>null</td><td>2024-03-20 10:08:...</td></tr>\n",
       "<tr><td>2578dd8447002d070...</td><td>Police Officer</td><td>10</td><td>RENT</td><td>50932.0</td><td>TX</td><td>774xx</td><td>USA</td><td>D</td><td>D2</td><td>Source Verified</td><td>76818.0</td><td>Individual</td><td>null</td><td>null</td><td>2024-03-20 10:08:...</td></tr>\n",
       "<tr><td>1d7adf0390924b2ba...</td><td>Security Guard</td><td>10</td><td>MORTGAGE</td><td>39000.0</td><td>MN</td><td>554xx</td><td>USA</td><td>A</td><td>A5</td><td>Source Verified</td><td>252250.0</td><td>Individual</td><td>null</td><td>null</td><td>2024-03-20 10:08:...</td></tr>\n",
       "<tr><td>b83fa13f8387883c8...</td><td>null</td><td>6</td><td>RENT</td><td>53226.32</td><td>CA</td><td>950xx</td><td>USA</td><td>C</td><td>C4</td><td>Verified</td><td>150368.0</td><td>Individual</td><td>null</td><td>null</td><td>2024-03-20 10:08:...</td></tr>\n",
       "<tr><td>342511465d352751f...</td><td>Benefits Analyst</td><td>10</td><td>MORTGAGE</td><td>63000.0</td><td>PA</td><td>170xx</td><td>USA</td><td>B</td><td>B4</td><td>Not Verified</td><td>324215.0</td><td>Individual</td><td>null</td><td>null</td><td>2024-03-20 10:08:...</td></tr>\n",
       "<tr><td>9a13f0c6c1ad480f3...</td><td>Medical Consultant</td><td>2</td><td>RENT</td><td>45000.0</td><td>NY</td><td>114xx</td><td>USA</td><td>B</td><td>B2</td><td>Source Verified</td><td>95700.0</td><td>Individual</td><td>null</td><td>null</td><td>2024-03-20 10:08:...</td></tr>\n",
       "<tr><td>7e87003387fcf91e3...</td><td>District Manager</td><td>10</td><td>OWN</td><td>98000.0</td><td>CA</td><td>932xx</td><td>USA</td><td>B</td><td>B1</td><td>Not Verified</td><td>417490.0</td><td>Individual</td><td>null</td><td>null</td><td>2024-03-20 10:08:...</td></tr>\n",
       "<tr><td>4b0fe664b2852815b...</td><td>Agent</td><td>5</td><td>MORTGAGE</td><td>0.0</td><td>FL</td><td>325xx</td><td>USA</td><td>D</td><td>D1</td><td>Verified</td><td>153771.0</td><td>Joint App</td><td>56000.0</td><td>Not Verified</td><td>2024-03-20 10:08:...</td></tr>\n",
       "<tr><td>9d53d5a87d902cb5e...</td><td>Manager</td><td>3</td><td>RENT</td><td>80000.0</td><td>NY</td><td>104xx</td><td>USA</td><td>A</td><td>A3</td><td>Not Verified</td><td>10000.0</td><td>Individual</td><td>null</td><td>null</td><td>2024-03-20 10:08:...</td></tr>\n",
       "<tr><td>878b5d7c026988719...</td><td>Claims Adjuster</td><td>3</td><td>RENT</td><td>54900.0</td><td>NJ</td><td>080xx</td><td>USA</td><td>D</td><td>D2</td><td>Source Verified</td><td>17241.0</td><td>Individual</td><td>null</td><td>null</td><td>2024-03-20 10:08:...</td></tr>\n",
       "<tr><td>4baa35381f0f9a477...</td><td>null</td><td>6</td><td>RENT</td><td>36000.0</td><td>CT</td><td>065xx</td><td>USA</td><td>D</td><td>D4</td><td>Verified</td><td>27100.0</td><td>Individual</td><td>null</td><td>null</td><td>2024-03-20 10:08:...</td></tr>\n",
       "<tr><td>3b070965a2bf9a879...</td><td>Aseptic</td><td>10</td><td>MORTGAGE</td><td>85000.0</td><td>OH</td><td>434xx</td><td>USA</td><td>A</td><td>A1</td><td>Not Verified</td><td>128536.0</td><td>Individual</td><td>null</td><td>null</td><td>2024-03-20 10:08:...</td></tr>\n",
       "<tr><td>3c42e144629583d76...</td><td>warehouse</td><td>10</td><td>MORTGAGE</td><td>45000.0</td><td>IL</td><td>611xx</td><td>USA</td><td>D</td><td>D1</td><td>Not Verified</td><td>86100.0</td><td>Joint App</td><td>135000.0</td><td>Not Verified</td><td>2024-03-20 10:08:...</td></tr>\n",
       "<tr><td>aa68fe1bd13825dc7...</td><td>Customer Service Rep</td><td>5</td><td>MORTGAGE</td><td>48000.0</td><td>MN</td><td>554xx</td><td>USA</td><td>A</td><td>A2</td><td>Verified</td><td>254345.0</td><td>Individual</td><td>null</td><td>null</td><td>2024-03-20 10:08:...</td></tr>\n",
       "<tr><td>923a2dd0a360590cc...</td><td>Legal assistant</td><td>2</td><td>MORTGAGE</td><td>27000.0</td><td>FL</td><td>338xx</td><td>USA</td><td>E</td><td>E4</td><td>Not Verified</td><td>114260.0</td><td>Joint App</td><td>65000.0</td><td>Not Verified</td><td>2024-03-20 10:08:...</td></tr>\n",
       "<tr><td>643dc1a1a25873357...</td><td>Staff Nurse</td><td>1</td><td>RENT</td><td>52000.0</td><td>NJ</td><td>075xx</td><td>USA</td><td>B</td><td>B3</td><td>Source Verified</td><td>52200.0</td><td>Individual</td><td>null</td><td>null</td><td>2024-03-20 10:08:...</td></tr>\n",
       "<tr><td>84e732d33c337e545...</td><td>Pharmacy Manager</td><td>3</td><td>MORTGAGE</td><td>139360.0</td><td>TX</td><td>762xx</td><td>USA</td><td>C</td><td>C1</td><td>Verified</td><td>58000.0</td><td>Joint App</td><td>193420.0</td><td>null</td><td>2024-03-20 10:08:...</td></tr>\n",
       "<tr><td>28874b34030168d23...</td><td>Bellman</td><td>2</td><td>RENT</td><td>39000.0</td><td>CA</td><td>914xx</td><td>USA</td><td>C</td><td>C5</td><td>Source Verified</td><td>81357.0</td><td>Individual</td><td>null</td><td>null</td><td>2024-03-20 10:08:...</td></tr>\n",
       "<tr><td>b0be36047f1f4d170...</td><td>Controller</td><td>2</td><td>MORTGAGE</td><td>130000.0</td><td>FL</td><td>331xx</td><td>USA</td><td>A</td><td>A2</td><td>Source Verified</td><td>550141.0</td><td>Individual</td><td>null</td><td>null</td><td>2024-03-20 10:08:...</td></tr>\n",
       "<tr><td>51463a53fe26a907d...</td><td>HS-2</td><td>10</td><td>OWN</td><td>24500.0</td><td>NC</td><td>287xx</td><td>USA</td><td>C</td><td>C4</td><td>Verified</td><td>106270.0</td><td>Individual</td><td>null</td><td>null</td><td>2024-03-20 10:08:...</td></tr>\n",
       "</table>\n",
       "only showing top 20 rows\n"
      ],
      "text/plain": [
       "+--------------------+--------------------+----------+--------------+-------------+-------------+---------------+---------------+-----+--------+-------------------+---------------+----------------+-------------------+-------------------------+--------------------+\n",
       "|           member_id|           emp_title|emp_length|home_ownership|annual_income|address_state|address_zipcode|address_country|grade|subgrade|verification_status|tot_hi_cred_lim|application_type|joint_annual_income|verification_status_joint|         ingest_date|\n",
       "+--------------------+--------------------+----------+--------------+-------------+-------------+---------------+---------------+-----+--------+-------------------+---------------+----------------+-------------------+-------------------------+--------------------+\n",
       "|ea5cdded31101178f...|Consumer Safety I...|        10|          RENT|      72000.0|           GA|          307xx|            USA|    E|      E4|           Verified|        72514.0|      Individual|               null|                     null|2024-03-20 10:08:...|\n",
       "|a72148f4464209fef...|     Human Resources|         4|      MORTGAGE|     110000.0|           AL|          357xx|            USA|    A|      A5|    Source Verified|       608093.0|      Individual|               null|                     null|2024-03-20 10:08:...|\n",
       "|0c8a5368fc5f50e5d...|         Coordinator|        10|          RENT|      62000.0|           OR|          972xx|            USA|    B|      B5|           Verified|        15100.0|      Individual|               null|                     null|2024-03-20 10:08:...|\n",
       "|bcb5b793dd720e36a...|  SCREA FHA APPROVED|        10|           OWN|      48000.0|           NJ|          087xx|            USA|    A|      A5|    Source Verified|       310648.0|      Individual|               null|                     null|2024-03-20 10:08:...|\n",
       "|ec9ca07d1cf68618c...|                null|         6|          RENT|      28300.0|           CT|          063xx|            USA|    C|      C5|           Verified|         6100.0|      Individual|               null|                     null|2024-03-20 10:08:...|\n",
       "|4519ef4a0c3eba7d0...|Senior Database D...|         2|          RENT|     155000.0|           CA|          907xx|            USA|    A|      A4|    Source Verified|       180824.0|      Individual|               null|                     null|2024-03-20 10:08:...|\n",
       "|b6da2213bf807ed3c...|      Vice President|         9|      MORTGAGE|     265000.0|           VA|          231xx|            USA|    A|      A2|       Not Verified|       552646.0|      Individual|               null|                     null|2024-03-20 10:08:...|\n",
       "|32f2b0b1851dc1b35...|   Web Administrator|        10|      MORTGAGE|      96000.0|           PA|          180xx|            USA|    A|      A4|    Source Verified|        91719.0|      Individual|               null|                     null|2024-03-20 10:08:...|\n",
       "|5ee8ee0412d0c565f...|       Administrator|        10|      MORTGAGE|      37000.0|           OH|          454xx|            USA|    B|      B4|       Not Verified|       207613.0|       Joint App|           102000.0|             Not Verified|2024-03-20 10:08:...|\n",
       "|54c2451cf283e5e52...|        Truck driver|         7|          RENT|     100446.0|           NY|          114xx|            USA|    B|      B1|    Source Verified|        62508.0|      Individual|               null|                     null|2024-03-20 10:08:...|\n",
       "|740fff87d2b13a860...|      Office Manager|         9|      MORTGAGE|      70000.0|           CA|          940xx|            USA|    B|      B5|    Source Verified|        60400.0|      Individual|               null|                     null|2024-03-20 10:08:...|\n",
       "|c7c48a25e0f921b1f...|Sales Representative|         2|      MORTGAGE|     170000.0|           NY|          103xx|            USA|    B|      B1|       Not Verified|       658144.0|      Individual|               null|                     null|2024-03-20 10:08:...|\n",
       "|98bc7946ba83ac45d...|    repair associate|        10|      MORTGAGE|     100005.0|           AL|          359xx|            USA|    A|      A2|       Not Verified|       280851.0|      Individual|               null|                     null|2024-03-20 10:08:...|\n",
       "|a65b75170ce5d390a...|Radiologic Techno...|        10|      MORTGAGE|      58000.0|           TX|          785xx|            USA|    D|      D4|           Verified|       174666.0|      Individual|               null|                     null|2024-03-20 10:08:...|\n",
       "|3b5cd3b612b63dc4d...|                null|         6|      MORTGAGE|      80000.0|           NJ|          074xx|            USA|    C|      C4|       Not Verified|        70200.0|      Individual|               null|                     null|2024-03-20 10:08:...|\n",
       "|1dff3d56ceaa2d142...|Occupancy Specialist|         1|          RENT|      55000.0|           CA|          940xx|            USA|    C|      C5|           Verified|        31700.0|      Individual|               null|                     null|2024-03-20 10:08:...|\n",
       "|4d31bf10b1238bfed...|                 LPN|         2|          RENT|      22000.0|           OK|          735xx|            USA|    C|      C4|           Verified|        73485.0|      Individual|               null|                     null|2024-03-20 10:08:...|\n",
       "|88674d705b81f263f...|International Sal...|        10|          RENT|     138000.0|           FL|          333xx|            USA|    C|      C1|           Verified|        80873.0|      Individual|               null|                     null|2024-03-20 10:08:...|\n",
       "|c28a357e3b9918a10...|       staff manager|         5|          RENT|      55000.0|           NY|          104xx|            USA|    C|      C5|           Verified|        12930.0|      Individual|               null|                     null|2024-03-20 10:08:...|\n",
       "|5873860e2d400f233...|                  RT|        10|      MORTGAGE|      48000.0|           LA|          705xx|            USA|    C|      C1|    Source Verified|       312765.0|      Individual|               null|                     null|2024-03-20 10:08:...|\n",
       "+--------------------+--------------------+----------+--------------+-------------+-------------+---------------+---------------+-----+--------+-------------------+---------------+----------------+-------------------+-------------------------+--------------------+\n",
       "only showing top 20 rows"
      ]
     },
     "execution_count": 31,
     "metadata": {},
     "output_type": "execute_result"
    }
   ],
   "source": [
    "cust_nulls_filled"
   ]
  },
  {
   "cell_type": "code",
   "execution_count": 32,
   "id": "078e57a5",
   "metadata": {},
   "outputs": [
    {
     "data": {
      "text/html": [
       "<table border='1'>\n",
       "<tr><th>member_id</th><th>emp_title</th><th>emp_length</th><th>home_ownership</th><th>annual_income</th><th>address_state</th><th>address_zipcode</th><th>address_country</th><th>grade</th><th>subgrade</th><th>verification_status</th><th>tot_hi_cred_lim</th><th>application_type</th><th>joint_annual_income</th><th>verification_status_joint</th><th>ingest_date</th></tr>\n",
       "</table>\n"
      ],
      "text/plain": [
       "+---------+---------+----------+--------------+-------------+-------------+---------------+---------------+-----+--------+-------------------+---------------+----------------+-------------------+-------------------------+-----------+\n",
       "|member_id|emp_title|emp_length|home_ownership|annual_income|address_state|address_zipcode|address_country|grade|subgrade|verification_status|tot_hi_cred_lim|application_type|joint_annual_income|verification_status_joint|ingest_date|\n",
       "+---------+---------+----------+--------------+-------------+-------------+---------------+---------------+-----+--------+-------------------+---------------+----------------+-------------------+-------------------------+-----------+\n",
       "+---------+---------+----------+--------------+-------------+-------------+---------------+---------------+-----+--------+-------------------+---------------+----------------+-------------------+-------------------------+-----------+"
      ]
     },
     "execution_count": 32,
     "metadata": {},
     "output_type": "execute_result"
    }
   ],
   "source": [
    "cust_nulls_filled.filter(\"emp_length is null\")"
   ]
  },
  {
   "cell_type": "code",
   "execution_count": 33,
   "id": "938d5be7",
   "metadata": {},
   "outputs": [],
   "source": [
    "cust_nulls_filled.createOrReplaceTempView(\"customers\")"
   ]
  },
  {
   "cell_type": "markdown",
   "id": "b442569e",
   "metadata": {},
   "source": [
    "###  clean the address_state (it should be 2 characters only), replace all others with NA"
   ]
  },
  {
   "cell_type": "code",
   "execution_count": 34,
   "id": "6db82fd3",
   "metadata": {},
   "outputs": [
    {
     "data": {
      "text/html": [
       "<table border='1'>\n",
       "<tr><th>address_state</th></tr>\n",
       "<tr><td>Helping Kenya&#x27;s D...</td></tr>\n",
       "<tr><td>223xx</td></tr>\n",
       "<tr><td>175 (total projec...</td></tr>\n",
       "<tr><td>AZ</td></tr>\n",
       "<tr><td>SC</td></tr>\n",
       "<tr><td>I am 56 yrs. old ...</td></tr>\n",
       "<tr><td>so Plan &quot;&quot;C&quot;&quot; is ...</td></tr>\n",
       "<tr><td>financially I mad...</td></tr>\n",
       "<tr><td>but no one will l...</td></tr>\n",
       "<tr><td>LA</td></tr>\n",
       "<tr><td>etc.  First</td></tr>\n",
       "<tr><td>MN</td></tr>\n",
       "<tr><td>850xx</td></tr>\n",
       "<tr><td>yet Capital One n...</td></tr>\n",
       "<tr><td>499xx</td></tr>\n",
       "<tr><td>Eliminating Credi...</td></tr>\n",
       "<tr><td>and MBA&#x27;s are ove...</td></tr>\n",
       "<tr><td>Advocate business...</td></tr>\n",
       "<tr><td>662xx</td></tr>\n",
       "<tr><td>I the credit card...</td></tr>\n",
       "</table>\n",
       "only showing top 20 rows\n"
      ],
      "text/plain": [
       "+--------------------+\n",
       "|       address_state|\n",
       "+--------------------+\n",
       "|Helping Kenya's D...|\n",
       "|               223xx|\n",
       "|175 (total projec...|\n",
       "|                  SC|\n",
       "|                  AZ|\n",
       "|so Plan \"\"C\"\" is ...|\n",
       "|I am 56 yrs. old ...|\n",
       "|financially I mad...|\n",
       "|but no one will l...|\n",
       "|                  LA|\n",
       "|         etc.  First|\n",
       "|                  MN|\n",
       "|               850xx|\n",
       "|yet Capital One n...|\n",
       "|               499xx|\n",
       "|Eliminating Credi...|\n",
       "|Advocate business...|\n",
       "|and MBA's are ove...|\n",
       "|               951xx|\n",
       "|I the credit card...|\n",
       "+--------------------+\n",
       "only showing top 20 rows"
      ]
     },
     "execution_count": 34,
     "metadata": {},
     "output_type": "execute_result"
    }
   ],
   "source": [
    "spark.sql(\"SELECT DISTINCT(address_state) FROM customers\")"
   ]
  },
  {
   "cell_type": "code",
   "execution_count": 36,
   "id": "a9d8ee39",
   "metadata": {},
   "outputs": [
    {
     "data": {
      "text/html": [
       "<table border='1'>\n",
       "<tr><th>count(address_state)</th></tr>\n",
       "<tr><td>254</td></tr>\n",
       "</table>\n"
      ],
      "text/plain": [
       "+--------------------+\n",
       "|count(address_state)|\n",
       "+--------------------+\n",
       "|                 254|\n",
       "+--------------------+"
      ]
     },
     "execution_count": 36,
     "metadata": {},
     "output_type": "execute_result"
    }
   ],
   "source": [
    "spark.sql(\"SELECT COUNT(address_state) FROM customers WHERE length(address_state) > 2\")"
   ]
  },
  {
   "cell_type": "code",
   "execution_count": 43,
   "id": "9516bb88",
   "metadata": {},
   "outputs": [],
   "source": [
    "cust_cleaned = cust_nulls_filled.withColumn(\n",
    "    \"address_state\",\n",
    "    when(length(col(\"address_state\")) > 2, \"NA\").otherwise(col(\"address_state\"))\n",
    ")"
   ]
  },
  {
   "cell_type": "code",
   "execution_count": 45,
   "id": "303df9c5",
   "metadata": {},
   "outputs": [
    {
     "data": {
      "text/html": [
       "<table border='1'>\n",
       "<tr><th>address_state</th></tr>\n",
       "<tr><td>AZ</td></tr>\n",
       "<tr><td>SC</td></tr>\n",
       "<tr><td>LA</td></tr>\n",
       "<tr><td>MN</td></tr>\n",
       "<tr><td>NJ</td></tr>\n",
       "<tr><td>DC</td></tr>\n",
       "<tr><td>OR</td></tr>\n",
       "<tr><td>NA</td></tr>\n",
       "<tr><td>VA</td></tr>\n",
       "<tr><td>null</td></tr>\n",
       "<tr><td>RI</td></tr>\n",
       "<tr><td>KY</td></tr>\n",
       "<tr><td>WY</td></tr>\n",
       "<tr><td>NH</td></tr>\n",
       "<tr><td>MI</td></tr>\n",
       "<tr><td>NV</td></tr>\n",
       "<tr><td>WI</td></tr>\n",
       "<tr><td>ID</td></tr>\n",
       "<tr><td>CA</td></tr>\n",
       "<tr><td>CT</td></tr>\n",
       "</table>\n",
       "only showing top 20 rows\n"
      ],
      "text/plain": [
       "+-------------+\n",
       "|address_state|\n",
       "+-------------+\n",
       "|           SC|\n",
       "|           AZ|\n",
       "|           LA|\n",
       "|           MN|\n",
       "|           NJ|\n",
       "|           DC|\n",
       "|           OR|\n",
       "|           NA|\n",
       "|           VA|\n",
       "|         null|\n",
       "|           RI|\n",
       "|           KY|\n",
       "|           WY|\n",
       "|           NH|\n",
       "|           MI|\n",
       "|           NV|\n",
       "|           WI|\n",
       "|           ID|\n",
       "|           CA|\n",
       "|           CT|\n",
       "+-------------+\n",
       "only showing top 20 rows"
      ]
     },
     "execution_count": 45,
     "metadata": {},
     "output_type": "execute_result"
    }
   ],
   "source": [
    "cust_cleaned.select(\"address_state\").distinct()"
   ]
  },
  {
   "cell_type": "code",
   "execution_count": 50,
   "id": "32f5d618",
   "metadata": {},
   "outputs": [],
   "source": [
    "cust_cleaned.write \\\n",
    ".format(\"parquet\") \\\n",
    ".mode(\"overwrite\") \\\n",
    ".option(\"path\", \"lending_club_project/cleaned_data/customers_cleaned_parquet\") \\\n",
    ".save()"
   ]
  },
  {
   "cell_type": "code",
   "execution_count": 54,
   "id": "ee64d269",
   "metadata": {},
   "outputs": [],
   "source": [
    "cust_cleaned.write \\\n",
    ".option(\"header\",\"true\") \\\n",
    ".format(\"csv\") \\\n",
    ".mode(\"overwrite\") \\\n",
    ".option(\"path\", \"lending_club_project/cleaned_data/customers_cleaned_csv\") \\\n",
    ".save()"
   ]
  },
  {
   "cell_type": "code",
   "execution_count": null,
   "id": "c4d71265",
   "metadata": {},
   "outputs": [],
   "source": []
  }
 ],
 "metadata": {
  "kernelspec": {
   "display_name": "Pyspark 3",
   "language": "python",
   "name": "pyspark3"
  },
  "language_info": {
   "codemirror_mode": {
    "name": "ipython",
    "version": 3
   },
   "file_extension": ".py",
   "mimetype": "text/x-python",
   "name": "python",
   "nbconvert_exporter": "python",
   "pygments_lexer": "ipython3",
   "version": "3.6.12"
  }
 },
 "nbformat": 4,
 "nbformat_minor": 5
}
