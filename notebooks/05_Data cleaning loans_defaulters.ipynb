{
 "cells": [
  {
   "cell_type": "code",
   "execution_count": 1,
   "id": "195f55e9",
   "metadata": {},
   "outputs": [],
   "source": [
    "from pyspark.sql import SparkSession\n",
    "import getpass\n",
    "username = getpass.getuser()\n",
    "spark = SparkSession. \\\n",
    "builder. \\\n",
    "config(\"spark.sql.warehouse.dir\", f\"/user/itv010698/warehouse\"). \\\n",
    "enableHiveSupport(). \\\n",
    "master('yarn'). \\\n",
    "getOrCreate()"
   ]
  },
  {
   "cell_type": "code",
   "execution_count": 2,
   "id": "0fd634cb",
   "metadata": {},
   "outputs": [],
   "source": [
    "loans_defaulters_df = spark.read \\\n",
    ".format(\"csv\") \\\n",
    ".option(\"inferSchema\", \"true\") \\\n",
    ".option(\"header\", \"true\") \\\n",
    ".load(\"lending_club_project/raw_data/loan_defaulters_csv\")"
   ]
  },
  {
   "cell_type": "code",
   "execution_count": 3,
   "id": "0813660b",
   "metadata": {},
   "outputs": [
    {
     "data": {
      "text/html": [
       "<table border='1'>\n",
       "<tr><th>member_id</th><th>delinq_2yrs</th><th>delinq_amnt</th><th>pub_rec</th><th>pub_rec_bankruptcies</th><th>inq_last_6mths</th><th>total_rec_late_fee</th><th>mths_since_last_delinq</th><th>mths_since_last_record</th></tr>\n",
       "<tr><td>743530141063dc33d...</td><td>0.0</td><td>0.0</td><td>0.0</td><td>0.0</td><td>2.0</td><td>0.0</td><td>null</td><td>null</td></tr>\n",
       "<tr><td>2ac41c2d9f4966188...</td><td>0.0</td><td>0.0</td><td>0.0</td><td>0.0</td><td>1.0</td><td>0.0</td><td>null</td><td>null</td></tr>\n",
       "<tr><td>9f0145c753ad6b157...</td><td>0.0</td><td>0.0</td><td>0.0</td><td>0.0</td><td>0.0</td><td>0.0</td><td>33.0</td><td>null</td></tr>\n",
       "<tr><td>f180e481ba7755b25...</td><td>0.0</td><td>0.0</td><td>0.0</td><td>0.0</td><td>0.0</td><td>0.0</td><td>null</td><td>null</td></tr>\n",
       "<tr><td>0f12ba052807101e7...</td><td>0.0</td><td>0.0</td><td>0.0</td><td>0.0</td><td>2.0</td><td>0.0</td><td>null</td><td>null</td></tr>\n",
       "<tr><td>69e61c82e93037ace...</td><td>0.0</td><td>0.0</td><td>0.0</td><td>0.0</td><td>0.0</td><td>0.0</td><td>null</td><td>null</td></tr>\n",
       "<tr><td>f72dbbdb8851007aa...</td><td>0.0</td><td>0.0</td><td>0.0</td><td>0.0</td><td>0.0</td><td>0.0</td><td>null</td><td>null</td></tr>\n",
       "<tr><td>eca8525ceb6912b95...</td><td>0.0</td><td>0.0</td><td>0.0</td><td>0.0</td><td>1.0</td><td>0.0</td><td>77.0</td><td>null</td></tr>\n",
       "<tr><td>508dfaa28e2bbb74d...</td><td>0.0</td><td>0.0</td><td>0.0</td><td>0.0</td><td>0.0</td><td>0.0</td><td>null</td><td>null</td></tr>\n",
       "<tr><td>b44aca52f973c7090...</td><td>0.0</td><td>0.0</td><td>0.0</td><td>0.0</td><td>1.0</td><td>0.0</td><td>null</td><td>null</td></tr>\n",
       "<tr><td>d832fb44028eeb73d...</td><td>0.0</td><td>0.0</td><td>0.0</td><td>0.0</td><td>1.0</td><td>0.0</td><td>null</td><td>null</td></tr>\n",
       "<tr><td>004d932e272711fc3...</td><td>0.0</td><td>0.0</td><td>0.0</td><td>0.0</td><td>1.0</td><td>0.0</td><td>80.0</td><td>null</td></tr>\n",
       "<tr><td>92babb19dfc831b1a...</td><td>0.0</td><td>0.0</td><td>0.0</td><td>0.0</td><td>0.0</td><td>0.0</td><td>null</td><td>null</td></tr>\n",
       "<tr><td>3c90fb90165b043bc...</td><td>0.0</td><td>0.0</td><td>0.0</td><td>0.0</td><td>0.0</td><td>0.0</td><td>50.0</td><td>null</td></tr>\n",
       "<tr><td>b16807389deb10499...</td><td>0.0</td><td>0.0</td><td>0.0</td><td>0.0</td><td>1.0</td><td>0.0</td><td>38.0</td><td>null</td></tr>\n",
       "<tr><td>d1a222d79b8ef6344...</td><td>189xx</td><td>null</td><td>54.0</td><td>null</td><td>Nov-1982</td><td>10912.22</td><td>755.0</td><td>759.0</td></tr>\n",
       "<tr><td>1b6414f12deb57148...</td><td>0.0</td><td>0.0</td><td>0.0</td><td>0.0</td><td>2.0</td><td>0.0</td><td>null</td><td>null</td></tr>\n",
       "<tr><td>696c7da7816bbd620...</td><td>0.0</td><td>0.0</td><td>0.0</td><td>0.0</td><td>3.0</td><td>0.0</td><td>null</td><td>null</td></tr>\n",
       "<tr><td>1f4e8c1b460915297...</td><td>0.0</td><td>0.0</td><td>0.0</td><td>0.0</td><td>3.0</td><td>0.0</td><td>null</td><td>null</td></tr>\n",
       "<tr><td>b89659eabd6a0e437...</td><td>0.0</td><td>0.0</td><td>0.0</td><td>0.0</td><td>1.0</td><td>0.0</td><td>45.0</td><td>null</td></tr>\n",
       "</table>\n",
       "only showing top 20 rows\n"
      ],
      "text/plain": [
       "+--------------------+-----------+-----------+-------+--------------------+--------------+------------------+----------------------+----------------------+\n",
       "|           member_id|delinq_2yrs|delinq_amnt|pub_rec|pub_rec_bankruptcies|inq_last_6mths|total_rec_late_fee|mths_since_last_delinq|mths_since_last_record|\n",
       "+--------------------+-----------+-----------+-------+--------------------+--------------+------------------+----------------------+----------------------+\n",
       "|743530141063dc33d...|        0.0|        0.0|    0.0|                 0.0|           2.0|               0.0|                  null|                  null|\n",
       "|2ac41c2d9f4966188...|        0.0|        0.0|    0.0|                 0.0|           1.0|               0.0|                  null|                  null|\n",
       "|9f0145c753ad6b157...|        0.0|        0.0|    0.0|                 0.0|           0.0|               0.0|                  33.0|                  null|\n",
       "|f180e481ba7755b25...|        0.0|        0.0|    0.0|                 0.0|           0.0|               0.0|                  null|                  null|\n",
       "|0f12ba052807101e7...|        0.0|        0.0|    0.0|                 0.0|           2.0|               0.0|                  null|                  null|\n",
       "|69e61c82e93037ace...|        0.0|        0.0|    0.0|                 0.0|           0.0|               0.0|                  null|                  null|\n",
       "|f72dbbdb8851007aa...|        0.0|        0.0|    0.0|                 0.0|           0.0|               0.0|                  null|                  null|\n",
       "|eca8525ceb6912b95...|        0.0|        0.0|    0.0|                 0.0|           1.0|               0.0|                  77.0|                  null|\n",
       "|508dfaa28e2bbb74d...|        0.0|        0.0|    0.0|                 0.0|           0.0|               0.0|                  null|                  null|\n",
       "|b44aca52f973c7090...|        0.0|        0.0|    0.0|                 0.0|           1.0|               0.0|                  null|                  null|\n",
       "|d832fb44028eeb73d...|        0.0|        0.0|    0.0|                 0.0|           1.0|               0.0|                  null|                  null|\n",
       "|004d932e272711fc3...|        0.0|        0.0|    0.0|                 0.0|           1.0|               0.0|                  80.0|                  null|\n",
       "|92babb19dfc831b1a...|        0.0|        0.0|    0.0|                 0.0|           0.0|               0.0|                  null|                  null|\n",
       "|3c90fb90165b043bc...|        0.0|        0.0|    0.0|                 0.0|           0.0|               0.0|                  50.0|                  null|\n",
       "|b16807389deb10499...|        0.0|        0.0|    0.0|                 0.0|           1.0|               0.0|                  38.0|                  null|\n",
       "|d1a222d79b8ef6344...|      189xx|       null|   54.0|                null|      Nov-1982|          10912.22|                 755.0|                 759.0|\n",
       "|1b6414f12deb57148...|        0.0|        0.0|    0.0|                 0.0|           2.0|               0.0|                  null|                  null|\n",
       "|696c7da7816bbd620...|        0.0|        0.0|    0.0|                 0.0|           3.0|               0.0|                  null|                  null|\n",
       "|1f4e8c1b460915297...|        0.0|        0.0|    0.0|                 0.0|           3.0|               0.0|                  null|                  null|\n",
       "|b89659eabd6a0e437...|        0.0|        0.0|    0.0|                 0.0|           1.0|               0.0|                  45.0|                  null|\n",
       "+--------------------+-----------+-----------+-------+--------------------+--------------+------------------+----------------------+----------------------+\n",
       "only showing top 20 rows"
      ]
     },
     "execution_count": 3,
     "metadata": {},
     "output_type": "execute_result"
    }
   ],
   "source": [
    "loans_defaulters_df"
   ]
  },
  {
   "cell_type": "code",
   "execution_count": 4,
   "id": "e2692e3a",
   "metadata": {},
   "outputs": [
    {
     "name": "stdout",
     "output_type": "stream",
     "text": [
      "root\n",
      " |-- member_id: string (nullable = true)\n",
      " |-- delinq_2yrs: string (nullable = true)\n",
      " |-- delinq_amnt: double (nullable = true)\n",
      " |-- pub_rec: string (nullable = true)\n",
      " |-- pub_rec_bankruptcies: double (nullable = true)\n",
      " |-- inq_last_6mths: string (nullable = true)\n",
      " |-- total_rec_late_fee: string (nullable = true)\n",
      " |-- mths_since_last_delinq: string (nullable = true)\n",
      " |-- mths_since_last_record: string (nullable = true)\n",
      "\n"
     ]
    }
   ],
   "source": [
    "loans_defaulters_df.printSchema()"
   ]
  },
  {
   "cell_type": "code",
   "execution_count": 7,
   "id": "439a8ef4",
   "metadata": {},
   "outputs": [],
   "source": [
    "loans_defaulters_df.createOrReplaceTempView(\"loan_defaulters\")"
   ]
  },
  {
   "cell_type": "code",
   "execution_count": 8,
   "id": "d700faad",
   "metadata": {},
   "outputs": [
    {
     "data": {
      "text/html": [
       "<table border='1'>\n",
       "<tr><th>delinq_2yrs</th></tr>\n",
       "<tr><td>1.0</td></tr>\n",
       "<tr><td>I bike to work on...</td></tr>\n",
       "<tr><td>271 monthly payme...</td></tr>\n",
       "<tr><td>VISA and AMEX cre...</td></tr>\n",
       "<tr><td>etc. and I feel t...</td></tr>\n",
       "<tr><td>183xx</td></tr>\n",
       "<tr><td>AZ</td></tr>\n",
       "<tr><td>017xx</td></tr>\n",
       "<tr><td>923xx</td></tr>\n",
       "<tr><td>446xx</td></tr>\n",
       "<tr><td>who is a financia...</td></tr>\n",
       "<tr><td>and all of that c...</td></tr>\n",
       "<tr><td>LA</td></tr>\n",
       "<tr><td>24.66</td></tr>\n",
       "<tr><td>and the removal o...</td></tr>\n",
       "<tr><td>I would like to c...</td></tr>\n",
       "<tr><td>12.24</td></tr>\n",
       "<tr><td>22.0</td></tr>\n",
       "<tr><td>so most of my inc...</td></tr>\n",
       "<tr><td>I would like to p...</td></tr>\n",
       "</table>\n",
       "only showing top 20 rows\n"
      ],
      "text/plain": [
       "+--------------------+\n",
       "|         delinq_2yrs|\n",
       "+--------------------+\n",
       "|                 1.0|\n",
       "|I bike to work on...|\n",
       "|271 monthly payme...|\n",
       "|VISA and AMEX cre...|\n",
       "|etc. and I feel t...|\n",
       "|               183xx|\n",
       "|                  AZ|\n",
       "|               017xx|\n",
       "|               923xx|\n",
       "|               446xx|\n",
       "|who is a financia...|\n",
       "|and all of that c...|\n",
       "|                  LA|\n",
       "|               24.66|\n",
       "|and the removal o...|\n",
       "|I would like to c...|\n",
       "|               12.24|\n",
       "|                22.0|\n",
       "|so most of my inc...|\n",
       "|I would like to p...|\n",
       "+--------------------+\n",
       "only showing top 20 rows"
      ]
     },
     "execution_count": 8,
     "metadata": {},
     "output_type": "execute_result"
    }
   ],
   "source": [
    "spark.sql(\"select distinct(delinq_2yrs) from loan_defaulters\")"
   ]
  },
  {
   "cell_type": "code",
   "execution_count": 9,
   "id": "dc18af86",
   "metadata": {},
   "outputs": [
    {
     "name": "stdout",
     "output_type": "stream",
     "text": [
      "+------------------+-------+\n",
      "|       delinq_2yrs|  total|\n",
      "+------------------+-------+\n",
      "|               0.0|1838878|\n",
      "|               1.0| 281335|\n",
      "|               2.0|  81285|\n",
      "|               3.0|  29539|\n",
      "|               4.0|  13179|\n",
      "|               5.0|   6599|\n",
      "|               6.0|   3717|\n",
      "|               7.0|   2062|\n",
      "|               8.0|   1223|\n",
      "|               9.0|    818|\n",
      "|              10.0|    556|\n",
      "|              11.0|    363|\n",
      "|              12.0|    264|\n",
      "|              13.0|    165|\n",
      "|              14.0|    120|\n",
      "|              15.0|     87|\n",
      "|              null|     63|\n",
      "|              16.0|     55|\n",
      "|              18.0|     30|\n",
      "|              17.0|     30|\n",
      "|              19.0|     23|\n",
      "|              20.0|     17|\n",
      "|              21.0|     12|\n",
      "|                CA|      8|\n",
      "|                TX|      6|\n",
      "|    small_business|      5|\n",
      "|                IL|      5|\n",
      "|debt_consolidation|      5|\n",
      "|              22.0|      5|\n",
      "|                FL|      4|\n",
      "|              24.0|      4|\n",
      "|              26.0|      3|\n",
      "|             452xx|      3|\n",
      "|                NJ|      3|\n",
      "|                NY|      3|\n",
      "|             other|      2|\n",
      "|              23.0|      2|\n",
      "|              30.0|      2|\n",
      "|       credit_card|      2|\n",
      "|              3.44|      2|\n",
      "+------------------+-------+\n",
      "only showing top 40 rows\n",
      "\n"
     ]
    }
   ],
   "source": [
    "spark.sql(\"select delinq_2yrs, count(*) as total from loan_defaulters group by delinq_2yrs order by total desc\").show(40)"
   ]
  },
  {
   "cell_type": "code",
   "execution_count": null,
   "id": "a14f7de9",
   "metadata": {},
   "outputs": [],
   "source": []
  },
  {
   "cell_type": "code",
   "execution_count": null,
   "id": "da269a48",
   "metadata": {},
   "outputs": [],
   "source": []
  },
  {
   "cell_type": "code",
   "execution_count": null,
   "id": "1d490588",
   "metadata": {},
   "outputs": [],
   "source": []
  },
  {
   "cell_type": "code",
   "execution_count": null,
   "id": "2641b2c3",
   "metadata": {},
   "outputs": [],
   "source": []
  },
  {
   "cell_type": "code",
   "execution_count": null,
   "id": "a91cf9c8",
   "metadata": {},
   "outputs": [],
   "source": []
  },
  {
   "cell_type": "code",
   "execution_count": null,
   "id": "b0254fa9",
   "metadata": {},
   "outputs": [],
   "source": []
  },
  {
   "cell_type": "code",
   "execution_count": null,
   "id": "f8036f46",
   "metadata": {},
   "outputs": [],
   "source": []
  },
  {
   "cell_type": "code",
   "execution_count": null,
   "id": "1e4c4468",
   "metadata": {},
   "outputs": [],
   "source": []
  },
  {
   "cell_type": "code",
   "execution_count": null,
   "id": "3bcd963c",
   "metadata": {},
   "outputs": [],
   "source": []
  },
  {
   "cell_type": "code",
   "execution_count": null,
   "id": "c4d9a199",
   "metadata": {},
   "outputs": [],
   "source": []
  },
  {
   "cell_type": "code",
   "execution_count": null,
   "id": "6e7da5f3",
   "metadata": {},
   "outputs": [],
   "source": []
  },
  {
   "cell_type": "code",
   "execution_count": null,
   "id": "e104cfb9",
   "metadata": {},
   "outputs": [],
   "source": []
  },
  {
   "cell_type": "code",
   "execution_count": null,
   "id": "0736457b",
   "metadata": {},
   "outputs": [],
   "source": []
  },
  {
   "cell_type": "markdown",
   "id": "f9821067",
   "metadata": {},
   "source": [
    "### delinq_2yrs is how many times person has defaulted the loan in last 2 yrs. It cannot be string. Upon making it float, string values will be casted to null"
   ]
  },
  {
   "cell_type": "code",
   "execution_count": 10,
   "id": "797460f0",
   "metadata": {},
   "outputs": [],
   "source": [
    "schema = \"\"\"member_id string, delinq_times_last_2yrs float, delinq_amnt float,\n",
    "public_records float, public_records_bankruptcies float, enquiry_last_6mths float,\n",
    "total_records_late_fee float, mths_since_last_delinq float, mths_since_last_public_record\n",
    "float\"\"\""
   ]
  },
  {
   "cell_type": "code",
   "execution_count": 11,
   "id": "de939387",
   "metadata": {},
   "outputs": [],
   "source": [
    "loans_defaulters_df = spark.read \\\n",
    ".format(\"csv\") \\\n",
    ".schema(schema) \\\n",
    ".option(\"header\", \"true\") \\\n",
    ".load(\"lending_club_project/raw_data/loan_defaulters_csv\")"
   ]
  },
  {
   "cell_type": "code",
   "execution_count": 12,
   "id": "c33c0f9c",
   "metadata": {},
   "outputs": [
    {
     "name": "stdout",
     "output_type": "stream",
     "text": [
      "root\n",
      " |-- member_id: string (nullable = true)\n",
      " |-- delinq_times_last_2yrs: float (nullable = true)\n",
      " |-- delinq_amnt: float (nullable = true)\n",
      " |-- public_records: float (nullable = true)\n",
      " |-- public_records_bankruptcies: float (nullable = true)\n",
      " |-- enquiry_last_6mths: float (nullable = true)\n",
      " |-- total_records_late_fee: float (nullable = true)\n",
      " |-- mths_since_last_delinq: float (nullable = true)\n",
      " |-- mths_since_last_public_record: float (nullable = true)\n",
      "\n"
     ]
    }
   ],
   "source": [
    "loans_defaulters_df.printSchema()"
   ]
  },
  {
   "cell_type": "code",
   "execution_count": 15,
   "id": "b2d7b8b3",
   "metadata": {},
   "outputs": [],
   "source": [
    "loans_defaulters_df.createOrReplaceTempView(\"loan_defaulters\")"
   ]
  },
  {
   "cell_type": "code",
   "execution_count": 16,
   "id": "0c3c4ad8",
   "metadata": {},
   "outputs": [
    {
     "name": "stdout",
     "output_type": "stream",
     "text": [
      "+----------------------+-------+\n",
      "|delinq_times_last_2yrs|  total|\n",
      "+----------------------+-------+\n",
      "|                   0.0|1838878|\n",
      "|                   1.0| 281335|\n",
      "|                   2.0|  81285|\n",
      "|                   3.0|  29539|\n",
      "|                   4.0|  13179|\n",
      "|                   5.0|   6599|\n",
      "|                   6.0|   3717|\n",
      "|                   7.0|   2062|\n",
      "|                   8.0|   1223|\n",
      "|                   9.0|    818|\n",
      "|                  10.0|    556|\n",
      "|                  11.0|    363|\n",
      "|                  12.0|    264|\n",
      "|                  null|    261|\n",
      "|                  13.0|    165|\n",
      "|                  14.0|    120|\n",
      "|                  15.0|     87|\n",
      "|                  16.0|     55|\n",
      "|                  18.0|     30|\n",
      "|                  17.0|     30|\n",
      "|                  19.0|     23|\n",
      "|                  20.0|     17|\n",
      "|                  21.0|     12|\n",
      "|                  22.0|      5|\n",
      "|                  24.0|      4|\n",
      "|                  26.0|      3|\n",
      "|                  29.0|      2|\n",
      "|                  23.0|      2|\n",
      "|                  25.0|      2|\n",
      "|                  30.0|      2|\n",
      "|                  3.44|      2|\n",
      "|                  27.0|      1|\n",
      "|                  1.37|      1|\n",
      "|                 21.72|      1|\n",
      "|                 13.76|      1|\n",
      "|                  9.44|      1|\n",
      "|                  5.52|      1|\n",
      "|                  3.45|      1|\n",
      "|                 22.62|      1|\n",
      "|                  14.1|      1|\n",
      "+----------------------+-------+\n",
      "only showing top 40 rows\n",
      "\n"
     ]
    }
   ],
   "source": [
    "spark.sql(\"select delinq_times_last_2yrs, count(*) as total from loan_defaulters group by delinq_times_last_2yrs order by total desc\").show(40)"
   ]
  },
  {
   "cell_type": "code",
   "execution_count": null,
   "id": "ccfce8d2",
   "metadata": {},
   "outputs": [],
   "source": []
  },
  {
   "cell_type": "code",
   "execution_count": null,
   "id": "7996bf91",
   "metadata": {},
   "outputs": [],
   "source": []
  },
  {
   "cell_type": "code",
   "execution_count": null,
   "id": "1615e8f9",
   "metadata": {},
   "outputs": [],
   "source": []
  },
  {
   "cell_type": "markdown",
   "id": "9fd20870",
   "metadata": {},
   "source": [
    "### delinq_2yrs should be integer + convert nulls to 0"
   ]
  },
  {
   "cell_type": "code",
   "execution_count": 18,
   "id": "79d39c35",
   "metadata": {},
   "outputs": [],
   "source": [
    "from pyspark.sql.functions import *"
   ]
  },
  {
   "cell_type": "code",
   "execution_count": 19,
   "id": "9c9a2cdc",
   "metadata": {},
   "outputs": [],
   "source": [
    "loans_defaulters_delinq_cleaned = loans_defaulters_df.withColumn(\"delinq_times_last_2yrs\", col(\"delinq_times_last_2yrs\").cast(\"integer\")).fillna(0, subset = [\"delinq_times_last_2yrs\"])"
   ]
  },
  {
   "cell_type": "code",
   "execution_count": 20,
   "id": "fcaf658e",
   "metadata": {},
   "outputs": [],
   "source": [
    "loans_defaulters_delinq_cleaned.createOrReplaceTempView(\"loans_def\")"
   ]
  },
  {
   "cell_type": "code",
   "execution_count": 21,
   "id": "8272e65e",
   "metadata": {},
   "outputs": [
    {
     "data": {
      "text/html": [
       "<table border='1'>\n",
       "<tr><th>count(1)</th></tr>\n",
       "<tr><td>0</td></tr>\n",
       "</table>\n"
      ],
      "text/plain": [
       "+--------+\n",
       "|count(1)|\n",
       "+--------+\n",
       "|       0|\n",
       "+--------+"
      ]
     },
     "execution_count": 21,
     "metadata": {},
     "output_type": "execute_result"
    }
   ],
   "source": [
    "spark.sql(\"select count(*) FROM loans_def WHERE delinq_times_last_2yrs is null\")"
   ]
  },
  {
   "cell_type": "code",
   "execution_count": 22,
   "id": "afffa17a",
   "metadata": {},
   "outputs": [
    {
     "name": "stdout",
     "output_type": "stream",
     "text": [
      "+----------------------+-------+\n",
      "|delinq_times_last_2yrs|  total|\n",
      "+----------------------+-------+\n",
      "|                     0|1839141|\n",
      "|                     1| 281337|\n",
      "|                     2|  81285|\n",
      "|                     3|  29545|\n",
      "|                     4|  13180|\n",
      "|                     5|   6601|\n",
      "|                     6|   3719|\n",
      "|                     7|   2063|\n",
      "|                     8|   1226|\n",
      "|                     9|    821|\n",
      "|                    10|    558|\n",
      "|                    11|    363|\n",
      "|                    12|    266|\n",
      "|                    13|    167|\n",
      "|                    14|    123|\n",
      "|                    15|     90|\n",
      "|                    16|     56|\n",
      "|                    17|     33|\n",
      "|                    18|     32|\n",
      "|                    19|     24|\n",
      "|                    20|     19|\n",
      "|                    21|     16|\n",
      "|                    22|      7|\n",
      "|                    24|      6|\n",
      "|                    23|      5|\n",
      "|                    26|      4|\n",
      "|                    29|      2|\n",
      "|                    25|      2|\n",
      "|                    30|      2|\n",
      "|                    28|      1|\n",
      "|                    27|      1|\n",
      "|                    32|      1|\n",
      "|                    35|      1|\n",
      "|                    39|      1|\n",
      "|                    58|      1|\n",
      "|                    42|      1|\n",
      "|                    36|      1|\n",
      "+----------------------+-------+\n",
      "\n"
     ]
    }
   ],
   "source": [
    "spark.sql(\"select delinq_times_last_2yrs, count(*) as total from loans_def group by delinq_times_last_2yrs order by total desc\").show(40)"
   ]
  },
  {
   "cell_type": "markdown",
   "id": "1255b45c",
   "metadata": {},
   "source": [
    "### Making a seperate table for storing delinq (defaulters) information. Table will have only people who have defaulted earlier"
   ]
  },
  {
   "cell_type": "code",
   "execution_count": 23,
   "id": "640cc9f8",
   "metadata": {},
   "outputs": [],
   "source": [
    "loans_defaulters_delinq = spark.sql(\"SELECT member_id, delinq_times_last_2yrs, delinq_amnt, int(mths_since_last_delinq) FROM loans_def WHERE mths_since_last_delinq > 0 or delinq_times_last_2yrs > 0\")"
   ]
  },
  {
   "cell_type": "code",
   "execution_count": 24,
   "id": "c4aa458a",
   "metadata": {},
   "outputs": [
    {
     "name": "stdout",
     "output_type": "stream",
     "text": [
      "+--------------------+----------------------+-----------+----------------------+\n",
      "|           member_id|delinq_times_last_2yrs|delinq_amnt|mths_since_last_delinq|\n",
      "+--------------------+----------------------+-----------+----------------------+\n",
      "|9f0145c753ad6b157...|                     0|        0.0|                    33|\n",
      "|eca8525ceb6912b95...|                     0|        0.0|                    77|\n",
      "|004d932e272711fc3...|                     0|        0.0|                    80|\n",
      "|3c90fb90165b043bc...|                     0|        0.0|                    50|\n",
      "|b16807389deb10499...|                     0|        0.0|                    38|\n",
      "|d1a222d79b8ef6344...|                     0|       null|                   755|\n",
      "|b89659eabd6a0e437...|                     0|        0.0|                    45|\n",
      "|0491632a6b1ff27b4...|                    18|        0.0|                     0|\n",
      "|c926cdfbd9366199f...|                     0|        0.0|                    44|\n",
      "|bc447e99e706ff96a...|                     1|        0.0|                     2|\n",
      "|0ed056fbb6ec0bd3f...|                     1|        0.0|                    19|\n",
      "|51d251c80e8fb6d49...|                     0|        0.0|                    51|\n",
      "|300854b2b55e1b7f6...|                     1|        0.0|                    18|\n",
      "|37e39d0535803225a...|                     0|        0.0|                    52|\n",
      "|a18a0dff342fbb5d4...|                     0|        0.0|                    34|\n",
      "|22b0663da3c8a7afc...|                     0|        0.0|                    26|\n",
      "|3a5c1a8dc8d0f4bf2...|                     1|        0.0|                    10|\n",
      "|a651e7b446f3cd40f...|                     0|        0.0|                    36|\n",
      "|8c0fa077b377e1155...|                     1|        0.0|                    18|\n",
      "|dd4897c232306dec2...|                     1|        0.0|                    20|\n",
      "+--------------------+----------------------+-----------+----------------------+\n",
      "only showing top 20 rows\n",
      "\n"
     ]
    }
   ],
   "source": [
    "loans_defaulters_delinq.show()"
   ]
  },
  {
   "cell_type": "code",
   "execution_count": 25,
   "id": "9c37722a",
   "metadata": {},
   "outputs": [
    {
     "data": {
      "text/plain": [
       "1106163"
      ]
     },
     "execution_count": 25,
     "metadata": {},
     "output_type": "execute_result"
    }
   ],
   "source": [
    "loans_defaulters_delinq.count()"
   ]
  },
  {
   "cell_type": "markdown",
   "id": "57cdf715",
   "metadata": {},
   "source": [
    "### Getting member_id of people who have any public record or bankruptcies or enquiry in last 6 months"
   ]
  },
  {
   "cell_type": "code",
   "execution_count": 26,
   "id": "e7f8b1fe",
   "metadata": {},
   "outputs": [],
   "source": [
    "loans_def_records_df = spark.sql(\"SELECT member_id FROM loans_def WHERE public_records>0.0 or public_records_bankruptcies> 0.0 or enquiry_last_6mths > 0.0\")"
   ]
  },
  {
   "cell_type": "code",
   "execution_count": 27,
   "id": "01acbcc7",
   "metadata": {},
   "outputs": [
    {
     "data": {
      "text/html": [
       "<table border='1'>\n",
       "<tr><th>member_id</th></tr>\n",
       "<tr><td>743530141063dc33d...</td></tr>\n",
       "<tr><td>2ac41c2d9f4966188...</td></tr>\n",
       "<tr><td>0f12ba052807101e7...</td></tr>\n",
       "<tr><td>eca8525ceb6912b95...</td></tr>\n",
       "<tr><td>b44aca52f973c7090...</td></tr>\n",
       "<tr><td>d832fb44028eeb73d...</td></tr>\n",
       "<tr><td>004d932e272711fc3...</td></tr>\n",
       "<tr><td>b16807389deb10499...</td></tr>\n",
       "<tr><td>d1a222d79b8ef6344...</td></tr>\n",
       "<tr><td>1b6414f12deb57148...</td></tr>\n",
       "<tr><td>696c7da7816bbd620...</td></tr>\n",
       "<tr><td>1f4e8c1b460915297...</td></tr>\n",
       "<tr><td>b89659eabd6a0e437...</td></tr>\n",
       "<tr><td>468a9e8ff2c4c6d73...</td></tr>\n",
       "<tr><td>dca45c7a4221fa1c2...</td></tr>\n",
       "<tr><td>845196af35157276b...</td></tr>\n",
       "<tr><td>0491632a6b1ff27b4...</td></tr>\n",
       "<tr><td>8fd637c93e8b5f374...</td></tr>\n",
       "<tr><td>843fef4c638950179...</td></tr>\n",
       "<tr><td>c926cdfbd9366199f...</td></tr>\n",
       "</table>\n",
       "only showing top 20 rows\n"
      ],
      "text/plain": [
       "+--------------------+\n",
       "|           member_id|\n",
       "+--------------------+\n",
       "|743530141063dc33d...|\n",
       "|2ac41c2d9f4966188...|\n",
       "|0f12ba052807101e7...|\n",
       "|eca8525ceb6912b95...|\n",
       "|b44aca52f973c7090...|\n",
       "|d832fb44028eeb73d...|\n",
       "|004d932e272711fc3...|\n",
       "|b16807389deb10499...|\n",
       "|d1a222d79b8ef6344...|\n",
       "|1b6414f12deb57148...|\n",
       "|696c7da7816bbd620...|\n",
       "|1f4e8c1b460915297...|\n",
       "|b89659eabd6a0e437...|\n",
       "|468a9e8ff2c4c6d73...|\n",
       "|dca45c7a4221fa1c2...|\n",
       "|845196af35157276b...|\n",
       "|0491632a6b1ff27b4...|\n",
       "|8fd637c93e8b5f374...|\n",
       "|843fef4c638950179...|\n",
       "|c926cdfbd9366199f...|\n",
       "+--------------------+\n",
       "only showing top 20 rows"
      ]
     },
     "execution_count": 27,
     "metadata": {},
     "output_type": "execute_result"
    }
   ],
   "source": [
    "loans_def_records_df"
   ]
  },
  {
   "cell_type": "markdown",
   "id": "6c90ca7e",
   "metadata": {},
   "source": [
    "### Write these two tables back (delinq_info and public_records member_ids)"
   ]
  },
  {
   "cell_type": "code",
   "execution_count": 28,
   "id": "c11476b8",
   "metadata": {},
   "outputs": [],
   "source": [
    "loans_defaulters_delinq.write \\\n",
    ".format(\"csv\") \\\n",
    ".option(\"header\", \"true\") \\\n",
    ".mode(\"overwrite\") \\\n",
    ".option(\"path\", \"lending_club_project/cleaned_data/loan_defaulters_delinq_csv\") \\\n",
    ".save()"
   ]
  },
  {
   "cell_type": "code",
   "execution_count": 29,
   "id": "d0cff4b6",
   "metadata": {},
   "outputs": [],
   "source": [
    "loans_defaulters_delinq.write \\\n",
    ".format(\"parquet\") \\\n",
    ".mode(\"overwrite\") \\\n",
    ".option(\"path\", \"lending_club_project/cleaned_data/loan_defaulters_delinq_parquet\") \\\n",
    ".save()"
   ]
  },
  {
   "cell_type": "code",
   "execution_count": 33,
   "id": "62925002",
   "metadata": {},
   "outputs": [],
   "source": [
    "loans_def_records_df.write \\\n",
    ".format(\"csv\") \\\n",
    ".option(\"header\", \"true\") \\\n",
    ".mode(\"overwrite\") \\\n",
    ".option(\"path\", \"lending_club_project/cleaned_data/loan_defaulters_records_enq_csv\") \\\n",
    ".save()"
   ]
  },
  {
   "cell_type": "code",
   "execution_count": null,
   "id": "49ca5c72",
   "metadata": {},
   "outputs": [],
   "source": [
    "loans_def_records_df.write \\\n",
    ".format(\"parquet\") \\\n",
    ".mode(\"overwrite\") \\\n",
    ".option(\"path\", \"lending_club_project/cleaned_data/loan_defaulters_records_enq_parquet\") \\\n",
    ".save()"
   ]
  },
  {
   "cell_type": "markdown",
   "id": "6f05ca83",
   "metadata": {},
   "source": [
    "### Now we got the requirement that for loan_defaulters_records_enq_csv table, we not only need member_id but also 3 columns with that.\n",
    "1. member_id\n",
    "2. public_records\n",
    "3. public_records_bankruptcies\n",
    "4. enquiry_last_6mths\n",
    "\n",
    "#### We didn't clean these 3 columns. Let's clean them\n",
    "#### Just casting these columns to integer and casting all the nulls to 0"
   ]
  },
  {
   "cell_type": "code",
   "execution_count": 13,
   "id": "e7bb1ee9",
   "metadata": {},
   "outputs": [],
   "source": [
    "loans_defaulters_pub_rec_cleaned = loans_defaulters_delinq_cleaned.withColumn(\"public_records\", col(\"public_records\").cast(\"integer\")).fillna(0, subset = [\"public_records\"])"
   ]
  },
  {
   "cell_type": "code",
   "execution_count": 14,
   "id": "3758bbf3",
   "metadata": {},
   "outputs": [],
   "source": [
    "loans_defaulters_pub_rec_bankrupt_cleaned = loans_defaulters_pub_rec_cleaned.withColumn(\"public_records_bankruptcies\", col(\"public_records_bankruptcies\").cast(\"integer\")).fillna(0, subset = [\"public_records_bankruptcies\"])"
   ]
  },
  {
   "cell_type": "code",
   "execution_count": 15,
   "id": "08f18ef2",
   "metadata": {},
   "outputs": [],
   "source": [
    "loans_defaulters_enq_cleaned = loans_defaulters_pub_rec_bankrupt_cleaned.withColumn(\"enquiry_last_6mths\", col(\"enquiry_last_6mths\").cast(\"integer\")).fillna(0, subset = [\"enquiry_last_6mths\"])"
   ]
  },
  {
   "cell_type": "markdown",
   "id": "ffc1421f",
   "metadata": {},
   "source": [
    "### Make a table which has member_id, public_records, public_records_bankruptcies, enquiry_last_6mths\n",
    "This table can contain members who have all these 0 as well"
   ]
  },
  {
   "cell_type": "code",
   "execution_count": 16,
   "id": "0dabed8f",
   "metadata": {},
   "outputs": [],
   "source": [
    "loans_defaulters_enq_cleaned.createOrReplaceTempView(\"loan_defaulters_detail_records_enq_csv\")"
   ]
  },
  {
   "cell_type": "code",
   "execution_count": 18,
   "id": "ce4d069e",
   "metadata": {},
   "outputs": [],
   "source": [
    "loan_defaulters_detail_records_enq_csv = spark.sql(\"SELECT member_id, public_records, public_records_bankruptcies, enquiry_last_6mths FROM loan_defaulters_detail_records_enq_csv\")"
   ]
  },
  {
   "cell_type": "code",
   "execution_count": 19,
   "id": "e63648c5",
   "metadata": {},
   "outputs": [
    {
     "name": "stdout",
     "output_type": "stream",
     "text": [
      "+--------------------+--------------+---------------------------+------------------+\n",
      "|           member_id|public_records|public_records_bankruptcies|enquiry_last_6mths|\n",
      "+--------------------+--------------+---------------------------+------------------+\n",
      "|743530141063dc33d...|             0|                          0|                 2|\n",
      "|2ac41c2d9f4966188...|             0|                          0|                 1|\n",
      "|9f0145c753ad6b157...|             0|                          0|                 0|\n",
      "|f180e481ba7755b25...|             0|                          0|                 0|\n",
      "|0f12ba052807101e7...|             0|                          0|                 2|\n",
      "|69e61c82e93037ace...|             0|                          0|                 0|\n",
      "|f72dbbdb8851007aa...|             0|                          0|                 0|\n",
      "|eca8525ceb6912b95...|             0|                          0|                 1|\n",
      "|508dfaa28e2bbb74d...|             0|                          0|                 0|\n",
      "|b44aca52f973c7090...|             0|                          0|                 1|\n",
      "|d832fb44028eeb73d...|             0|                          0|                 1|\n",
      "|004d932e272711fc3...|             0|                          0|                 1|\n",
      "|92babb19dfc831b1a...|             0|                          0|                 0|\n",
      "|3c90fb90165b043bc...|             0|                          0|                 0|\n",
      "|b16807389deb10499...|             0|                          0|                 1|\n",
      "|d1a222d79b8ef6344...|            54|                          0|                 0|\n",
      "|1b6414f12deb57148...|             0|                          0|                 2|\n",
      "|696c7da7816bbd620...|             0|                          0|                 3|\n",
      "|1f4e8c1b460915297...|             0|                          0|                 3|\n",
      "|b89659eabd6a0e437...|             0|                          0|                 1|\n",
      "+--------------------+--------------+---------------------------+------------------+\n",
      "only showing top 20 rows\n",
      "\n"
     ]
    }
   ],
   "source": [
    "loan_defaulters_detail_records_enq_csv.show()"
   ]
  },
  {
   "cell_type": "markdown",
   "id": "5f805c05",
   "metadata": {},
   "source": [
    "### Write this table back"
   ]
  },
  {
   "cell_type": "code",
   "execution_count": 20,
   "id": "a61d32c9",
   "metadata": {},
   "outputs": [],
   "source": [
    "loan_defaulters_detail_records_enq_csv.write \\\n",
    ".format(\"csv\") \\\n",
    ".option(\"header\", \"true\") \\\n",
    ".mode(\"overwrite\") \\\n",
    ".option(\"path\", \"lending_club_project/cleaned_data/loan_defaulters_detail_records_enq_csv\") \\\n",
    ".save()"
   ]
  },
  {
   "cell_type": "code",
   "execution_count": 21,
   "id": "d5ecf887",
   "metadata": {},
   "outputs": [],
   "source": [
    "loan_defaulters_detail_records_enq_csv.write \\\n",
    ".format(\"parquet\") \\\n",
    ".mode(\"overwrite\") \\\n",
    ".option(\"path\", \"lending_club_project/cleaned_data/loan_defaulters_detail_records_enq_parquet\") \\\n",
    ".save()"
   ]
  },
  {
   "cell_type": "code",
   "execution_count": null,
   "id": "cd95931d",
   "metadata": {},
   "outputs": [],
   "source": []
  }
 ],
 "metadata": {
  "kernelspec": {
   "display_name": "Pyspark 3",
   "language": "python",
   "name": "pyspark3"
  },
  "language_info": {
   "codemirror_mode": {
    "name": "ipython",
    "version": 3
   },
   "file_extension": ".py",
   "mimetype": "text/x-python",
   "name": "python",
   "nbconvert_exporter": "python",
   "pygments_lexer": "ipython3",
   "version": "3.6.12"
  }
 },
 "nbformat": 4,
 "nbformat_minor": 5
}
