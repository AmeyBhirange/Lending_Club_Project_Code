{
 "cells": [
  {
   "cell_type": "code",
   "execution_count": 1,
   "id": "69948ad4",
   "metadata": {},
   "outputs": [],
   "source": [
    "from pyspark.sql import SparkSession\n",
    "import getpass\n",
    "username = getpass.getuser()\n",
    "spark = SparkSession. \\\n",
    "builder. \\\n",
    "config(\"spark.sql.warehouse.dir\", f\"/user/itv010698/warehouse\"). \\\n",
    "enableHiveSupport(). \\\n",
    "master('yarn'). \\\n",
    "getOrCreate()"
   ]
  },
  {
   "cell_type": "code",
   "execution_count": 2,
   "id": "7617e0e5",
   "metadata": {},
   "outputs": [],
   "source": [
    "loans_raw_df = spark.read \\\n",
    ".format(\"csv\") \\\n",
    ".option(\"inferSchema\", \"true\") \\\n",
    ".option(\"header\", \"true\") \\\n",
    ".load(\"lending_club_project/raw_data/loans_data_csv\")"
   ]
  },
  {
   "cell_type": "code",
   "execution_count": 3,
   "id": "9b9e596b",
   "metadata": {},
   "outputs": [
    {
     "data": {
      "text/html": [
       "<table border='1'>\n",
       "<tr><th>loan_id</th><th>member_id</th><th>loan_amnt</th><th>funded_amnt</th><th>term</th><th>int_rate</th><th>installment</th><th>issue_d</th><th>Loan_status</th><th>purpose</th><th>title</th></tr>\n",
       "<tr><td>109653473</td><td>bd7db5222de2a6ce4...</td><td>25475.0</td><td>25475.0</td><td>36 months</td><td>14.08</td><td>871.67</td><td>May-2017</td><td>Late (31-120 days)</td><td>debt_consolidation</td><td>Debt consolidation</td></tr>\n",
       "<tr><td>109677516</td><td>c0428bbd04ba8ba06...</td><td>14400.0</td><td>14400.0</td><td>36 months</td><td>12.62</td><td>482.57</td><td>May-2017</td><td>Current</td><td>debt_consolidation</td><td>Debt consolidation</td></tr>\n",
       "<tr><td>109910042</td><td>028e91969c534dca2...</td><td>4000.0</td><td>4000.0</td><td>36 months</td><td>7.07</td><td>123.64</td><td>May-2017</td><td>Fully Paid</td><td>credit_card</td><td>Credit card refin...</td></tr>\n",
       "<tr><td>109767343</td><td>fbab3a4ab0e73d30f...</td><td>30000.0</td><td>30000.0</td><td>36 months</td><td>17.09</td><td>1070.93</td><td>May-2017</td><td>Current</td><td>other</td><td>Other</td></tr>\n",
       "<tr><td>109858215</td><td>342558ad61cfea940...</td><td>11500.0</td><td>11500.0</td><td>36 months</td><td>15.05</td><td>398.94</td><td>May-2017</td><td>Current</td><td>other</td><td>Other</td></tr>\n",
       "<tr><td>109740125</td><td>372109bc6ae1c2d16...</td><td>25100.0</td><td>25100.0</td><td>60 months</td><td>16.02</td><td>610.65</td><td>May-2017</td><td>Fully Paid</td><td>home_improvement</td><td>Home improvement</td></tr>\n",
       "<tr><td>108257437</td><td>54e9694e0b82951ee...</td><td>4800.0</td><td>4800.0</td><td>36 months</td><td>7.21</td><td>148.68</td><td>May-2017</td><td>Fully Paid</td><td>credit_card</td><td>Credit card refin...</td></tr>\n",
       "<tr><td>109898089</td><td>1802301a402b207ca...</td><td>11925.0</td><td>11925.0</td><td>60 months</td><td>17.09</td><td>296.95</td><td>May-2017</td><td>Current</td><td>debt_consolidation</td><td>Debt consolidation</td></tr>\n",
       "<tr><td>109253226</td><td>ec80b7f0e7bc69119...</td><td>15000.0</td><td>15000.0</td><td>60 months</td><td>15.05</td><td>357.25</td><td>May-2017</td><td>Current</td><td>debt_consolidation</td><td>Debt consolidation</td></tr>\n",
       "<tr><td>109848461</td><td>f3ee70b6e652c7c27...</td><td>6400.0</td><td>6400.0</td><td>36 months</td><td>10.42</td><td>207.78</td><td>May-2017</td><td>Fully Paid</td><td>debt_consolidation</td><td>Debt consolidation</td></tr>\n",
       "<tr><td>109878764</td><td>9f798add39ea9b300...</td><td>20000.0</td><td>20000.0</td><td>60 months</td><td>15.05</td><td>476.33</td><td>May-2017</td><td>Current</td><td>debt_consolidation</td><td>Debt consolidation</td></tr>\n",
       "<tr><td>109994354</td><td>1d0625d97bbc7d556...</td><td>10000.0</td><td>10000.0</td><td>36 months</td><td>7.07</td><td>309.1</td><td>May-2017</td><td>Current</td><td>debt_consolidation</td><td>Debt consolidation</td></tr>\n",
       "<tr><td>109759397</td><td>4eacfff0633b5da4a...</td><td>16800.0</td><td>16800.0</td><td>60 months</td><td>21.45</td><td>458.76</td><td>May-2017</td><td>Charged Off</td><td>debt_consolidation</td><td>Debt consolidation</td></tr>\n",
       "<tr><td>109977107</td><td>6b397d9aaa9fae080...</td><td>25575.0</td><td>25575.0</td><td>36 months</td><td>24.85</td><td>1014.83</td><td>May-2017</td><td>Charged Off</td><td>debt_consolidation</td><td>Debt consolidation</td></tr>\n",
       "<tr><td>109880094</td><td>49e71866b5c1479d0...</td><td>4000.0</td><td>4000.0</td><td>36 months</td><td>7.07</td><td>123.64</td><td>May-2017</td><td>Fully Paid</td><td>credit_card</td><td>Credit card refin...</td></tr>\n",
       "<tr><td>109062494</td><td>76a7a132561220574...</td><td>40000.0</td><td>40000.0</td><td>36 months</td><td>9.44</td><td>1280.2</td><td>May-2017</td><td>Charged Off</td><td>debt_consolidation</td><td>Debt consolidation</td></tr>\n",
       "<tr><td>109707717</td><td>56a738f8ecc1c0c7e...</td><td>8000.0</td><td>8000.0</td><td>36 months</td><td>11.99</td><td>265.68</td><td>May-2017</td><td>Current</td><td>credit_card</td><td>Credit card refin...</td></tr>\n",
       "<tr><td>109827365</td><td>6812612dcccd70132...</td><td>14975.0</td><td>14975.0</td><td>36 months</td><td>19.03</td><td>549.16</td><td>May-2017</td><td>Current</td><td>debt_consolidation</td><td>Debt consolidation</td></tr>\n",
       "<tr><td>109320555</td><td>a9d2601420ec15fa0...</td><td>15000.0</td><td>15000.0</td><td>36 months</td><td>9.93</td><td>483.52</td><td>May-2017</td><td>Current</td><td>debt_consolidation</td><td>Debt consolidation</td></tr>\n",
       "<tr><td>58460868</td><td>982ec5ad10995ace9...</td><td>4000.0</td><td>4000.0</td><td>36 months</td><td>16.02</td><td>140.67</td><td>May-2017</td><td>Current</td><td>debt_consolidation</td><td>Debt consolidation</td></tr>\n",
       "</table>\n",
       "only showing top 20 rows\n"
      ],
      "text/plain": [
       "+---------+--------------------+---------+-----------+---------+--------+-----------+--------+------------------+------------------+--------------------+\n",
       "|  loan_id|           member_id|loan_amnt|funded_amnt|     term|int_rate|installment| issue_d|       Loan_status|           purpose|               title|\n",
       "+---------+--------------------+---------+-----------+---------+--------+-----------+--------+------------------+------------------+--------------------+\n",
       "|109653473|bd7db5222de2a6ce4...|  25475.0|    25475.0|36 months|   14.08|     871.67|May-2017|Late (31-120 days)|debt_consolidation|  Debt consolidation|\n",
       "|109677516|c0428bbd04ba8ba06...|  14400.0|    14400.0|36 months|   12.62|     482.57|May-2017|           Current|debt_consolidation|  Debt consolidation|\n",
       "|109910042|028e91969c534dca2...|   4000.0|     4000.0|36 months|    7.07|     123.64|May-2017|        Fully Paid|       credit_card|Credit card refin...|\n",
       "|109767343|fbab3a4ab0e73d30f...|  30000.0|    30000.0|36 months|   17.09|    1070.93|May-2017|           Current|             other|               Other|\n",
       "|109858215|342558ad61cfea940...|  11500.0|    11500.0|36 months|   15.05|     398.94|May-2017|           Current|             other|               Other|\n",
       "|109740125|372109bc6ae1c2d16...|  25100.0|    25100.0|60 months|   16.02|     610.65|May-2017|        Fully Paid|  home_improvement|    Home improvement|\n",
       "|108257437|54e9694e0b82951ee...|   4800.0|     4800.0|36 months|    7.21|     148.68|May-2017|        Fully Paid|       credit_card|Credit card refin...|\n",
       "|109898089|1802301a402b207ca...|  11925.0|    11925.0|60 months|   17.09|     296.95|May-2017|           Current|debt_consolidation|  Debt consolidation|\n",
       "|109253226|ec80b7f0e7bc69119...|  15000.0|    15000.0|60 months|   15.05|     357.25|May-2017|           Current|debt_consolidation|  Debt consolidation|\n",
       "|109848461|f3ee70b6e652c7c27...|   6400.0|     6400.0|36 months|   10.42|     207.78|May-2017|        Fully Paid|debt_consolidation|  Debt consolidation|\n",
       "|109878764|9f798add39ea9b300...|  20000.0|    20000.0|60 months|   15.05|     476.33|May-2017|           Current|debt_consolidation|  Debt consolidation|\n",
       "|109994354|1d0625d97bbc7d556...|  10000.0|    10000.0|36 months|    7.07|      309.1|May-2017|           Current|debt_consolidation|  Debt consolidation|\n",
       "|109759397|4eacfff0633b5da4a...|  16800.0|    16800.0|60 months|   21.45|     458.76|May-2017|       Charged Off|debt_consolidation|  Debt consolidation|\n",
       "|109977107|6b397d9aaa9fae080...|  25575.0|    25575.0|36 months|   24.85|    1014.83|May-2017|       Charged Off|debt_consolidation|  Debt consolidation|\n",
       "|109880094|49e71866b5c1479d0...|   4000.0|     4000.0|36 months|    7.07|     123.64|May-2017|        Fully Paid|       credit_card|Credit card refin...|\n",
       "|109062494|76a7a132561220574...|  40000.0|    40000.0|36 months|    9.44|     1280.2|May-2017|       Charged Off|debt_consolidation|  Debt consolidation|\n",
       "|109707717|56a738f8ecc1c0c7e...|   8000.0|     8000.0|36 months|   11.99|     265.68|May-2017|           Current|       credit_card|Credit card refin...|\n",
       "|109827365|6812612dcccd70132...|  14975.0|    14975.0|36 months|   19.03|     549.16|May-2017|           Current|debt_consolidation|  Debt consolidation|\n",
       "|109320555|a9d2601420ec15fa0...|  15000.0|    15000.0|36 months|    9.93|     483.52|May-2017|           Current|debt_consolidation|  Debt consolidation|\n",
       "| 58460868|982ec5ad10995ace9...|   4000.0|     4000.0|36 months|   16.02|     140.67|May-2017|           Current|debt_consolidation|  Debt consolidation|\n",
       "+---------+--------------------+---------+-----------+---------+--------+-----------+--------+------------------+------------------+--------------------+\n",
       "only showing top 20 rows"
      ]
     },
     "execution_count": 3,
     "metadata": {},
     "output_type": "execute_result"
    }
   ],
   "source": [
    "loans_raw_df"
   ]
  },
  {
   "cell_type": "code",
   "execution_count": 4,
   "id": "c02c0369",
   "metadata": {},
   "outputs": [
    {
     "name": "stdout",
     "output_type": "stream",
     "text": [
      "root\n",
      " |-- loan_id: string (nullable = true)\n",
      " |-- member_id: string (nullable = true)\n",
      " |-- loan_amnt: double (nullable = true)\n",
      " |-- funded_amnt: double (nullable = true)\n",
      " |-- term: string (nullable = true)\n",
      " |-- int_rate: double (nullable = true)\n",
      " |-- installment: double (nullable = true)\n",
      " |-- issue_d: string (nullable = true)\n",
      " |-- Loan_status: string (nullable = true)\n",
      " |-- purpose: string (nullable = true)\n",
      " |-- title: string (nullable = true)\n",
      "\n"
     ]
    }
   ],
   "source": [
    "loans_raw_df.printSchema()"
   ]
  },
  {
   "cell_type": "markdown",
   "id": "646d0cbe",
   "metadata": {},
   "source": [
    "### changing the schema"
   ]
  },
  {
   "cell_type": "code",
   "execution_count": 5,
   "id": "b7f2a375",
   "metadata": {},
   "outputs": [],
   "source": [
    "schema = \"loan_id string, member_id string, loan_amount float, funded_amount float, term string, interest_rate float, installment float, issue_date string, loan_status string, loan_purpose string, loan_title string\""
   ]
  },
  {
   "cell_type": "code",
   "execution_count": 6,
   "id": "f7bce75c",
   "metadata": {},
   "outputs": [],
   "source": [
    "loans_raw_df = spark.read \\\n",
    ".format(\"csv\") \\\n",
    ".schema(schema) \\\n",
    ".option(\"header\", \"true\") \\\n",
    ".load(\"lending_club_project/raw_data/loans_data_csv\")"
   ]
  },
  {
   "cell_type": "code",
   "execution_count": 7,
   "id": "301002c1",
   "metadata": {},
   "outputs": [
    {
     "name": "stdout",
     "output_type": "stream",
     "text": [
      "root\n",
      " |-- loan_id: string (nullable = true)\n",
      " |-- member_id: string (nullable = true)\n",
      " |-- loan_amount: float (nullable = true)\n",
      " |-- funded_amount: float (nullable = true)\n",
      " |-- term: string (nullable = true)\n",
      " |-- interest_rate: float (nullable = true)\n",
      " |-- installment: float (nullable = true)\n",
      " |-- issue_date: string (nullable = true)\n",
      " |-- loan_status: string (nullable = true)\n",
      " |-- loan_purpose: string (nullable = true)\n",
      " |-- loan_title: string (nullable = true)\n",
      "\n"
     ]
    }
   ],
   "source": [
    "loans_raw_df.printSchema()"
   ]
  },
  {
   "cell_type": "markdown",
   "id": "4d554184",
   "metadata": {},
   "source": [
    "### Add column ingest_date"
   ]
  },
  {
   "cell_type": "code",
   "execution_count": 8,
   "id": "5a075d39",
   "metadata": {},
   "outputs": [],
   "source": [
    "from pyspark.sql.functions import *"
   ]
  },
  {
   "cell_type": "code",
   "execution_count": 9,
   "id": "ba48ddca",
   "metadata": {},
   "outputs": [],
   "source": [
    "loans_df_ingested = loans_raw_df.withColumn(\"ingest_date\", current_timestamp())"
   ]
  },
  {
   "cell_type": "code",
   "execution_count": 10,
   "id": "188cbb18",
   "metadata": {},
   "outputs": [],
   "source": [
    "loans_df_ingested.createOrReplaceTempView(\"loans\")"
   ]
  },
  {
   "cell_type": "code",
   "execution_count": 11,
   "id": "a6e70b1b",
   "metadata": {},
   "outputs": [
    {
     "data": {
      "text/html": [
       "<table border='1'>\n",
       "<tr><th>count(1)</th></tr>\n",
       "<tr><td>2260701</td></tr>\n",
       "</table>\n"
      ],
      "text/plain": [
       "+--------+\n",
       "|count(1)|\n",
       "+--------+\n",
       "| 2260701|\n",
       "+--------+"
      ]
     },
     "execution_count": 11,
     "metadata": {},
     "output_type": "execute_result"
    }
   ],
   "source": [
    "spark.sql(\"SELECT COUNT(*) FROM loans\")"
   ]
  },
  {
   "cell_type": "markdown",
   "id": "53ede845",
   "metadata": {},
   "source": [
    "### Drop null values"
   ]
  },
  {
   "cell_type": "code",
   "execution_count": 12,
   "id": "8d33cb2a",
   "metadata": {},
   "outputs": [
    {
     "data": {
      "text/html": [
       "<table border='1'>\n",
       "<tr><th>loan_id</th><th>member_id</th><th>loan_amount</th><th>funded_amount</th><th>term</th><th>interest_rate</th><th>installment</th><th>issue_date</th><th>loan_status</th><th>loan_purpose</th><th>loan_title</th><th>ingest_date</th></tr>\n",
       "<tr><td>Total amount fund...</td><td>e3b0c44298fc1c149...</td><td>null</td><td>null</td><td>null</td><td>null</td><td>null</td><td>null</td><td>null</td><td>null</td><td>null</td><td>2024-03-20 15:11:...</td></tr>\n",
       "<tr><td>Total amount fund...</td><td>e3b0c44298fc1c149...</td><td>null</td><td>null</td><td>null</td><td>null</td><td>null</td><td>null</td><td>null</td><td>null</td><td>null</td><td>2024-03-20 15:11:...</td></tr>\n",
       "<tr><td>Total amount fund...</td><td>e3b0c44298fc1c149...</td><td>null</td><td>null</td><td>null</td><td>null</td><td>null</td><td>null</td><td>null</td><td>null</td><td>null</td><td>2024-03-20 15:11:...</td></tr>\n",
       "<tr><td>Total amount fund...</td><td>e3b0c44298fc1c149...</td><td>null</td><td>null</td><td>null</td><td>null</td><td>null</td><td>null</td><td>null</td><td>null</td><td>null</td><td>2024-03-20 15:11:...</td></tr>\n",
       "<tr><td>Total amount fund...</td><td>e3b0c44298fc1c149...</td><td>null</td><td>null</td><td>null</td><td>null</td><td>null</td><td>null</td><td>null</td><td>null</td><td>null</td><td>2024-03-20 15:11:...</td></tr>\n",
       "<tr><td>Total amount fund...</td><td>e3b0c44298fc1c149...</td><td>null</td><td>null</td><td>null</td><td>null</td><td>null</td><td>null</td><td>null</td><td>null</td><td>null</td><td>2024-03-20 15:11:...</td></tr>\n",
       "<tr><td>Loans that do not...</td><td>e3b0c44298fc1c149...</td><td>null</td><td>null</td><td>null</td><td>null</td><td>null</td><td>null</td><td>null</td><td>null</td><td>null</td><td>2024-03-20 15:11:...</td></tr>\n",
       "<tr><td>Total amount fund...</td><td>e3b0c44298fc1c149...</td><td>null</td><td>null</td><td>null</td><td>null</td><td>null</td><td>null</td><td>null</td><td>null</td><td>null</td><td>2024-03-20 15:11:...</td></tr>\n",
       "<tr><td>Total amount fund...</td><td>e3b0c44298fc1c149...</td><td>null</td><td>null</td><td>null</td><td>null</td><td>null</td><td>null</td><td>null</td><td>null</td><td>null</td><td>2024-03-20 15:11:...</td></tr>\n",
       "<tr><td>Total amount fund...</td><td>e3b0c44298fc1c149...</td><td>null</td><td>null</td><td>null</td><td>null</td><td>null</td><td>null</td><td>null</td><td>null</td><td>null</td><td>2024-03-20 15:11:...</td></tr>\n",
       "<tr><td>Total amount fund...</td><td>e3b0c44298fc1c149...</td><td>null</td><td>null</td><td>null</td><td>null</td><td>null</td><td>null</td><td>null</td><td>null</td><td>null</td><td>2024-03-20 15:11:...</td></tr>\n",
       "<tr><td>Total amount fund...</td><td>e3b0c44298fc1c149...</td><td>null</td><td>null</td><td>null</td><td>null</td><td>null</td><td>null</td><td>null</td><td>null</td><td>null</td><td>2024-03-20 15:11:...</td></tr>\n",
       "<tr><td>Total amount fund...</td><td>e3b0c44298fc1c149...</td><td>null</td><td>null</td><td>null</td><td>null</td><td>null</td><td>null</td><td>null</td><td>null</td><td>null</td><td>2024-03-20 15:11:...</td></tr>\n",
       "<tr><td>Total amount fund...</td><td>e3b0c44298fc1c149...</td><td>null</td><td>null</td><td>null</td><td>null</td><td>null</td><td>null</td><td>null</td><td>null</td><td>null</td><td>2024-03-20 15:11:...</td></tr>\n",
       "<tr><td>Total amount fund...</td><td>e3b0c44298fc1c149...</td><td>null</td><td>null</td><td>null</td><td>null</td><td>null</td><td>null</td><td>null</td><td>null</td><td>null</td><td>2024-03-20 15:11:...</td></tr>\n",
       "<tr><td>Total amount fund...</td><td>e3b0c44298fc1c149...</td><td>null</td><td>null</td><td>null</td><td>null</td><td>null</td><td>null</td><td>null</td><td>null</td><td>null</td><td>2024-03-20 15:11:...</td></tr>\n",
       "<tr><td>Total amount fund...</td><td>e3b0c44298fc1c149...</td><td>null</td><td>null</td><td>null</td><td>null</td><td>null</td><td>null</td><td>null</td><td>null</td><td>null</td><td>2024-03-20 15:11:...</td></tr>\n",
       "<tr><td>Total amount fund...</td><td>e3b0c44298fc1c149...</td><td>null</td><td>null</td><td>null</td><td>null</td><td>null</td><td>null</td><td>null</td><td>null</td><td>null</td><td>2024-03-20 15:11:...</td></tr>\n",
       "<tr><td>Total amount fund...</td><td>e3b0c44298fc1c149...</td><td>null</td><td>null</td><td>null</td><td>null</td><td>null</td><td>null</td><td>null</td><td>null</td><td>null</td><td>2024-03-20 15:11:...</td></tr>\n",
       "<tr><td>Total amount fund...</td><td>e3b0c44298fc1c149...</td><td>null</td><td>null</td><td>null</td><td>null</td><td>null</td><td>null</td><td>null</td><td>null</td><td>null</td><td>2024-03-20 15:11:...</td></tr>\n",
       "</table>\n",
       "only showing top 20 rows\n"
      ],
      "text/plain": [
       "+--------------------+--------------------+-----------+-------------+----+-------------+-----------+----------+-----------+------------+----------+--------------------+\n",
       "|             loan_id|           member_id|loan_amount|funded_amount|term|interest_rate|installment|issue_date|loan_status|loan_purpose|loan_title|         ingest_date|\n",
       "+--------------------+--------------------+-----------+-------------+----+-------------+-----------+----------+-----------+------------+----------+--------------------+\n",
       "|Total amount fund...|e3b0c44298fc1c149...|       null|         null|null|         null|       null|      null|       null|        null|      null|2024-03-20 15:11:...|\n",
       "|Total amount fund...|e3b0c44298fc1c149...|       null|         null|null|         null|       null|      null|       null|        null|      null|2024-03-20 15:11:...|\n",
       "|Total amount fund...|e3b0c44298fc1c149...|       null|         null|null|         null|       null|      null|       null|        null|      null|2024-03-20 15:11:...|\n",
       "|Total amount fund...|e3b0c44298fc1c149...|       null|         null|null|         null|       null|      null|       null|        null|      null|2024-03-20 15:11:...|\n",
       "|Total amount fund...|e3b0c44298fc1c149...|       null|         null|null|         null|       null|      null|       null|        null|      null|2024-03-20 15:11:...|\n",
       "|Total amount fund...|e3b0c44298fc1c149...|       null|         null|null|         null|       null|      null|       null|        null|      null|2024-03-20 15:11:...|\n",
       "|Loans that do not...|e3b0c44298fc1c149...|       null|         null|null|         null|       null|      null|       null|        null|      null|2024-03-20 15:11:...|\n",
       "|Total amount fund...|e3b0c44298fc1c149...|       null|         null|null|         null|       null|      null|       null|        null|      null|2024-03-20 15:11:...|\n",
       "|Total amount fund...|e3b0c44298fc1c149...|       null|         null|null|         null|       null|      null|       null|        null|      null|2024-03-20 15:11:...|\n",
       "|Total amount fund...|e3b0c44298fc1c149...|       null|         null|null|         null|       null|      null|       null|        null|      null|2024-03-20 15:11:...|\n",
       "|Total amount fund...|e3b0c44298fc1c149...|       null|         null|null|         null|       null|      null|       null|        null|      null|2024-03-20 15:11:...|\n",
       "|Total amount fund...|e3b0c44298fc1c149...|       null|         null|null|         null|       null|      null|       null|        null|      null|2024-03-20 15:11:...|\n",
       "|Total amount fund...|e3b0c44298fc1c149...|       null|         null|null|         null|       null|      null|       null|        null|      null|2024-03-20 15:11:...|\n",
       "|Total amount fund...|e3b0c44298fc1c149...|       null|         null|null|         null|       null|      null|       null|        null|      null|2024-03-20 15:11:...|\n",
       "|Total amount fund...|e3b0c44298fc1c149...|       null|         null|null|         null|       null|      null|       null|        null|      null|2024-03-20 15:11:...|\n",
       "|Total amount fund...|e3b0c44298fc1c149...|       null|         null|null|         null|       null|      null|       null|        null|      null|2024-03-20 15:11:...|\n",
       "|Total amount fund...|e3b0c44298fc1c149...|       null|         null|null|         null|       null|      null|       null|        null|      null|2024-03-20 15:11:...|\n",
       "|Total amount fund...|e3b0c44298fc1c149...|       null|         null|null|         null|       null|      null|       null|        null|      null|2024-03-20 15:11:...|\n",
       "|Total amount fund...|e3b0c44298fc1c149...|       null|         null|null|         null|       null|      null|       null|        null|      null|2024-03-20 15:11:...|\n",
       "|Total amount fund...|e3b0c44298fc1c149...|       null|         null|null|         null|       null|      null|       null|        null|      null|2024-03-20 15:11:...|\n",
       "+--------------------+--------------------+-----------+-------------+----+-------------+-----------+----------+-----------+------------+----------+--------------------+\n",
       "only showing top 20 rows"
      ]
     },
     "execution_count": 12,
     "metadata": {},
     "output_type": "execute_result"
    }
   ],
   "source": [
    "spark.sql(\"SELECT * FROM loans WHERE loan_amount is null\")"
   ]
  },
  {
   "cell_type": "code",
   "execution_count": 13,
   "id": "a70f77a9",
   "metadata": {},
   "outputs": [],
   "source": [
    "loans_na_dropped = loans_df_ingested.na.drop(how='any', subset = [\"loan_amount\", \"funded_amount\", \"term\",\"interest_rate\",\"installment\",\"issue_date\",\"loan_status\",\"loan_purpose\"])"
   ]
  },
  {
   "cell_type": "code",
   "execution_count": 14,
   "id": "9694de27",
   "metadata": {},
   "outputs": [],
   "source": [
    "loans_na_dropped.createOrReplaceTempView(\"loans\")"
   ]
  },
  {
   "cell_type": "code",
   "execution_count": 15,
   "id": "8dbe3ddf",
   "metadata": {},
   "outputs": [
    {
     "data": {
      "text/html": [
       "<table border='1'>\n",
       "<tr><th>loan_id</th><th>member_id</th><th>loan_amount</th><th>funded_amount</th><th>term</th><th>interest_rate</th><th>installment</th><th>issue_date</th><th>loan_status</th><th>loan_purpose</th><th>loan_title</th><th>ingest_date</th></tr>\n",
       "</table>\n"
      ],
      "text/plain": [
       "+-------+---------+-----------+-------------+----+-------------+-----------+----------+-----------+------------+----------+-----------+\n",
       "|loan_id|member_id|loan_amount|funded_amount|term|interest_rate|installment|issue_date|loan_status|loan_purpose|loan_title|ingest_date|\n",
       "+-------+---------+-----------+-------------+----+-------------+-----------+----------+-----------+------------+----------+-----------+\n",
       "+-------+---------+-----------+-------------+----+-------------+-----------+----------+-----------+------------+----------+-----------+"
      ]
     },
     "execution_count": 15,
     "metadata": {},
     "output_type": "execute_result"
    }
   ],
   "source": [
    "spark.sql(\"SELECT * FROM loans WHERE loan_amount is null\")"
   ]
  },
  {
   "cell_type": "markdown",
   "id": "be75c63d",
   "metadata": {},
   "source": [
    "### Convert term (loan term in months) to yearly term and convert it to integer"
   ]
  },
  {
   "cell_type": "markdown",
   "id": "3775651b",
   "metadata": {},
   "source": [
    "##### regexp_replace(column which you want to replace, string you want to replace, with what)"
   ]
  },
  {
   "cell_type": "code",
   "execution_count": 16,
   "id": "4294923e",
   "metadata": {},
   "outputs": [],
   "source": [
    "x = loans_na_dropped.withColumn(\"term\", regexp_replace(loans_na_dropped.term, \" months\", \"\").cast(\"int\"))"
   ]
  },
  {
   "cell_type": "code",
   "execution_count": 17,
   "id": "8a4d74fd",
   "metadata": {},
   "outputs": [],
   "source": [
    "y = x.withColumn(\"term\", expr(\"term / 12\").cast(\"int\"))"
   ]
  },
  {
   "cell_type": "code",
   "execution_count": 18,
   "id": "8b22411c",
   "metadata": {},
   "outputs": [],
   "source": [
    "loans_term_year_changed = y.withColumnRenamed(\"term\", \"loan_term_years\")"
   ]
  },
  {
   "cell_type": "code",
   "execution_count": 19,
   "id": "539fb279",
   "metadata": {},
   "outputs": [
    {
     "data": {
      "text/html": [
       "<table border='1'>\n",
       "<tr><th>loan_id</th><th>member_id</th><th>loan_amount</th><th>funded_amount</th><th>loan_term_years</th><th>interest_rate</th><th>installment</th><th>issue_date</th><th>loan_status</th><th>loan_purpose</th><th>loan_title</th><th>ingest_date</th></tr>\n",
       "<tr><td>109653473</td><td>bd7db5222de2a6ce4...</td><td>25475.0</td><td>25475.0</td><td>3</td><td>14.08</td><td>871.67</td><td>May-2017</td><td>Late (31-120 days)</td><td>debt_consolidation</td><td>Debt consolidation</td><td>2024-03-20 15:11:...</td></tr>\n",
       "<tr><td>109677516</td><td>c0428bbd04ba8ba06...</td><td>14400.0</td><td>14400.0</td><td>3</td><td>12.62</td><td>482.57</td><td>May-2017</td><td>Current</td><td>debt_consolidation</td><td>Debt consolidation</td><td>2024-03-20 15:11:...</td></tr>\n",
       "<tr><td>109910042</td><td>028e91969c534dca2...</td><td>4000.0</td><td>4000.0</td><td>3</td><td>7.07</td><td>123.64</td><td>May-2017</td><td>Fully Paid</td><td>credit_card</td><td>Credit card refin...</td><td>2024-03-20 15:11:...</td></tr>\n",
       "<tr><td>109767343</td><td>fbab3a4ab0e73d30f...</td><td>30000.0</td><td>30000.0</td><td>3</td><td>17.09</td><td>1070.93</td><td>May-2017</td><td>Current</td><td>other</td><td>Other</td><td>2024-03-20 15:11:...</td></tr>\n",
       "<tr><td>109858215</td><td>342558ad61cfea940...</td><td>11500.0</td><td>11500.0</td><td>3</td><td>15.05</td><td>398.94</td><td>May-2017</td><td>Current</td><td>other</td><td>Other</td><td>2024-03-20 15:11:...</td></tr>\n",
       "<tr><td>109740125</td><td>372109bc6ae1c2d16...</td><td>25100.0</td><td>25100.0</td><td>5</td><td>16.02</td><td>610.65</td><td>May-2017</td><td>Fully Paid</td><td>home_improvement</td><td>Home improvement</td><td>2024-03-20 15:11:...</td></tr>\n",
       "<tr><td>108257437</td><td>54e9694e0b82951ee...</td><td>4800.0</td><td>4800.0</td><td>3</td><td>7.21</td><td>148.68</td><td>May-2017</td><td>Fully Paid</td><td>credit_card</td><td>Credit card refin...</td><td>2024-03-20 15:11:...</td></tr>\n",
       "<tr><td>109898089</td><td>1802301a402b207ca...</td><td>11925.0</td><td>11925.0</td><td>5</td><td>17.09</td><td>296.95</td><td>May-2017</td><td>Current</td><td>debt_consolidation</td><td>Debt consolidation</td><td>2024-03-20 15:11:...</td></tr>\n",
       "<tr><td>109253226</td><td>ec80b7f0e7bc69119...</td><td>15000.0</td><td>15000.0</td><td>5</td><td>15.05</td><td>357.25</td><td>May-2017</td><td>Current</td><td>debt_consolidation</td><td>Debt consolidation</td><td>2024-03-20 15:11:...</td></tr>\n",
       "<tr><td>109848461</td><td>f3ee70b6e652c7c27...</td><td>6400.0</td><td>6400.0</td><td>3</td><td>10.42</td><td>207.78</td><td>May-2017</td><td>Fully Paid</td><td>debt_consolidation</td><td>Debt consolidation</td><td>2024-03-20 15:11:...</td></tr>\n",
       "<tr><td>109878764</td><td>9f798add39ea9b300...</td><td>20000.0</td><td>20000.0</td><td>5</td><td>15.05</td><td>476.33</td><td>May-2017</td><td>Current</td><td>debt_consolidation</td><td>Debt consolidation</td><td>2024-03-20 15:11:...</td></tr>\n",
       "<tr><td>109994354</td><td>1d0625d97bbc7d556...</td><td>10000.0</td><td>10000.0</td><td>3</td><td>7.07</td><td>309.1</td><td>May-2017</td><td>Current</td><td>debt_consolidation</td><td>Debt consolidation</td><td>2024-03-20 15:11:...</td></tr>\n",
       "<tr><td>109759397</td><td>4eacfff0633b5da4a...</td><td>16800.0</td><td>16800.0</td><td>5</td><td>21.45</td><td>458.76</td><td>May-2017</td><td>Charged Off</td><td>debt_consolidation</td><td>Debt consolidation</td><td>2024-03-20 15:11:...</td></tr>\n",
       "<tr><td>109977107</td><td>6b397d9aaa9fae080...</td><td>25575.0</td><td>25575.0</td><td>3</td><td>24.85</td><td>1014.83</td><td>May-2017</td><td>Charged Off</td><td>debt_consolidation</td><td>Debt consolidation</td><td>2024-03-20 15:11:...</td></tr>\n",
       "<tr><td>109880094</td><td>49e71866b5c1479d0...</td><td>4000.0</td><td>4000.0</td><td>3</td><td>7.07</td><td>123.64</td><td>May-2017</td><td>Fully Paid</td><td>credit_card</td><td>Credit card refin...</td><td>2024-03-20 15:11:...</td></tr>\n",
       "<tr><td>109062494</td><td>76a7a132561220574...</td><td>40000.0</td><td>40000.0</td><td>3</td><td>9.44</td><td>1280.2</td><td>May-2017</td><td>Charged Off</td><td>debt_consolidation</td><td>Debt consolidation</td><td>2024-03-20 15:11:...</td></tr>\n",
       "<tr><td>109707717</td><td>56a738f8ecc1c0c7e...</td><td>8000.0</td><td>8000.0</td><td>3</td><td>11.99</td><td>265.68</td><td>May-2017</td><td>Current</td><td>credit_card</td><td>Credit card refin...</td><td>2024-03-20 15:11:...</td></tr>\n",
       "<tr><td>109827365</td><td>6812612dcccd70132...</td><td>14975.0</td><td>14975.0</td><td>3</td><td>19.03</td><td>549.16</td><td>May-2017</td><td>Current</td><td>debt_consolidation</td><td>Debt consolidation</td><td>2024-03-20 15:11:...</td></tr>\n",
       "<tr><td>109320555</td><td>a9d2601420ec15fa0...</td><td>15000.0</td><td>15000.0</td><td>3</td><td>9.93</td><td>483.52</td><td>May-2017</td><td>Current</td><td>debt_consolidation</td><td>Debt consolidation</td><td>2024-03-20 15:11:...</td></tr>\n",
       "<tr><td>58460868</td><td>982ec5ad10995ace9...</td><td>4000.0</td><td>4000.0</td><td>3</td><td>16.02</td><td>140.67</td><td>May-2017</td><td>Current</td><td>debt_consolidation</td><td>Debt consolidation</td><td>2024-03-20 15:11:...</td></tr>\n",
       "</table>\n",
       "only showing top 20 rows\n"
      ],
      "text/plain": [
       "+---------+--------------------+-----------+-------------+---------------+-------------+-----------+----------+------------------+------------------+--------------------+--------------------+\n",
       "|  loan_id|           member_id|loan_amount|funded_amount|loan_term_years|interest_rate|installment|issue_date|       loan_status|      loan_purpose|          loan_title|         ingest_date|\n",
       "+---------+--------------------+-----------+-------------+---------------+-------------+-----------+----------+------------------+------------------+--------------------+--------------------+\n",
       "|109653473|bd7db5222de2a6ce4...|    25475.0|      25475.0|              3|        14.08|     871.67|  May-2017|Late (31-120 days)|debt_consolidation|  Debt consolidation|2024-03-20 15:11:...|\n",
       "|109677516|c0428bbd04ba8ba06...|    14400.0|      14400.0|              3|        12.62|     482.57|  May-2017|           Current|debt_consolidation|  Debt consolidation|2024-03-20 15:11:...|\n",
       "|109910042|028e91969c534dca2...|     4000.0|       4000.0|              3|         7.07|     123.64|  May-2017|        Fully Paid|       credit_card|Credit card refin...|2024-03-20 15:11:...|\n",
       "|109767343|fbab3a4ab0e73d30f...|    30000.0|      30000.0|              3|        17.09|    1070.93|  May-2017|           Current|             other|               Other|2024-03-20 15:11:...|\n",
       "|109858215|342558ad61cfea940...|    11500.0|      11500.0|              3|        15.05|     398.94|  May-2017|           Current|             other|               Other|2024-03-20 15:11:...|\n",
       "|109740125|372109bc6ae1c2d16...|    25100.0|      25100.0|              5|        16.02|     610.65|  May-2017|        Fully Paid|  home_improvement|    Home improvement|2024-03-20 15:11:...|\n",
       "|108257437|54e9694e0b82951ee...|     4800.0|       4800.0|              3|         7.21|     148.68|  May-2017|        Fully Paid|       credit_card|Credit card refin...|2024-03-20 15:11:...|\n",
       "|109898089|1802301a402b207ca...|    11925.0|      11925.0|              5|        17.09|     296.95|  May-2017|           Current|debt_consolidation|  Debt consolidation|2024-03-20 15:11:...|\n",
       "|109253226|ec80b7f0e7bc69119...|    15000.0|      15000.0|              5|        15.05|     357.25|  May-2017|           Current|debt_consolidation|  Debt consolidation|2024-03-20 15:11:...|\n",
       "|109848461|f3ee70b6e652c7c27...|     6400.0|       6400.0|              3|        10.42|     207.78|  May-2017|        Fully Paid|debt_consolidation|  Debt consolidation|2024-03-20 15:11:...|\n",
       "|109878764|9f798add39ea9b300...|    20000.0|      20000.0|              5|        15.05|     476.33|  May-2017|           Current|debt_consolidation|  Debt consolidation|2024-03-20 15:11:...|\n",
       "|109994354|1d0625d97bbc7d556...|    10000.0|      10000.0|              3|         7.07|      309.1|  May-2017|           Current|debt_consolidation|  Debt consolidation|2024-03-20 15:11:...|\n",
       "|109759397|4eacfff0633b5da4a...|    16800.0|      16800.0|              5|        21.45|     458.76|  May-2017|       Charged Off|debt_consolidation|  Debt consolidation|2024-03-20 15:11:...|\n",
       "|109977107|6b397d9aaa9fae080...|    25575.0|      25575.0|              3|        24.85|    1014.83|  May-2017|       Charged Off|debt_consolidation|  Debt consolidation|2024-03-20 15:11:...|\n",
       "|109880094|49e71866b5c1479d0...|     4000.0|       4000.0|              3|         7.07|     123.64|  May-2017|        Fully Paid|       credit_card|Credit card refin...|2024-03-20 15:11:...|\n",
       "|109062494|76a7a132561220574...|    40000.0|      40000.0|              3|         9.44|     1280.2|  May-2017|       Charged Off|debt_consolidation|  Debt consolidation|2024-03-20 15:11:...|\n",
       "|109707717|56a738f8ecc1c0c7e...|     8000.0|       8000.0|              3|        11.99|     265.68|  May-2017|           Current|       credit_card|Credit card refin...|2024-03-20 15:11:...|\n",
       "|109827365|6812612dcccd70132...|    14975.0|      14975.0|              3|        19.03|     549.16|  May-2017|           Current|debt_consolidation|  Debt consolidation|2024-03-20 15:11:...|\n",
       "|109320555|a9d2601420ec15fa0...|    15000.0|      15000.0|              3|         9.93|     483.52|  May-2017|           Current|debt_consolidation|  Debt consolidation|2024-03-20 15:11:...|\n",
       "| 58460868|982ec5ad10995ace9...|     4000.0|       4000.0|              3|        16.02|     140.67|  May-2017|           Current|debt_consolidation|  Debt consolidation|2024-03-20 15:11:...|\n",
       "+---------+--------------------+-----------+-------------+---------------+-------------+-----------+----------+------------------+------------------+--------------------+--------------------+\n",
       "only showing top 20 rows"
      ]
     },
     "execution_count": 19,
     "metadata": {},
     "output_type": "execute_result"
    }
   ],
   "source": [
    "loans_term_year_changed"
   ]
  },
  {
   "cell_type": "code",
   "execution_count": 20,
   "id": "d7233386",
   "metadata": {},
   "outputs": [],
   "source": [
    "loans_term_year_changed.createOrReplaceTempView(\"loans\")"
   ]
  },
  {
   "cell_type": "markdown",
   "id": "8d2af61f",
   "metadata": {},
   "source": [
    "### loan_purpose should be within this list only. All other will be include in other category\n",
    "loan_purpose_lookup = [\"debt_consolidation\", \"credit_card\",\n",
    "\"home_improvement\", \"other\", \"major_purchase\", \"medical\", \"small_business\",\n",
    "\"car\", \"vacation\", \"moving\", \"house\", \"wedding\", \"renewable_energy\",\n",
    "\"educational\"]"
   ]
  },
  {
   "cell_type": "code",
   "execution_count": 21,
   "id": "e1a2782d",
   "metadata": {},
   "outputs": [
    {
     "data": {
      "text/html": [
       "<table border='1'>\n",
       "<tr><th>loan_purpose</th><th>count</th></tr>\n",
       "<tr><td>debt_consolidation</td><td>1277790</td></tr>\n",
       "<tr><td>credit_card</td><td>516926</td></tr>\n",
       "<tr><td>home_improvement</td><td>150440</td></tr>\n",
       "<tr><td>other</td><td>139413</td></tr>\n",
       "<tr><td>major_purchase</td><td>50429</td></tr>\n",
       "<tr><td>medical</td><td>27481</td></tr>\n",
       "<tr><td>small_business</td><td>24659</td></tr>\n",
       "<tr><td>car</td><td>24009</td></tr>\n",
       "<tr><td>vacation</td><td>15525</td></tr>\n",
       "<tr><td>moving</td><td>15402</td></tr>\n",
       "<tr><td>house</td><td>14131</td></tr>\n",
       "<tr><td>wedding</td><td>2351</td></tr>\n",
       "<tr><td>renewable_energy</td><td>1445</td></tr>\n",
       "<tr><td>educational</td><td>412</td></tr>\n",
       "<tr><td>guaranteed!&quot;</td><td>1</td></tr>\n",
       "<tr><td>because of the na...</td><td>1</td></tr>\n",
       "<tr><td>I became his prim...</td><td>1</td></tr>\n",
       "<tr><td>progressive multi...</td><td>1</td></tr>\n",
       "<tr><td>but not much info...</td><td>1</td></tr>\n",
       "<tr><td>I have eliminated...</td><td>1</td></tr>\n",
       "</table>\n",
       "only showing top 20 rows\n"
      ],
      "text/plain": [
       "+--------------------+-------+\n",
       "|        loan_purpose|  count|\n",
       "+--------------------+-------+\n",
       "|  debt_consolidation|1277790|\n",
       "|         credit_card| 516926|\n",
       "|    home_improvement| 150440|\n",
       "|               other| 139413|\n",
       "|      major_purchase|  50429|\n",
       "|             medical|  27481|\n",
       "|      small_business|  24659|\n",
       "|                 car|  24009|\n",
       "|            vacation|  15525|\n",
       "|              moving|  15402|\n",
       "|               house|  14131|\n",
       "|             wedding|   2351|\n",
       "|    renewable_energy|   1445|\n",
       "|         educational|    412|\n",
       "|I became his prim...|      1|\n",
       "|because of the na...|      1|\n",
       "|so I have to pay ...|      1|\n",
       "|progressive multi...|      1|\n",
       "|you may feel conf...|      1|\n",
       "|please feel free ...|      1|\n",
       "+--------------------+-------+\n",
       "only showing top 20 rows"
      ]
     },
     "execution_count": 21,
     "metadata": {},
     "output_type": "execute_result"
    }
   ],
   "source": [
    "spark.sql(\"SELECT loan_purpose, COUNT(*) as count FROM loans GROUP BY loan_purpose order by count desc\")"
   ]
  },
  {
   "cell_type": "code",
   "execution_count": 22,
   "id": "e6e0da1c",
   "metadata": {},
   "outputs": [],
   "source": [
    "loan_purpose_lookup = [\"debt_consolidation\", \"credit_card\", \"home_improvement\", \"other\", \"major_purchase\", \"medical\", \"small_business\", \"car\", \"vacation\", \"moving\", \"house\", \"wedding\", \"renewable_energy\", \"educational\"]"
   ]
  },
  {
   "cell_type": "code",
   "execution_count": 23,
   "id": "b443397d",
   "metadata": {},
   "outputs": [],
   "source": [
    "loans_purpose_changed = loans_term_year_changed.withColumn(\"loan_purpose\", when(col(\"loan_purpose\").isin(loan_purpose_lookup), col(\"loan_purpose\")).otherwise(\"other\"))"
   ]
  },
  {
   "cell_type": "code",
   "execution_count": 24,
   "id": "8a02889d",
   "metadata": {},
   "outputs": [],
   "source": [
    "loans_purpose_changed.createOrReplaceTempView(\"loans\")"
   ]
  },
  {
   "cell_type": "code",
   "execution_count": 25,
   "id": "73fc21ee",
   "metadata": {},
   "outputs": [
    {
     "data": {
      "text/html": [
       "<table border='1'>\n",
       "<tr><th>loan_purpose</th><th>count</th></tr>\n",
       "<tr><td>debt_consolidation</td><td>1277790</td></tr>\n",
       "<tr><td>credit_card</td><td>516926</td></tr>\n",
       "<tr><td>home_improvement</td><td>150440</td></tr>\n",
       "<tr><td>other</td><td>139667</td></tr>\n",
       "<tr><td>major_purchase</td><td>50429</td></tr>\n",
       "<tr><td>medical</td><td>27481</td></tr>\n",
       "<tr><td>small_business</td><td>24659</td></tr>\n",
       "<tr><td>car</td><td>24009</td></tr>\n",
       "<tr><td>vacation</td><td>15525</td></tr>\n",
       "<tr><td>moving</td><td>15402</td></tr>\n",
       "<tr><td>house</td><td>14131</td></tr>\n",
       "<tr><td>wedding</td><td>2351</td></tr>\n",
       "<tr><td>renewable_energy</td><td>1445</td></tr>\n",
       "<tr><td>educational</td><td>412</td></tr>\n",
       "</table>\n"
      ],
      "text/plain": [
       "+------------------+-------+\n",
       "|      loan_purpose|  count|\n",
       "+------------------+-------+\n",
       "|debt_consolidation|1277790|\n",
       "|       credit_card| 516926|\n",
       "|  home_improvement| 150440|\n",
       "|             other| 139667|\n",
       "|    major_purchase|  50429|\n",
       "|           medical|  27481|\n",
       "|    small_business|  24659|\n",
       "|               car|  24009|\n",
       "|          vacation|  15525|\n",
       "|            moving|  15402|\n",
       "|             house|  14131|\n",
       "|           wedding|   2351|\n",
       "|  renewable_energy|   1445|\n",
       "|       educational|    412|\n",
       "+------------------+-------+"
      ]
     },
     "execution_count": 25,
     "metadata": {},
     "output_type": "execute_result"
    }
   ],
   "source": [
    "spark.sql(\"SELECT loan_purpose, COUNT(*) as count FROM loans GROUP BY loan_purpose order by count desc\")"
   ]
  },
  {
   "cell_type": "markdown",
   "id": "e9926dac",
   "metadata": {},
   "source": [
    "### Put the dataframe to cleaned folder"
   ]
  },
  {
   "cell_type": "code",
   "execution_count": 28,
   "id": "a4a51d23",
   "metadata": {},
   "outputs": [],
   "source": [
    "loans_purpose_changed.write \\\n",
    ".option(\"header\", True) \\\n",
    ".format(\"csv\") \\\n",
    ".mode(\"overwrite\") \\\n",
    ".option(\"path\", \"lending_club_project/cleaned_data/loans_cleaned_csv\") \\\n",
    ".save()"
   ]
  },
  {
   "cell_type": "code",
   "execution_count": null,
   "id": "26b4d966",
   "metadata": {},
   "outputs": [],
   "source": [
    "loans_purpose_changed.write \\\n",
    ".format(\"parquet\") \\\n",
    ".mode(\"overwrite\") \\\n",
    ".option(\"path\", \"lending_club_project/cleaned_data/loans_cleaned_parquet\") \\\n",
    ".save()"
   ]
  }
 ],
 "metadata": {
  "kernelspec": {
   "display_name": "Pyspark 3",
   "language": "python",
   "name": "pyspark3"
  },
  "language_info": {
   "codemirror_mode": {
    "name": "ipython",
    "version": 3
   },
   "file_extension": ".py",
   "mimetype": "text/x-python",
   "name": "python",
   "nbconvert_exporter": "python",
   "pygments_lexer": "ipython3",
   "version": "3.6.12"
  }
 },
 "nbformat": 4,
 "nbformat_minor": 5
}
