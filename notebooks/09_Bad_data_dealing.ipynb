{
 "cells": [
  {
   "cell_type": "code",
   "execution_count": 1,
   "id": "ee36216a",
   "metadata": {},
   "outputs": [],
   "source": [
    "from pyspark.sql import SparkSession\n",
    "import getpass\n",
    "username = getpass.getuser()\n",
    "spark = SparkSession. \\\n",
    "builder. \\\n",
    "config(\"spark.sql.warehouse.dir\", f\"/user/itv010698/warehouse\"). \\\n",
    "enableHiveSupport(). \\\n",
    "master('yarn'). \\\n",
    "getOrCreate()"
   ]
  },
  {
   "cell_type": "markdown",
   "id": "c5874c55",
   "metadata": {},
   "source": [
    "### Ideally in the customers data, member_id should be primary key and should not be repeating,\n",
    "### here it is not the case, it is bad data"
   ]
  },
  {
   "cell_type": "code",
   "execution_count": 2,
   "id": "d2040f10",
   "metadata": {},
   "outputs": [
    {
     "data": {
      "text/html": [
       "<table border='1'>\n",
       "<tr><th>member_id</th><th>count(1)</th></tr>\n",
       "<tr><td>e4c167053d5418230...</td><td>5</td></tr>\n",
       "<tr><td>ad8e5d384dae17e06...</td><td>4</td></tr>\n",
       "<tr><td>3f87585a20f702838...</td><td>4</td></tr>\n",
       "<tr><td>76b577467eda5bdbc...</td><td>4</td></tr>\n",
       "<tr><td>498bb6b1f0099cb47...</td><td>3</td></tr>\n",
       "<tr><td>53789bea7edc660ed...</td><td>3</td></tr>\n",
       "<tr><td>d9ce4046daf599732...</td><td>3</td></tr>\n",
       "<tr><td>c92062bb371842b3d...</td><td>3</td></tr>\n",
       "<tr><td>819453be77718d747...</td><td>3</td></tr>\n",
       "<tr><td>4ab6205de571ccb7b...</td><td>3</td></tr>\n",
       "<tr><td>035bf3d8288d803bd...</td><td>3</td></tr>\n",
       "<tr><td>059d401bb603d9a80...</td><td>3</td></tr>\n",
       "<tr><td>22593a1870543b2db...</td><td>3</td></tr>\n",
       "<tr><td>291ca1b09ef11ca3e...</td><td>3</td></tr>\n",
       "<tr><td>a2356725aa9da92c6...</td><td>3</td></tr>\n",
       "<tr><td>5d52e7773cb0efff3...</td><td>3</td></tr>\n",
       "<tr><td>c563428cb58da48ff...</td><td>3</td></tr>\n",
       "<tr><td>d3731bad3e6a82515...</td><td>3</td></tr>\n",
       "<tr><td>3ae415acd6bbfaac1...</td><td>3</td></tr>\n",
       "<tr><td>f54295a60946dedad...</td><td>3</td></tr>\n",
       "</table>\n",
       "only showing top 20 rows\n"
      ],
      "text/plain": [
       "+--------------------+--------+\n",
       "|           member_id|count(1)|\n",
       "+--------------------+--------+\n",
       "|e4c167053d5418230...|       5|\n",
       "|76b577467eda5bdbc...|       4|\n",
       "|3f87585a20f702838...|       4|\n",
       "|ad8e5d384dae17e06...|       4|\n",
       "|22593a1870543b2db...|       3|\n",
       "|e7d8d16928817ec8f...|       3|\n",
       "|035bf3d8288d803bd...|       3|\n",
       "|066ddaa64bee66dff...|       3|\n",
       "|53789bea7edc660ed...|       3|\n",
       "|4ab6205de571ccb7b...|       3|\n",
       "|c563428cb58da48ff...|       3|\n",
       "|059d401bb603d9a80...|       3|\n",
       "|f54295a60946dedad...|       3|\n",
       "|291ca1b09ef11ca3e...|       3|\n",
       "|819453be77718d747...|       3|\n",
       "|a2356725aa9da92c6...|       3|\n",
       "|498bb6b1f0099cb47...|       3|\n",
       "|5d52e7773cb0efff3...|       3|\n",
       "|d3731bad3e6a82515...|       3|\n",
       "|3ae415acd6bbfaac1...|       3|\n",
       "+--------------------+--------+\n",
       "only showing top 20 rows"
      ]
     },
     "execution_count": 2,
     "metadata": {},
     "output_type": "execute_result"
    }
   ],
   "source": [
    "spark.sql(\"SELECT member_id, count(*) FROM itv010698_lending_club_project.customers GROUP BY member_id ORDER BY count(*) DESC\")"
   ]
  },
  {
   "cell_type": "markdown",
   "id": "9e6a06ae",
   "metadata": {},
   "source": [
    "##### Here, consider for the given member_id tot_hi_cred_lim is different for eevry record. We cannot process such member_ids"
   ]
  },
  {
   "cell_type": "code",
   "execution_count": 3,
   "id": "ae01e3ef",
   "metadata": {},
   "outputs": [
    {
     "data": {
      "text/html": [
       "<table border='1'>\n",
       "<tr><th>member_id</th><th>emp_title</th><th>emp_length</th><th>home_ownership</th><th>annual_income</th><th>address_state</th><th>address_zipcode</th><th>address_country</th><th>grade</th><th>sub_grade</th><th>verification_status</th><th>total_high_credit_limit</th><th>application_type</th><th>join_annual_income</th><th>verification_status_joint</th><th>ingest_date</th></tr>\n",
       "</table>\n"
      ],
      "text/plain": [
       "+---------+---------+----------+--------------+-------------+-------------+---------------+---------------+-----+---------+-------------------+-----------------------+----------------+------------------+-------------------------+-----------+\n",
       "|member_id|emp_title|emp_length|home_ownership|annual_income|address_state|address_zipcode|address_country|grade|sub_grade|verification_status|total_high_credit_limit|application_type|join_annual_income|verification_status_joint|ingest_date|\n",
       "+---------+---------+----------+--------------+-------------+-------------+---------------+---------------+-----+---------+-------------------+-----------------------+----------------+------------------+-------------------------+-----------+\n",
       "+---------+---------+----------+--------------+-------------+-------------+---------------+---------------+-----+---------+-------------------+-----------------------+----------------+------------------+-------------------------+-----------+"
      ]
     },
     "execution_count": 3,
     "metadata": {},
     "output_type": "execute_result"
    }
   ],
   "source": [
    "spark.sql(\"select * from  itv010698_lending_club_project.customers where member_id like '%a46082dfb96b6b025%'\")"
   ]
  },
  {
   "cell_type": "markdown",
   "id": "bba2e4ce",
   "metadata": {},
   "source": [
    "### Same for loans_defaulters_delinq, member_id is repeated, we cannot process these"
   ]
  },
  {
   "cell_type": "code",
   "execution_count": 4,
   "id": "22857550",
   "metadata": {},
   "outputs": [
    {
     "data": {
      "text/html": [
       "<table border='1'>\n",
       "<tr><th>member_id</th><th>count(1)</th></tr>\n",
       "<tr><td>e4c167053d5418230...</td><td>3</td></tr>\n",
       "<tr><td>dbe5ec23d01598dbf...</td><td>2</td></tr>\n",
       "<tr><td>58dde656f747cee8b...</td><td>2</td></tr>\n",
       "<tr><td>55d55d97420671a1c...</td><td>2</td></tr>\n",
       "<tr><td>b5ded5638e54e1692...</td><td>2</td></tr>\n",
       "<tr><td>77db5fdf951dd04b2...</td><td>2</td></tr>\n",
       "<tr><td>c16e1f92ae5ccc785...</td><td>2</td></tr>\n",
       "<tr><td>b3d4eb0c5a9239348...</td><td>2</td></tr>\n",
       "<tr><td>8d2c605c7ad9209cc...</td><td>2</td></tr>\n",
       "<tr><td>a93a44c9d83793451...</td><td>2</td></tr>\n",
       "<tr><td>0b44a10bc749eabb2...</td><td>2</td></tr>\n",
       "<tr><td>62394e3f9d063413b...</td><td>2</td></tr>\n",
       "<tr><td>4f7579700cd9d49d7...</td><td>2</td></tr>\n",
       "<tr><td>343344c3c65b023af...</td><td>2</td></tr>\n",
       "<tr><td>ac9a3da3b89f9228e...</td><td>2</td></tr>\n",
       "<tr><td>f1ebb6edb9b07de5f...</td><td>2</td></tr>\n",
       "<tr><td>cbede54df344cdb94...</td><td>2</td></tr>\n",
       "<tr><td>bbe43331566910d55...</td><td>2</td></tr>\n",
       "<tr><td>6918b9861ba5a4c67...</td><td>2</td></tr>\n",
       "<tr><td>6c2b63ff231e520d4...</td><td>2</td></tr>\n",
       "</table>\n",
       "only showing top 20 rows\n"
      ],
      "text/plain": [
       "+--------------------+--------+\n",
       "|           member_id|count(1)|\n",
       "+--------------------+--------+\n",
       "|e4c167053d5418230...|       3|\n",
       "|55d55d97420671a1c...|       2|\n",
       "|58dde656f747cee8b...|       2|\n",
       "|c23eb88fed4893030...|       2|\n",
       "|694c6cb86608015e9...|       2|\n",
       "|0b44a10bc749eabb2...|       2|\n",
       "|17d76ba5141e1c33a...|       2|\n",
       "|c16e1f92ae5ccc785...|       2|\n",
       "|cbede54df344cdb94...|       2|\n",
       "|bbe43331566910d55...|       2|\n",
       "|77db5fdf951dd04b2...|       2|\n",
       "|62394e3f9d063413b...|       2|\n",
       "|4f7579700cd9d49d7...|       2|\n",
       "|dbe5ec23d01598dbf...|       2|\n",
       "|db887c1d4cb004ca8...|       2|\n",
       "|343344c3c65b023af...|       2|\n",
       "|6918b9861ba5a4c67...|       2|\n",
       "|8d2c605c7ad9209cc...|       2|\n",
       "|b5ded5638e54e1692...|       2|\n",
       "|a93a44c9d83793451...|       2|\n",
       "+--------------------+--------+\n",
       "only showing top 20 rows"
      ]
     },
     "execution_count": 4,
     "metadata": {},
     "output_type": "execute_result"
    }
   ],
   "source": [
    "spark.sql(\"SELECT member_id, count(*) FROM itv010698_lending_club_project.loans_defaulters_delinq GROUP BY member_id ORDER BY count(*) DESC\")"
   ]
  },
  {
   "cell_type": "code",
   "execution_count": 5,
   "id": "d86de495",
   "metadata": {},
   "outputs": [
    {
     "data": {
      "text/html": [
       "<table border='1'>\n",
       "<tr><th>member_id</th><th>delinq_2yrs</th><th>delinq_amnt</th><th>mths_since_last_delinq</th></tr>\n",
       "<tr><td>e4c167053d5418230...</td><td>3</td><td>0.0</td><td>0</td></tr>\n",
       "<tr><td>e4c167053d5418230...</td><td>1</td><td>0.0</td><td>0</td></tr>\n",
       "<tr><td>e4c167053d5418230...</td><td>1</td><td>0.0</td><td>45</td></tr>\n",
       "</table>\n"
      ],
      "text/plain": [
       "+--------------------+-----------+-----------+----------------------+\n",
       "|           member_id|delinq_2yrs|delinq_amnt|mths_since_last_delinq|\n",
       "+--------------------+-----------+-----------+----------------------+\n",
       "|e4c167053d5418230...|          3|        0.0|                     0|\n",
       "|e4c167053d5418230...|          1|        0.0|                     0|\n",
       "|e4c167053d5418230...|          1|        0.0|                    45|\n",
       "+--------------------+-----------+-----------+----------------------+"
      ]
     },
     "execution_count": 5,
     "metadata": {},
     "output_type": "execute_result"
    }
   ],
   "source": [
    "spark.sql(\"select * from  itv010698_lending_club_project.loans_defaulters_delinq where member_id like '%e4c167053d5418230%'\")"
   ]
  },
  {
   "cell_type": "markdown",
   "id": "8f13dd67",
   "metadata": {},
   "source": [
    "### Same for loans_defaulters_detail_rec_enq, member_id is repeated, we cannot process them"
   ]
  },
  {
   "cell_type": "code",
   "execution_count": 6,
   "id": "ca6d76b1",
   "metadata": {},
   "outputs": [
    {
     "data": {
      "text/html": [
       "<table border='1'>\n",
       "<tr><th>member_id</th><th>count(1)</th></tr>\n",
       "<tr><td>e3b0c44298fc1c149...</td><td>33</td></tr>\n",
       "<tr><td>e4c167053d5418230...</td><td>5</td></tr>\n",
       "<tr><td>3f87585a20f702838...</td><td>4</td></tr>\n",
       "<tr><td>ad8e5d384dae17e06...</td><td>4</td></tr>\n",
       "<tr><td>76b577467eda5bdbc...</td><td>4</td></tr>\n",
       "<tr><td>c92062bb371842b3d...</td><td>3</td></tr>\n",
       "<tr><td>22593a1870543b2db...</td><td>3</td></tr>\n",
       "<tr><td>035bf3d8288d803bd...</td><td>3</td></tr>\n",
       "<tr><td>53789bea7edc660ed...</td><td>3</td></tr>\n",
       "<tr><td>291ca1b09ef11ca3e...</td><td>3</td></tr>\n",
       "<tr><td>5d52e7773cb0efff3...</td><td>3</td></tr>\n",
       "<tr><td>d3731bad3e6a82515...</td><td>3</td></tr>\n",
       "<tr><td>3ae415acd6bbfaac1...</td><td>3</td></tr>\n",
       "<tr><td>e7d8d16928817ec8f...</td><td>3</td></tr>\n",
       "<tr><td>a2356725aa9da92c6...</td><td>3</td></tr>\n",
       "<tr><td>498bb6b1f0099cb47...</td><td>3</td></tr>\n",
       "<tr><td>4ab6205de571ccb7b...</td><td>3</td></tr>\n",
       "<tr><td>c563428cb58da48ff...</td><td>3</td></tr>\n",
       "<tr><td>059d401bb603d9a80...</td><td>3</td></tr>\n",
       "<tr><td>066ddaa64bee66dff...</td><td>3</td></tr>\n",
       "</table>\n",
       "only showing top 20 rows\n"
      ],
      "text/plain": [
       "+--------------------+--------+\n",
       "|           member_id|count(1)|\n",
       "+--------------------+--------+\n",
       "|e3b0c44298fc1c149...|      33|\n",
       "|e4c167053d5418230...|       5|\n",
       "|3f87585a20f702838...|       4|\n",
       "|76b577467eda5bdbc...|       4|\n",
       "|ad8e5d384dae17e06...|       4|\n",
       "|f54295a60946dedad...|       3|\n",
       "|059d401bb603d9a80...|       3|\n",
       "|035bf3d8288d803bd...|       3|\n",
       "|22593a1870543b2db...|       3|\n",
       "|819453be77718d747...|       3|\n",
       "|5d52e7773cb0efff3...|       3|\n",
       "|d3731bad3e6a82515...|       3|\n",
       "|066ddaa64bee66dff...|       3|\n",
       "|3ae415acd6bbfaac1...|       3|\n",
       "|e7d8d16928817ec8f...|       3|\n",
       "|291ca1b09ef11ca3e...|       3|\n",
       "|53789bea7edc660ed...|       3|\n",
       "|498bb6b1f0099cb47...|       3|\n",
       "|4ab6205de571ccb7b...|       3|\n",
       "|c563428cb58da48ff...|       3|\n",
       "+--------------------+--------+\n",
       "only showing top 20 rows"
      ]
     },
     "execution_count": 6,
     "metadata": {},
     "output_type": "execute_result"
    }
   ],
   "source": [
    "spark.sql(\"SELECT member_id, count(*) FROM itv010698_lending_club_project.loans_defaulters_detail_rec_enq GROUP BY member_id ORDER BY count(*) DESC\")"
   ]
  },
  {
   "cell_type": "code",
   "execution_count": 7,
   "id": "66197fa3",
   "metadata": {},
   "outputs": [
    {
     "data": {
      "text/html": [
       "<table border='1'>\n",
       "<tr><th>member_id</th><th>pub_rec</th><th>pub_rec_bankruptcies</th><th>inq_last_6mths</th></tr>\n",
       "<tr><td>e4c167053d5418230...</td><td>0</td><td>0</td><td>0</td></tr>\n",
       "<tr><td>e4c167053d5418230...</td><td>0</td><td>0</td><td>3</td></tr>\n",
       "<tr><td>e4c167053d5418230...</td><td>0</td><td>0</td><td>2</td></tr>\n",
       "<tr><td>e4c167053d5418230...</td><td>0</td><td>0</td><td>1</td></tr>\n",
       "<tr><td>e4c167053d5418230...</td><td>0</td><td>0</td><td>0</td></tr>\n",
       "</table>\n"
      ],
      "text/plain": [
       "+--------------------+-------+--------------------+--------------+\n",
       "|           member_id|pub_rec|pub_rec_bankruptcies|inq_last_6mths|\n",
       "+--------------------+-------+--------------------+--------------+\n",
       "|e4c167053d5418230...|      0|                   0|             0|\n",
       "|e4c167053d5418230...|      0|                   0|             3|\n",
       "|e4c167053d5418230...|      0|                   0|             2|\n",
       "|e4c167053d5418230...|      0|                   0|             1|\n",
       "|e4c167053d5418230...|      0|                   0|             0|\n",
       "+--------------------+-------+--------------------+--------------+"
      ]
     },
     "execution_count": 7,
     "metadata": {},
     "output_type": "execute_result"
    }
   ],
   "source": [
    "spark.sql(\"select * from  itv010698_lending_club_project.loans_defaulters_detail_rec_enq where member_id like '%e4c167053d5418230%'\")"
   ]
  },
  {
   "cell_type": "markdown",
   "id": "a801d2c8",
   "metadata": {},
   "source": [
    "### We have to eliminate this bad data and store it in a file so that we can refer to higher authorities about this bad data"
   ]
  },
  {
   "cell_type": "code",
   "execution_count": 8,
   "id": "e3a6bd08",
   "metadata": {},
   "outputs": [],
   "source": [
    "bad_cust_df = spark.sql(\"select member_id from itv010698_lending_club_project.customers group by member_id having count(*) > 1\")"
   ]
  },
  {
   "cell_type": "code",
   "execution_count": 9,
   "id": "8022ff91",
   "metadata": {},
   "outputs": [
    {
     "name": "stdout",
     "output_type": "stream",
     "text": [
      "+--------------------+\n",
      "|           member_id|\n",
      "+--------------------+\n",
      "|01b2223757c3b62e7...|\n",
      "|a2af7506825a7dcff...|\n",
      "|675151e58a628e87b...|\n",
      "|a53e2f488d2d76a30...|\n",
      "|fc0e468bff11ac7c3...|\n",
      "+--------------------+\n",
      "only showing top 5 rows\n",
      "\n"
     ]
    }
   ],
   "source": [
    "bad_cust_df.show(5)"
   ]
  },
  {
   "cell_type": "code",
   "execution_count": 10,
   "id": "607107ad",
   "metadata": {},
   "outputs": [],
   "source": [
    "bad_loans_defaulters_delinq_df = spark.sql(\"select member_id from itv010698_lending_club_project.loans_defaulters_delinq group by member_id having count(*) > 1\")"
   ]
  },
  {
   "cell_type": "code",
   "execution_count": 11,
   "id": "0f8ff5a5",
   "metadata": {},
   "outputs": [
    {
     "name": "stdout",
     "output_type": "stream",
     "text": [
      "+--------------------+\n",
      "|           member_id|\n",
      "+--------------------+\n",
      "|cbede54df344cdb94...|\n",
      "|8d2c605c7ad9209cc...|\n",
      "|bbe43331566910d55...|\n",
      "|6918b9861ba5a4c67...|\n",
      "|a93a44c9d83793451...|\n",
      "+--------------------+\n",
      "only showing top 5 rows\n",
      "\n"
     ]
    }
   ],
   "source": [
    "bad_loans_defaulters_delinq_df.show(5)"
   ]
  },
  {
   "cell_type": "code",
   "execution_count": 12,
   "id": "e225f97e",
   "metadata": {},
   "outputs": [],
   "source": [
    "bad_loans_defaulters_detail_rec_enq_df = spark.sql(\"select member_id from itv010698_lending_club_project.loans_defaulters_detail_rec_enq group by member_id having count(*) > 1\")"
   ]
  },
  {
   "cell_type": "code",
   "execution_count": 13,
   "id": "248824fa",
   "metadata": {},
   "outputs": [
    {
     "name": "stdout",
     "output_type": "stream",
     "text": [
      "+--------------------+\n",
      "|           member_id|\n",
      "+--------------------+\n",
      "|675151e58a628e87b...|\n",
      "|f284044b881f218c0...|\n",
      "|a53e2f488d2d76a30...|\n",
      "|fc0e468bff11ac7c3...|\n",
      "|61be6498c93cadf89...|\n",
      "+--------------------+\n",
      "only showing top 5 rows\n",
      "\n"
     ]
    }
   ],
   "source": [
    "bad_loans_defaulters_detail_rec_enq_df.show(5)"
   ]
  },
  {
   "cell_type": "markdown",
   "id": "13d6ba88",
   "metadata": {},
   "source": [
    "### Store these bad records files on the disk"
   ]
  },
  {
   "cell_type": "code",
   "execution_count": 14,
   "id": "5ace7225",
   "metadata": {},
   "outputs": [],
   "source": [
    "bad_cust_df.repartition(1).write \\\n",
    ".format(\"csv\") \\\n",
    ".option(\"header\", \"true\") \\\n",
    ".mode(\"overwrite\") \\\n",
    ".option(\"path\", \"lending_club_project/bad_data/bad_data_customers\") \\\n",
    ".save()"
   ]
  },
  {
   "cell_type": "code",
   "execution_count": 16,
   "id": "688dbe6b",
   "metadata": {},
   "outputs": [],
   "source": [
    "bad_loans_defaulters_delinq_df.repartition(1).write \\\n",
    ".format(\"csv\") \\\n",
    ".option(\"header\", \"true\") \\\n",
    ".mode(\"overwrite\") \\\n",
    ".option(\"path\", \"lending_club_project/bad_data/bad_data_loans_defaulters_delinq\") \\\n",
    ".save()"
   ]
  },
  {
   "cell_type": "code",
   "execution_count": 17,
   "id": "680ef0ac",
   "metadata": {},
   "outputs": [],
   "source": [
    "bad_loans_defaulters_detail_rec_enq_df.repartition(1).write \\\n",
    ".format(\"csv\") \\\n",
    ".option(\"header\", \"true\") \\\n",
    ".mode(\"overwrite\") \\\n",
    ".option(\"path\", \"lending_club_project/bad_data/bad_data_loans_defaulters_detail_rec_enq\") \\\n",
    ".save()"
   ]
  },
  {
   "cell_type": "code",
   "execution_count": 15,
   "id": "7e27a75e",
   "metadata": {},
   "outputs": [],
   "source": [
    "bad_data_consolidated_df = bad_cust_df.select(\"member_id\") \\\n",
    ".union(bad_loans_defaulters_delinq_df.select(\"member_id\")) \\\n",
    ".union(bad_loans_defaulters_detail_rec_enq_df.select(\"member_id\")) \\\n",
    ".distinct()"
   ]
  },
  {
   "cell_type": "code",
   "execution_count": 16,
   "id": "a70660c7",
   "metadata": {},
   "outputs": [
    {
     "data": {
      "text/html": [
       "<table border='1'>\n",
       "<tr><th>member_id</th></tr>\n",
       "<tr><td>7115ace193e13d8f3...</td></tr>\n",
       "<tr><td>eebbd89aa7efc13e7...</td></tr>\n",
       "<tr><td>5130d0087970e032e...</td></tr>\n",
       "<tr><td>cbede54df344cdb94...</td></tr>\n",
       "<tr><td>761b2f1e61999e14e...</td></tr>\n",
       "<tr><td>4231a55d0199c619a...</td></tr>\n",
       "<tr><td>3b8ffe19f24749a73...</td></tr>\n",
       "<tr><td>d4782ddad8591f44d...</td></tr>\n",
       "<tr><td>01b2223757c3b62e7...</td></tr>\n",
       "<tr><td>f284044b881f218c0...</td></tr>\n",
       "<tr><td>a2af7506825a7dcff...</td></tr>\n",
       "<tr><td>a53e2f488d2d76a30...</td></tr>\n",
       "<tr><td>2bae2e4dd6d5f2b21...</td></tr>\n",
       "<tr><td>cd1fdca829c443fa7...</td></tr>\n",
       "<tr><td>61be6498c93cadf89...</td></tr>\n",
       "<tr><td>f99c6e9cfe3a7a2d2...</td></tr>\n",
       "<tr><td>675151e58a628e87b...</td></tr>\n",
       "<tr><td>fc0e468bff11ac7c3...</td></tr>\n",
       "<tr><td>46cb438a0bd1b7194...</td></tr>\n",
       "<tr><td>e61af5f79c2480a8b...</td></tr>\n",
       "</table>\n",
       "only showing top 20 rows\n"
      ],
      "text/plain": [
       "+--------------------+\n",
       "|           member_id|\n",
       "+--------------------+\n",
       "|cbede54df344cdb94...|\n",
       "|cd1fdca829c443fa7...|\n",
       "|4231a55d0199c619a...|\n",
       "|675151e58a628e87b...|\n",
       "|01b2223757c3b62e7...|\n",
       "|f99c6e9cfe3a7a2d2...|\n",
       "|a53e2f488d2d76a30...|\n",
       "|a2af7506825a7dcff...|\n",
       "|d4782ddad8591f44d...|\n",
       "|5130d0087970e032e...|\n",
       "|3b8ffe19f24749a73...|\n",
       "|fc0e468bff11ac7c3...|\n",
       "|2bae2e4dd6d5f2b21...|\n",
       "|61be6498c93cadf89...|\n",
       "|761b2f1e61999e14e...|\n",
       "|f284044b881f218c0...|\n",
       "|7115ace193e13d8f3...|\n",
       "|eebbd89aa7efc13e7...|\n",
       "|759c2dc5f485e5465...|\n",
       "|53789bea7edc660ed...|\n",
       "+--------------------+\n",
       "only showing top 20 rows"
      ]
     },
     "execution_count": 16,
     "metadata": {},
     "output_type": "execute_result"
    }
   ],
   "source": [
    "bad_data_consolidated_df"
   ]
  },
  {
   "cell_type": "code",
   "execution_count": 17,
   "id": "da71339e",
   "metadata": {},
   "outputs": [
    {
     "data": {
      "text/plain": [
       "3189"
      ]
     },
     "execution_count": 17,
     "metadata": {},
     "output_type": "execute_result"
    }
   ],
   "source": [
    "bad_data_consolidated_df.count()"
   ]
  },
  {
   "cell_type": "code",
   "execution_count": 21,
   "id": "16430dda",
   "metadata": {},
   "outputs": [],
   "source": [
    "bad_data_consolidated_df.write \\\n",
    ".option(\"header\", \"true\") \\\n",
    ".format(\"csv\") \\\n",
    ".mode(\"overwrite\") \\\n",
    ".option(\"path\", \"lending_club_project/bad_data/bad_data_consolidated\") \\\n",
    ".save()"
   ]
  },
  {
   "cell_type": "markdown",
   "id": "fa0ecffc",
   "metadata": {},
   "source": [
    "## Removing bad data from clean data"
   ]
  },
  {
   "cell_type": "markdown",
   "id": "c4f6df46",
   "metadata": {},
   "source": [
    "#### Clean customers data (remove bad data) and write it back to new_clean folder"
   ]
  },
  {
   "cell_type": "code",
   "execution_count": 22,
   "id": "4655e7e4",
   "metadata": {},
   "outputs": [],
   "source": [
    "bad_data_consolidated_df.createOrReplaceTempView(\"bad_data\")"
   ]
  },
  {
   "cell_type": "code",
   "execution_count": 23,
   "id": "f71884d9",
   "metadata": {},
   "outputs": [],
   "source": [
    "customers_df = spark.sql(\"\"\"\n",
    "        SELECT * FROM itv010698_lending_club_project.customers WHERE member_id NOT IN\n",
    "        (SELECT member_id FROM bad_data)\n",
    "        \"\"\")"
   ]
  },
  {
   "cell_type": "code",
   "execution_count": 25,
   "id": "c7863710",
   "metadata": {},
   "outputs": [],
   "source": [
    "customers_df.write \\\n",
    ".format(\"parquet\") \\\n",
    ".mode(\"overwrite\") \\\n",
    ".option(\"path\", \"lending_club_project/new_cleaned/customers_parquet\") \\\n",
    ".save()"
   ]
  },
  {
   "cell_type": "markdown",
   "id": "dbb21916",
   "metadata": {},
   "source": [
    "#### Clean loans_defaulters_delinq data (remove bad data) and write it back to new_clean folder"
   ]
  },
  {
   "cell_type": "code",
   "execution_count": 25,
   "id": "845546ea",
   "metadata": {},
   "outputs": [],
   "source": [
    "loan_defaulters_delinq_df = spark.sql(\"\"\"\n",
    "        SELECT * FROM itv010698_lending_club_project.loans_defaulters_delinq WHERE member_id NOT IN\n",
    "        (SELECT member_id FROM bad_data)\n",
    "        \"\"\")"
   ]
  },
  {
   "cell_type": "code",
   "execution_count": 26,
   "id": "38f9c3d4",
   "metadata": {},
   "outputs": [],
   "source": [
    "loan_defaulters_delinq_df.write \\\n",
    ".format(\"parquet\") \\\n",
    ".mode(\"overwrite\") \\\n",
    ".option(\"path\", \"lending_club_project/new_cleaned/loan_defaulters_delinq_parquet\") \\\n",
    ".save()"
   ]
  },
  {
   "cell_type": "markdown",
   "id": "9d805132",
   "metadata": {},
   "source": [
    "#### Clean loans_defaulters_detail_rec_enq data (remove bad data) and write it back to new_clean folder"
   ]
  },
  {
   "cell_type": "code",
   "execution_count": 27,
   "id": "d8b1e0e4",
   "metadata": {},
   "outputs": [],
   "source": [
    "loans_defaulters_detail_rec_enq_df = spark.sql(\"\"\"\n",
    "        SELECT * FROM itv010698_lending_club_project.loans_defaulters_detail_rec_enq WHERE member_id NOT IN\n",
    "        (SELECT member_id FROM bad_data)\n",
    "        \"\"\")"
   ]
  },
  {
   "cell_type": "code",
   "execution_count": 28,
   "id": "a9cd0ce5",
   "metadata": {},
   "outputs": [],
   "source": [
    "loans_defaulters_detail_rec_enq_df.write \\\n",
    ".format(\"parquet\") \\\n",
    ".mode(\"overwrite\") \\\n",
    ".option(\"path\", \"lending_club_project/new_cleaned/loans_defaulters_detail_rec_enq_parquet\") \\\n",
    ".save()"
   ]
  },
  {
   "cell_type": "markdown",
   "id": "466a78a1",
   "metadata": {},
   "source": [
    "## Creating external tables for the same files"
   ]
  },
  {
   "cell_type": "markdown",
   "id": "3dd3e476",
   "metadata": {},
   "source": [
    "#### customers_new"
   ]
  },
  {
   "cell_type": "code",
   "execution_count": 29,
   "id": "33c86d32",
   "metadata": {},
   "outputs": [
    {
     "data": {
      "text/html": [
       "<table border='1'>\n",
       "<tr><th></th></tr>\n",
       "</table>\n"
      ],
      "text/plain": [
       "++\n",
       "||\n",
       "++\n",
       "++"
      ]
     },
     "execution_count": 29,
     "metadata": {},
     "output_type": "execute_result"
    }
   ],
   "source": [
    "spark.sql(\"\"\"\n",
    "        CREATE EXTERNAL TABLE itv010698_lending_club_project.customers_new(\n",
    "            member_id string, \n",
    "            emp_title string, \n",
    "            emp_length int, \n",
    "            home_ownership string, \n",
    "            annual_income float, \n",
    "            address_state string, \n",
    "            address_zipcode string, \n",
    "            address_country string, \n",
    "            grade string, \n",
    "            sub_grade string, \n",
    "            verification_status string, \n",
    "            total_high_credit_limit float, \n",
    "            application_type string, \n",
    "            join_annual_income float, \n",
    "            verification_status_joint string, \n",
    "            ingest_date timestamp)\n",
    "        STORED AS PARQUET\n",
    "        LOCATION '/user/itv010698/lending_club_project/new_cleaned/customers_parquet'\n",
    "        \"\"\")"
   ]
  },
  {
   "cell_type": "markdown",
   "id": "f936a8c4",
   "metadata": {},
   "source": [
    "#### loans_defaulters_delinq_new"
   ]
  },
  {
   "cell_type": "code",
   "execution_count": 41,
   "id": "8ba6485d",
   "metadata": {},
   "outputs": [
    {
     "data": {
      "text/html": [
       "<table border='1'>\n",
       "<tr><th></th></tr>\n",
       "</table>\n"
      ],
      "text/plain": [
       "++\n",
       "||\n",
       "++\n",
       "++"
      ]
     },
     "execution_count": 41,
     "metadata": {},
     "output_type": "execute_result"
    }
   ],
   "source": [
    "spark.sql(\"\"\"\n",
    "        CREATE EXTERNAL TABLE itv010698_lending_club_project.loans_defaulters_delinq_new(\n",
    "        member_id string,\n",
    "        delinq_2yrs integer,\n",
    "        delinq_amnt float,\n",
    "        mths_since_last_delinq integer\n",
    "        )\n",
    "         STORED AS PARQUET\n",
    "        LOCATION '/user/itv010698/lending_club_project/new_cleaned/loan_defaulters_delinq_parquet'\n",
    "        \"\"\")"
   ]
  },
  {
   "cell_type": "markdown",
   "id": "22e64cba",
   "metadata": {},
   "source": [
    "#### loans_defaulters_detail_rec_enq_new"
   ]
  },
  {
   "cell_type": "code",
   "execution_count": 43,
   "id": "726990be",
   "metadata": {},
   "outputs": [
    {
     "data": {
      "text/html": [
       "<table border='1'>\n",
       "<tr><th></th></tr>\n",
       "</table>\n"
      ],
      "text/plain": [
       "++\n",
       "||\n",
       "++\n",
       "++"
      ]
     },
     "execution_count": 43,
     "metadata": {},
     "output_type": "execute_result"
    }
   ],
   "source": [
    "spark.sql(\"\"\"\n",
    "        CREATE EXTERNAL TABLE itv010698_lending_club_project.loans_defaulters_detail_rec_enq_new(\n",
    "        member_id string,\n",
    "        pub_rec integer, \n",
    "        pub_rec_bankruptcies integer, \n",
    "        inq_last_6mths integer\n",
    "        )\n",
    "         STORED AS PARQUET\n",
    "        LOCATION '/user/itv010698/lending_club_project/new_cleaned/loans_defaulters_detail_rec_enq_parquet'\n",
    "        \"\"\")"
   ]
  },
  {
   "cell_type": "markdown",
   "id": "54dca67c",
   "metadata": {},
   "source": [
    "## Confirming that member_id is not repeating in this"
   ]
  },
  {
   "cell_type": "code",
   "execution_count": 44,
   "id": "b00f9452",
   "metadata": {},
   "outputs": [
    {
     "data": {
      "text/html": [
       "<table border='1'>\n",
       "<tr><th>member_id</th><th>count(1)</th></tr>\n",
       "</table>\n"
      ],
      "text/plain": [
       "+---------+--------+\n",
       "|member_id|count(1)|\n",
       "+---------+--------+\n",
       "+---------+--------+"
      ]
     },
     "execution_count": 44,
     "metadata": {},
     "output_type": "execute_result"
    }
   ],
   "source": [
    "spark.sql(\"select member_id, count(*) from itv010698_lending_club_project.customers_new group by member_id having count(*) > 1\")"
   ]
  },
  {
   "cell_type": "code",
   "execution_count": 45,
   "id": "5e299de1",
   "metadata": {},
   "outputs": [
    {
     "data": {
      "text/html": [
       "<table border='1'>\n",
       "<tr><th>member_id</th><th>count(1)</th></tr>\n",
       "</table>\n"
      ],
      "text/plain": [
       "+---------+--------+\n",
       "|member_id|count(1)|\n",
       "+---------+--------+\n",
       "+---------+--------+"
      ]
     },
     "execution_count": 45,
     "metadata": {},
     "output_type": "execute_result"
    }
   ],
   "source": [
    "spark.sql(\"select member_id, count(*) from itv010698_lending_club_project.loans_defaulters_delinq_new group by member_id having count(*) > 1\")"
   ]
  },
  {
   "cell_type": "code",
   "execution_count": 46,
   "id": "9028b046",
   "metadata": {},
   "outputs": [
    {
     "data": {
      "text/html": [
       "<table border='1'>\n",
       "<tr><th>member_id</th><th>count(1)</th></tr>\n",
       "</table>\n"
      ],
      "text/plain": [
       "+---------+--------+\n",
       "|member_id|count(1)|\n",
       "+---------+--------+\n",
       "+---------+--------+"
      ]
     },
     "execution_count": 46,
     "metadata": {},
     "output_type": "execute_result"
    }
   ],
   "source": [
    "spark.sql(\"select member_id, count(*) from itv010698_lending_club_project.loans_defaulters_detail_rec_enq_new group by member_id having count(*) > 1\")"
   ]
  },
  {
   "cell_type": "code",
   "execution_count": null,
   "id": "82e33ab2",
   "metadata": {},
   "outputs": [],
   "source": []
  }
 ],
 "metadata": {
  "kernelspec": {
   "display_name": "Pyspark 3",
   "language": "python",
   "name": "pyspark3"
  },
  "language_info": {
   "codemirror_mode": {
    "name": "ipython",
    "version": 3
   },
   "file_extension": ".py",
   "mimetype": "text/x-python",
   "name": "python",
   "nbconvert_exporter": "python",
   "pygments_lexer": "ipython3",
   "version": "3.6.12"
  }
 },
 "nbformat": 4,
 "nbformat_minor": 5
}
